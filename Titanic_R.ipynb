{
 "cells": [
  {
   "cell_type": "markdown",
   "metadata": {
    "colab_type": "text",
    "id": "DKtlPVPOK6uu"
   },
   "source": [
    "## Groupe 2 : DEVEAUX Jérôme,NIANG Cheikh Ahmadou Bamba,PHAN Dinh Triem et VO Thanh Tin.\n"
   ]
  },
  {
   "cell_type": "code",
   "execution_count": 1,
   "metadata": {
    "colab": {
     "base_uri": "https://localhost:8080/",
     "height": 218
    },
    "colab_type": "code",
    "id": "91ISfvLIn6sE",
    "outputId": "5bbf072d-22fb-4b7c-b6c7-99b9e92e7eb2"
   },
   "outputs": [
    {
     "name": "stderr",
     "output_type": "stream",
     "text": [
      "Warning message:\n",
      "\"package 'corrplot' was built under R version 3.5.2\"\n",
      "corrplot 0.84 loaded\n",
      "\n",
      "Warning message:\n",
      "\"package 'partykit' was built under R version 3.5.3\"\n",
      "Loading required package: grid\n",
      "\n",
      "Loading required package: libcoin\n",
      "\n",
      "Warning message:\n",
      "\"package 'libcoin' was built under R version 3.5.3\"\n",
      "Loading required package: mvtnorm\n",
      "\n",
      "Warning message:\n",
      "\"package 'mvtnorm' was built under R version 3.5.3\"\n",
      "Warning message:\n",
      "\"package 'rpart' was built under R version 3.5.3\"\n",
      "Warning message:\n",
      "\"package 'ROCR' was built under R version 3.5.3\"\n",
      "Loading required package: gplots\n",
      "\n",
      "Warning message:\n",
      "\"package 'gplots' was built under R version 3.5.3\"\n",
      "\n",
      "Attaching package: 'gplots'\n",
      "\n",
      "\n",
      "The following object is masked from 'package:stats':\n",
      "\n",
      "    lowess\n",
      "\n",
      "\n",
      "Warning message:\n",
      "\"package 'randomForest' was built under R version 3.5.3\"\n",
      "randomForest 4.6-14\n",
      "\n",
      "Type rfNews() to see new features/changes/bug fixes.\n",
      "\n",
      "Warning message:\n",
      "\"package 'missForest' was built under R version 3.5.3\"\n",
      "Loading required package: foreach\n",
      "\n",
      "Warning message:\n",
      "\"package 'foreach' was built under R version 3.5.3\"\n",
      "Loading required package: itertools\n",
      "\n",
      "Warning message:\n",
      "\"package 'itertools' was built under R version 3.5.3\"\n",
      "Loading required package: iterators\n",
      "\n",
      "Warning message:\n",
      "\"package 'iterators' was built under R version 3.5.3\"\n"
     ]
    }
   ],
   "source": [
    "#install.packages('missForest') # Installer sous google colaboratory\n",
    "#install.packages('corrplot') # Installer sous google colaboratory\n",
    "#install.packages('partykit') # Installer sous google colaboratory\n",
    "#install.packages('ROCR') # Installer sous google colaboratory\n",
    "\n",
    "library(corrplot)\n",
    "library(lattice)\n",
    "library(partykit)\n",
    "library(rpart)\n",
    "library(ROCR)\n",
    "library(randomForest)\n",
    "library(missForest)"
   ]
  },
  {
   "cell_type": "markdown",
   "metadata": {
    "colab_type": "text",
    "id": "8wlkpMkKh5xx"
   },
   "source": [
    "# Partie A : Data preparation & Descriptive statistics"
   ]
  },
  {
   "cell_type": "markdown",
   "metadata": {
    "colab_type": "text",
    "id": "2xFjvIt0h5x3"
   },
   "source": [
    "##  A.1 Data preparation"
   ]
  },
  {
   "cell_type": "markdown",
   "metadata": {
    "colab_type": "text",
    "id": "a2xcGYfjh5x6"
   },
   "source": [
    "Nous récupérons les données du TitanicTrain en stockant dans la variable $Titanic1$.\n"
   ]
  },
  {
   "cell_type": "code",
   "execution_count": 2,
   "metadata": {
    "colab": {},
    "colab_type": "code",
    "collapsed": true,
    "id": "j0uOU0pKh5x8"
   },
   "outputs": [],
   "source": [
    "Titanic1 <- read.csv('titanicTrain.csv')"
   ]
  },
  {
   "cell_type": "markdown",
   "metadata": {
    "colab_type": "text",
    "id": "t2e2gQtah5yE"
   },
   "source": [
    "### A.1.1 Etude des variables"
   ]
  },
  {
   "cell_type": "markdown",
   "metadata": {
    "colab_type": "text",
    "id": "LNQN9eamh5yF"
   },
   "source": [
    "Avant de commencer à manipuler les données, nous commençons d'abord à visualiser les données. Cela nous permet de savoir quelle type de variable nous manipulons et lesquelles ne seraient pas pertinentes pour la suite."
   ]
  },
  {
   "cell_type": "code",
   "execution_count": 3,
   "metadata": {
    "colab": {
     "base_uri": "https://localhost:8080/",
     "height": 235
    },
    "colab_type": "code",
    "id": "ltP4y3Ggh5yG",
    "outputId": "a39a1b42-21c3-47b9-a196-2073f6ada835"
   },
   "outputs": [
    {
     "name": "stdout",
     "output_type": "stream",
     "text": [
      "'data.frame':\t891 obs. of  12 variables:\n",
      " $ PassengerId: int  1 2 3 4 5 6 7 8 9 10 ...\n",
      " $ Survived   : int  0 1 1 1 0 0 0 0 1 1 ...\n",
      " $ Pclass     : int  3 1 3 1 3 3 1 3 3 2 ...\n",
      " $ Name       : Factor w/ 891 levels \"Abbing, Mr. Anthony\",..: 109 191 358 277 16 559 520 629 417 581 ...\n",
      " $ Sex        : Factor w/ 2 levels \"female\",\"male\": 2 1 1 1 2 2 2 2 1 1 ...\n",
      " $ Age        : num  22 38 26 35 35 NA 54 2 27 14 ...\n",
      " $ SibSp      : int  1 1 0 1 0 0 0 3 0 1 ...\n",
      " $ Parch      : int  0 0 0 0 0 0 0 1 2 0 ...\n",
      " $ Ticket     : Factor w/ 681 levels \"110152\",\"110413\",..: 524 597 670 50 473 276 86 396 345 133 ...\n",
      " $ Fare       : num  7.25 71.28 7.92 53.1 8.05 ...\n",
      " $ Cabin      : Factor w/ 148 levels \"\",\"A10\",\"A14\",..: 1 83 1 57 1 1 131 1 1 1 ...\n",
      " $ Embarked   : Factor w/ 4 levels \"\",\"C\",\"Q\",\"S\": 4 2 4 4 4 3 4 4 4 2 ...\n"
     ]
    }
   ],
   "source": [
    "str(Titanic1)"
   ]
  },
  {
   "cell_type": "markdown",
   "metadata": {
    "colab_type": "text",
    "id": "tEtvZJhfh5yL"
   },
   "source": [
    "Nous avons 12 variables et 891 observations.\n",
    "\n",
    "Les significations des 12 variables sont : \\\\\n",
    "PassengerId : le numéro d'identification d'un passager. \\\\\n",
    "Survived : indiqué si le passager est vivant ou mort. \\\\\n",
    "Pclass : la classe (1er, 2ème et 3ème). \\\\\n",
    "Name : le nom du passager. \\\\\n",
    "Sex : indiqué si le passager est une femme ou un homme. \\\\\n",
    "Age : l'âge du passager. \\\\\n",
    "SibSp : le nombre de frères et sœurs ;ou conjoints à bord. \\\\\n",
    "Parch : le nombre de parents ou d'enfants à bord. \\\\\n",
    "Ticket : l'identifiant du ticket. \\\\\n",
    "Fare : le prix du ticket du passager. \\\\\n",
    "Cabin : l'identifiant de la cabine. \\\\\n",
    "Embarked : indiqué le port d'embarquement (C = Cherbourg, Q = Queenstown et S = Southampton) des passagers. \\\\\n",
    "\n",
    "Les types des 12 variables sont :  \\\\\n",
    "2 Variables quantitatives continues : Fare, Age. \\\\\n",
    "3 Variables quantitatives discretes : PassengerId, SibSp ,Parch. \\\\\n",
    "7 Variables qualitatives nominales : Survived, Pclass, Name, Sex, Ticket, Cabin, Embarked. \\\\"
   ]
  },
  {
   "cell_type": "markdown",
   "metadata": {
    "colab_type": "text",
    "id": "Y7SnhN6rh5yM"
   },
   "source": [
    "Summary permet d'avoir un résumé de l'ensemble des variables. Il permet d'avoir les quantiles, la quantités par modalités, les valeurs manquantes par variables."
   ]
  },
  {
   "cell_type": "code",
   "execution_count": 4,
   "metadata": {
    "colab": {
     "base_uri": "https://localhost:8080/",
     "height": 554
    },
    "colab_type": "code",
    "id": "MRTwYyYJh5yO",
    "outputId": "1e6c651d-c054-428c-b923-96259efca5ce"
   },
   "outputs": [
    {
     "data": {
      "text/plain": [
       "  PassengerId       Survived          Pclass     \n",
       " Min.   :  1.0   Min.   :0.0000   Min.   :1.000  \n",
       " 1st Qu.:223.5   1st Qu.:0.0000   1st Qu.:2.000  \n",
       " Median :446.0   Median :0.0000   Median :3.000  \n",
       " Mean   :446.0   Mean   :0.3838   Mean   :2.309  \n",
       " 3rd Qu.:668.5   3rd Qu.:1.0000   3rd Qu.:3.000  \n",
       " Max.   :891.0   Max.   :1.0000   Max.   :3.000  \n",
       "                                                 \n",
       "                                    Name         Sex           Age       \n",
       " Abbing, Mr. Anthony                  :  1   female:314   Min.   : 0.42  \n",
       " Abbott, Mr. Rossmore Edward          :  1   male  :577   1st Qu.:20.12  \n",
       " Abbott, Mrs. Stanton (Rosa Hunt)     :  1                Median :28.00  \n",
       " Abelson, Mr. Samuel                  :  1                Mean   :29.70  \n",
       " Abelson, Mrs. Samuel (Hannah Wizosky):  1                3rd Qu.:38.00  \n",
       " Adahl, Mr. Mauritz Nils Martin       :  1                Max.   :80.00  \n",
       " (Other)                              :885                NA's   :177    \n",
       "     SibSp           Parch             Ticket         Fare       \n",
       " Min.   :0.000   Min.   :0.0000   1601    :  7   Min.   :  0.00  \n",
       " 1st Qu.:0.000   1st Qu.:0.0000   347082  :  7   1st Qu.:  7.91  \n",
       " Median :0.000   Median :0.0000   CA. 2343:  7   Median : 14.45  \n",
       " Mean   :0.523   Mean   :0.3816   3101295 :  6   Mean   : 32.20  \n",
       " 3rd Qu.:1.000   3rd Qu.:0.0000   347088  :  6   3rd Qu.: 31.00  \n",
       " Max.   :8.000   Max.   :6.0000   CA 2144 :  6   Max.   :512.33  \n",
       "                                  (Other) :852                   \n",
       "         Cabin     Embarked\n",
       "            :687    :  2   \n",
       " B96 B98    :  4   C:168   \n",
       " C23 C25 C27:  4   Q: 77   \n",
       " G6         :  4   S:644   \n",
       " C22 C26    :  3           \n",
       " D          :  3           \n",
       " (Other)    :186           "
      ]
     },
     "metadata": {},
     "output_type": "display_data"
    }
   ],
   "source": [
    "summary(Titanic1)"
   ]
  },
  {
   "cell_type": "markdown",
   "metadata": {
    "colab_type": "text",
    "id": "VAFPddBwh5yS"
   },
   "source": [
    "Les nombres de valeurs manquantes par variables sont : \\\\\n",
    "Age : 177. \\\\\n",
    "cabin : 687. \\\\\n",
    "embarked : 2. \\\\\n",
    "\n",
    "Les variables que nous pouvons enlever sont : \\\\\n",
    "Cabin : plus de 70% de valeurs manquantes. \\\\\n",
    "PassengerID : pas pertinent. \\\\\n",
    "Name : pas pertinent ici mais il pourrait donner le rang social. \\\\\n",
    "Ticket : Pas pertinent ici mais il pourrait nous dire qui a commandé en même temps. \\\\\n",
    "\n"
   ]
  },
  {
   "cell_type": "markdown",
   "metadata": {
    "colab_type": "text",
    "id": "I8A0xMLOh5yT"
   },
   "source": [
    "### A.1.2 Variables qualitatives\n"
   ]
  },
  {
   "cell_type": "markdown",
   "metadata": {
    "colab_type": "text",
    "id": "a5RxFriOh5yU"
   },
   "source": [
    "Nous constatons que le summary considére que les variables Survived et Pclass comme des variables quantitatives alors qu'elles sont qualitatives. \n",
    "\n",
    "La commande as.factor() permet d'indiquer qu'une variable est qualitative et celle levels() permet de nommer les modalités."
   ]
  },
  {
   "cell_type": "code",
   "execution_count": 5,
   "metadata": {
    "colab": {
     "base_uri": "https://localhost:8080/",
     "height": 50
    },
    "colab_type": "code",
    "id": "1z5ErsUyh5yV",
    "outputId": "175108f3-8777-4524-eaf6-85c1f6cc9004"
   },
   "outputs": [
    {
     "data": {
      "text/html": [
       "<style>\n",
       ".list-inline {list-style: none; margin:0; padding: 0}\n",
       ".list-inline>li {display: inline-block}\n",
       ".list-inline>li:not(:last-child)::after {content: \"\\00b7\"; padding: 0 .5ex}\n",
       "</style>\n",
       "<ol class=list-inline><li>'0'</li><li>'1'</li></ol>\n"
      ],
      "text/latex": [
       "\\begin{enumerate*}\n",
       "\\item '0'\n",
       "\\item '1'\n",
       "\\end{enumerate*}\n"
      ],
      "text/markdown": [
       "1. '0'\n",
       "2. '1'\n",
       "\n",
       "\n"
      ],
      "text/plain": [
       "[1] \"0\" \"1\""
      ]
     },
     "metadata": {},
     "output_type": "display_data"
    },
    {
     "data": {
      "text/html": [
       "<style>\n",
       ".list-inline {list-style: none; margin:0; padding: 0}\n",
       ".list-inline>li {display: inline-block}\n",
       ".list-inline>li:not(:last-child)::after {content: \"\\00b7\"; padding: 0 .5ex}\n",
       "</style>\n",
       "<ol class=list-inline><li>'1'</li><li>'2'</li><li>'3'</li></ol>\n"
      ],
      "text/latex": [
       "\\begin{enumerate*}\n",
       "\\item '1'\n",
       "\\item '2'\n",
       "\\item '3'\n",
       "\\end{enumerate*}\n"
      ],
      "text/markdown": [
       "1. '1'\n",
       "2. '2'\n",
       "3. '3'\n",
       "\n",
       "\n"
      ],
      "text/plain": [
       "[1] \"1\" \"2\" \"3\""
      ]
     },
     "metadata": {},
     "output_type": "display_data"
    }
   ],
   "source": [
    "Titanic1$Survived <- as.factor(Titanic1$Survived)\n",
    "levels(Titanic1$Survived)\n",
    "levels(Titanic1$Survived) <- c(\"dead\", \"alive\")\n",
    "Titanic1$Pclass <- as.factor(Titanic1$Pclass)\n",
    "levels(Titanic1$Pclass)\n",
    "levels(Titanic1$Pclass) <- paste(\"class\", 1:3) #\" concaténation\"\n",
    "xti=Titanic1 # variable intermédiaire pour la partie C"
   ]
  },
  {
   "cell_type": "markdown",
   "metadata": {
    "colab_type": "text",
    "id": "2sAWx3jTh5yY"
   },
   "source": [
    "### A.1.3 Données triées"
   ]
  },
  {
   "cell_type": "markdown",
   "metadata": {
    "colab_type": "text",
    "id": "qA34hTwrgtUp"
   },
   "source": [
    "Nous récupérons seulement les variables pertinentes pour la suite du projet en les stockant dans $Titanic2$\n",
    "\n",
    "Nous avons 8 variables pertinentes qui sont : \\\\\n",
    "2 Variables quantitatives continues : Fare, Age. \\\\\n",
    "2 Variables quantitatives discretes : SibSp ,Parch. \\\\\n",
    "4 Variables qualitatives nominales : Survived, Pclass, Sex, Embarked. \\\\"
   ]
  },
  {
   "cell_type": "code",
   "execution_count": 6,
   "metadata": {
    "colab": {
     "base_uri": "https://localhost:8080/",
     "height": 437
    },
    "colab_type": "code",
    "id": "xvIFrTdih5yZ",
    "outputId": "0946b2ad-e6b1-419a-defa-855d7289f147"
   },
   "outputs": [
    {
     "name": "stdout",
     "output_type": "stream",
     "text": [
      "'data.frame':\t891 obs. of  8 variables:\n",
      " $ Survived: Factor w/ 2 levels \"dead\",\"alive\": 1 2 2 2 1 1 1 1 2 2 ...\n",
      " $ Pclass  : Factor w/ 3 levels \"class 1\",\"class 2\",..: 3 1 3 1 3 3 1 3 3 2 ...\n",
      " $ Sex     : Factor w/ 2 levels \"female\",\"male\": 2 1 1 1 2 2 2 2 1 1 ...\n",
      " $ Age     : num  22 38 26 35 35 NA 54 2 27 14 ...\n",
      " $ SibSp   : int  1 1 0 1 0 0 0 3 0 1 ...\n",
      " $ Parch   : int  0 0 0 0 0 0 0 1 2 0 ...\n",
      " $ Fare    : num  7.25 71.28 7.92 53.1 8.05 ...\n",
      " $ Embarked: Factor w/ 4 levels \"\",\"C\",\"Q\",\"S\": 4 2 4 4 4 3 4 4 4 2 ...\n"
     ]
    },
    {
     "data": {
      "text/plain": [
       "  Survived       Pclass        Sex           Age            SibSp      \n",
       " dead :549   class 1:216   female:314   Min.   : 0.42   Min.   :0.000  \n",
       " alive:342   class 2:184   male  :577   1st Qu.:20.12   1st Qu.:0.000  \n",
       "             class 3:491                Median :28.00   Median :0.000  \n",
       "                                        Mean   :29.70   Mean   :0.523  \n",
       "                                        3rd Qu.:38.00   3rd Qu.:1.000  \n",
       "                                        Max.   :80.00   Max.   :8.000  \n",
       "                                        NA's   :177                    \n",
       "     Parch             Fare        Embarked\n",
       " Min.   :0.0000   Min.   :  0.00    :  2   \n",
       " 1st Qu.:0.0000   1st Qu.:  7.91   C:168   \n",
       " Median :0.0000   Median : 14.45   Q: 77   \n",
       " Mean   :0.3816   Mean   : 32.20   S:644   \n",
       " 3rd Qu.:0.0000   3rd Qu.: 31.00           \n",
       " Max.   :6.0000   Max.   :512.33           \n",
       "                                           "
      ]
     },
     "metadata": {},
     "output_type": "display_data"
    }
   ],
   "source": [
    "Titanic2 = Titanic1[c(2,3,5:8,10,12)]\n",
    "str(Titanic2)\n",
    "summary(Titanic2)"
   ]
  },
  {
   "cell_type": "markdown",
   "metadata": {
    "colab_type": "text",
    "id": "-YR3oHjrh5ye"
   },
   "source": [
    "## A.2 Descriptive statistics"
   ]
  },
  {
   "cell_type": "markdown",
   "metadata": {
    "colab_type": "text",
    "id": "bu0ak7VJh5yf"
   },
   "source": [
    "L'étude descritptive en statistique est très importante. Il nous permet de donner un sens aux données. \n",
    "\n",
    "Dans la première partie, nous allons faire une descriptive unidimensionnelle en examinant les variables qualitatives et celles quantitatives séparément. \n",
    "\n",
    "Dans la deuxième partie, nous allons faire une descriptive bidimensionnelle permenttent de visualiser les interactions entre les différents types de variables (qualitative, quantitative et qualitative-quantitative)."
   ]
  },
  {
   "cell_type": "markdown",
   "metadata": {
    "colab_type": "text",
    "id": "4bmzIrwKh5yg"
   },
   "source": [
    "### A.2.1 Description unidimensionnelle"
   ]
  },
  {
   "cell_type": "markdown",
   "metadata": {
    "colab_type": "text",
    "id": "RmL5oJo1h5yh"
   },
   "source": [
    "#### A.2.1.1 Variables qualitatives"
   ]
  },
  {
   "cell_type": "markdown",
   "metadata": {
    "colab_type": "text",
    "id": "nC8TsLAxh5yi"
   },
   "source": [
    "Nous avons 4 Variables qualitatives nominales qui sont : Survived, Pclass, Sex, Embarked.\n",
    "\n"
   ]
  },
  {
   "cell_type": "code",
   "execution_count": 7,
   "metadata": {
    "colab": {
     "base_uri": "https://localhost:8080/",
     "height": 218
    },
    "colab_type": "code",
    "id": "TytSLCk2h5yi",
    "outputId": "72ff1630-6874-4064-c57b-1b25eb5826d2"
   },
   "outputs": [
    {
     "data": {
      "text/plain": [
       "\n",
       " dead alive \n",
       "  549   342 "
      ]
     },
     "metadata": {},
     "output_type": "display_data"
    },
    {
     "data": {
      "text/plain": [
       "\n",
       "class 1 class 2 class 3 \n",
       "    216     184     491 "
      ]
     },
     "metadata": {},
     "output_type": "display_data"
    },
    {
     "data": {
      "text/plain": [
       "\n",
       "female   male \n",
       "   314    577 "
      ]
     },
     "metadata": {},
     "output_type": "display_data"
    },
    {
     "data": {
      "text/plain": [
       "\n",
       "      C   Q   S \n",
       "  2 168  77 644 "
      ]
     },
     "metadata": {},
     "output_type": "display_data"
    }
   ],
   "source": [
    "Survived = table(Titanic2$Survived)\n",
    "Survived\n",
    "Pclass = table(Titanic2$Pclass)\n",
    "Pclass\n",
    "Sex = table(Titanic2$Sex)\n",
    "Sex\n",
    "Embarked = table(Titanic2$Embarked)\n",
    "Embarked"
   ]
  },
  {
   "cell_type": "code",
   "execution_count": 8,
   "metadata": {
    "colab": {
     "base_uri": "https://localhost:8080/",
     "height": 437
    },
    "colab_type": "code",
    "id": "STWo5GPVh5yl",
    "outputId": "42682cb3-27cf-4edb-f0a8-76d5e65711ff"
   },
   "outputs": [
    {
     "data": {
      "image/png": "[encoded data removed]",
      "text/plain": [
       "plot without title"
      ]
     },
     "metadata": {
      "image/png": {
       "height": 420,
       "width": 420
      }
     },
     "output_type": "display_data"
    }
   ],
   "source": [
    "par(mfrow=c(2,2))\n",
    "pie(Survived)\n",
    "pie(Pclass)\n",
    "pie(Sex)\n",
    "pie(Embarked)"
   ]
  },
  {
   "cell_type": "markdown",
   "metadata": {
    "colab_type": "text",
    "id": "_F26u9Mah5yp"
   },
   "source": [
    "Nous constatons que : \\\\\n",
    "le nombre de mort est plus important que celui de vivant. Cela est logique car le naufrage du Titannic est l'une des plus grandes catastrophes maritimes survenues en temps de paix et la plus grande pour l'époque. \\\\\n",
    "le nombre d'homme est plus important que celui de femme. \\\\\n",
    "le nombre de classe 3 est plus important que les autres classes. Cela est logique car générémenlement il y a plus de places pour les classes standards. \\\\\n",
    "le nombre de passager qui a embarqué dans le port S est plus important que les autres ports car Southampton était le port de départ de trajet du Titanic. \\\\"
   ]
  },
  {
   "cell_type": "markdown",
   "metadata": {
    "colab_type": "text",
    "id": "RIrrOHGah5yq"
   },
   "source": [
    "#### A.2.1.2 Variables quantitaves"
   ]
  },
  {
   "cell_type": "markdown",
   "metadata": {
    "colab_type": "text",
    "id": "PgXyKgOwh5yr"
   },
   "source": [
    "Nous avons 4 variables quantitaves: \\\\\n",
    "2 Variables quantitatives continues : Fare, Age. \\\\\n",
    "2 Variables quantitatives discrets : SibSp ,Parch. \\\\"
   ]
  },
  {
   "cell_type": "code",
   "execution_count": 9,
   "metadata": {
    "colab": {
     "base_uri": "https://localhost:8080/",
     "height": 437
    },
    "colab_type": "code",
    "id": "hqTnLJtFh5yv",
    "outputId": "936721f5-8913-4d43-d0b5-5f1d6b8cbfae"
   },
   "outputs": [
    {
     "data": {
      "image/png": "[encoded data removed]",
      "text/plain": [
       "Plot with title \"Fare\""
      ]
     },
     "metadata": {
      "image/png": {
       "height": 420,
       "width": 420
      }
     },
     "output_type": "display_data"
    }
   ],
   "source": [
    "par(mfrow=c(2,2))\n",
    "boxplot(Titanic2$Age,col=\"brown\",main=\"Age\")\n",
    "boxplot(Titanic2$SibSp,col=\"green\",main=\"SibSp\")\n",
    "boxplot(Titanic2$Parch,col=\"yellow\",main=\"Parch\")\n",
    "boxplot(Titanic2$Fare,col=\"red\",main=\"Fare\")"
   ]
  },
  {
   "cell_type": "markdown",
   "metadata": {
    "colab_type": "text",
    "id": "fP6yKkWXh5yy"
   },
   "source": [
    "Nous constatons que : \\\\\n",
    "la majorité des passagers a entre 20 et 40 ans. Il y a très peu de valeurs extrèmes ( entre 60 et 80 ans). \\\\\n",
    "Le nombre de frères et sœurs ;ou conjoints à bord est généralement de 0 et 1. \\\\\n",
    "le nombre de parents ou d'enfants à bord est généralement à 0. \\\\\n",
    "le nombre des tickets à prix bas est plus élévé que ceux à prix haut. Cela est logique car nous avons constaté ci-dessus qu'il y a plus de 3ème classe. \\\\"
   ]
  },
  {
   "cell_type": "markdown",
   "metadata": {
    "colab_type": "text",
    "id": "1bbC5Sc2h5yz"
   },
   "source": [
    "### A.2.2 Description bidimensionnelle"
   ]
  },
  {
   "cell_type": "markdown",
   "metadata": {
    "colab_type": "text",
    "id": "m_8VErrmz-vX"
   },
   "source": [
    "Nous nous intéressons quelle variables influencent le plus sur la survie du passager."
   ]
  },
  {
   "cell_type": "markdown",
   "metadata": {
    "colab_type": "text",
    "id": "U-_aNOaBh5y0"
   },
   "source": [
    "#### A.2.2.1 Interaction entre variables qualitatives"
   ]
  },
  {
   "cell_type": "markdown",
   "metadata": {
    "colab_type": "text",
    "id": "9a8UkJ5Sxy5v"
   },
   "source": [
    "Nous avons 4 Variables qualitatives nominales qui sont : Survived, Pclass, Sex, Embarked.\n"
   ]
  },
  {
   "cell_type": "code",
   "execution_count": 10,
   "metadata": {
    "colab": {
     "base_uri": "https://localhost:8080/",
     "height": 1000
    },
    "colab_type": "code",
    "id": "kKaIEzLCzdlZ",
    "outputId": "6e1a51e8-312c-4d3d-9f0a-a9376e302e0a"
   },
   "outputs": [
    {
     "data": {
      "image/png": "[encoded data removed]",
      "text/plain": [
       "plot without title"
      ]
     },
     "metadata": {
      "image/png": {
       "height": 420,
       "width": 420
      }
     },
     "output_type": "display_data"
    },
    {
     "data": {
      "image/png": "[encoded data removed]",
      "text/plain": [
       "plot without title"
      ]
     },
     "metadata": {
      "image/png": {
       "height": 420,
       "width": 420
      }
     },
     "output_type": "display_data"
    },
    {
     "data": {
      "image/png": "[encoded data removed]",
      "text/plain": [
       "plot without title"
      ]
     },
     "metadata": {
      "image/png": {
       "height": 420,
       "width": 420
      }
     },
     "output_type": "display_data"
    }
   ],
   "source": [
    "histogram(~Survived | Sex , data = Titanic2)\n",
    "histogram(~Survived | Pclass , data = Titanic2)\n",
    "histogram(~Survived | Embarked, data = Titanic2)"
   ]
  },
  {
   "cell_type": "markdown",
   "metadata": {
    "colab_type": "text",
    "id": "hZTDBxS386AJ"
   },
   "source": [
    "Nous constatons que : \\\\\n",
    "Les femmes ont plus de chance de survie que les hommes car la société privilégie toujours la survie des femmes et des enfants en priorité. \\\\\n",
    "La troisième classe a moins de chance de survie comme elle est généralement situé en bas des navires. Par conséquent, elle doit parcourir plus de distance donc elle prend beaucoup plus de temps pour arriver au canaux de sauvetages. \\\\\n",
    "Il n'y a pas d'influcence du port d'embarquement sur la survie d'un passage. Cependant, il y a une quatrième modalité qui apparaît, cette modalité est les deux valeurs manquantes. \\\\\n",
    "\n",
    "\n",
    "\n"
   ]
  },
  {
   "cell_type": "markdown",
   "metadata": {
    "colab_type": "text",
    "id": "TCt-oNi8h5y2"
   },
   "source": [
    "#### A.2.2.2  Interaction entre variables quantitatives et qualitatives"
   ]
  },
  {
   "cell_type": "code",
   "execution_count": 11,
   "metadata": {
    "colab": {
     "base_uri": "https://localhost:8080/",
     "height": 437
    },
    "colab_type": "code",
    "id": "L7lXMiQHswTk",
    "outputId": "e930458b-f586-425f-dac4-eca4490dbf2a"
   },
   "outputs": [
    {
     "data": {
      "image/png": "[encoded data removed]",
      "text/plain": [
       "plot without title"
      ]
     },
     "metadata": {
      "image/png": {
       "height": 420,
       "width": 420
      }
     },
     "output_type": "display_data"
    }
   ],
   "source": [
    "par(mfrow=c(2,2))\n",
    "boxplot(Age~Survived, data = Titanic2) # ou boxplot(Titanic2$Age~Titanic2$Survived)\n",
    "boxplot(Fare~Survived, data = Titanic2)\n",
    "boxplot(SibSp~Survived, data = Titanic2)\n",
    "boxplot(Parch~Survived, data = Titanic2)"
   ]
  },
  {
   "cell_type": "markdown",
   "metadata": {
    "colab_type": "text",
    "id": "SCirkQ6UxLeX"
   },
   "source": [
    "Nous constatons : \n",
    "les passagers qui ont pris des tickets à prix haut ont plus de chance de survie,cela est cohérent car les tickts à prix haut correspondent au passagers de 1er et 2ème classses. \\\\\n",
    "l'age et le nombre de frères et sœurs ;ou conjoints à bord n'ont pas d'influence sur la survie d'un passager. \\\\\n",
    "le nombre de parents ou d'enfants à bord augment les chances de survie car les enfants et les parents sont peut être évacués en premier. \\\\\n"
   ]
  },
  {
   "cell_type": "markdown",
   "metadata": {
    "colab_type": "text",
    "id": "xw4XfOnW4fVz"
   },
   "source": [
    "### A.2.3 Description multidimensionnelle"
   ]
  },
  {
   "cell_type": "code",
   "execution_count": 12,
   "metadata": {
    "colab": {
     "base_uri": "https://localhost:8080/",
     "height": 857
    },
    "colab_type": "code",
    "id": "J5uD_JGg_mWn",
    "outputId": "a150e75d-d142-4d8d-88bc-325d48cbf015"
   },
   "outputs": [
    {
     "data": {
      "image/png": "[encoded data removed]",
      "text/plain": [
       "plot without title"
      ]
     },
     "metadata": {
      "image/png": {
       "height": 420,
       "width": 420
      }
     },
     "output_type": "display_data"
    },
    {
     "data": {
      "image/png": "[encoded data removed]",
      "text/plain": [
       "plot without title"
      ]
     },
     "metadata": {
      "image/png": {
       "height": 420,
       "width": 420
      }
     },
     "output_type": "display_data"
    }
   ],
   "source": [
    "histogram(~Survived | Sex + Pclass, data = Titanic2)\n",
    "histogram(~Survived | Sex + Embarked , data = Titanic2)"
   ]
  },
  {
   "cell_type": "markdown",
   "metadata": {
    "colab_type": "text",
    "id": "Sq-wphBU_x5f"
   },
   "source": [
    "Tout d'abord nous constatons que selon la classe des passengers il n'y a pas de changement de comportement. En effet, que l'on soit dans la classe 1, 2 ou 3, les femmes ont toujours beaucoup de chances de survie que les hommes. Même si nous avons vu précédemment qu'il y a des interactions entre la survie et la classe et entre la survie et le sex, nous pouvons dire qu'il n'y a pas de dépendance entre l'effet du sexe sur la survie et la classe de l'individu. \n",
    "\n",
    "Il en est de même pour le second histogramme. Nous pouvons constater, à l'instar du graphe précédent, qu'il n'y a pas de dépendance entre l'effet du sexe sur la survie et le port d'embarquement. "
   ]
  },
  {
   "cell_type": "markdown",
   "metadata": {},
   "source": [
    "## Conclusion"
   ]
  },
  {
   "cell_type": "markdown",
   "metadata": {},
   "source": [
    "Au final, notre jeu de donnée $Titanic2$ contient 8 variables.\n",
    "A priori, les personnes qui avaient le plus de chance de survie sur le Titanic étaient les femmes ayant des enfants de la première classe."
   ]
  },
  {
   "cell_type": "markdown",
   "metadata": {
    "colab_type": "text",
    "id": "qGCPPJTUP_eu"
   },
   "source": [
    "# Partie B : Sans la variable Age"
   ]
  },
  {
   "cell_type": "markdown",
   "metadata": {
    "colab_type": "text",
    "id": "wk11lxn59Tkd"
   },
   "source": [
    "Avant de commencer, nous enlèvons les deux individus qui n'ont pas de valeur pour la variable \"Embarked\". \\\\\n",
    "On définit aussi les données d'apprentisage dans la variable $train$ et les donnée de test dans la variable $test$. \\\\"
   ]
  },
  {
   "cell_type": "code",
   "execution_count": 13,
   "metadata": {
    "colab": {
     "base_uri": "https://localhost:8080/",
     "height": 571
    },
    "colab_type": "code",
    "id": "9ecE_82iO_cO",
    "outputId": "00b4a510-8122-4c41-aa41-fa8f743b0567"
   },
   "outputs": [
    {
     "name": "stdout",
     "output_type": "stream",
     "text": [
      "[1]  62 830\n"
     ]
    },
    {
     "data": {
      "text/plain": [
       "  PassengerId   Survived       Pclass   \n",
       " Min.   :  1   dead :549   class 1:214  \n",
       " 1st Qu.:224   alive:340   class 2:184  \n",
       " Median :446               class 3:491  \n",
       " Mean   :446                            \n",
       " 3rd Qu.:668                            \n",
       " Max.   :891                            \n",
       "                                        \n",
       "                                    Name         Sex           Age       \n",
       " Abbing, Mr. Anthony                  :  1   female:312   Min.   : 0.42  \n",
       " Abbott, Mr. Rossmore Edward          :  1   male  :577   1st Qu.:20.00  \n",
       " Abbott, Mrs. Stanton (Rosa Hunt)     :  1                Median :28.00  \n",
       " Abelson, Mr. Samuel                  :  1                Mean   :29.64  \n",
       " Abelson, Mrs. Samuel (Hannah Wizosky):  1                3rd Qu.:38.00  \n",
       " Adahl, Mr. Mauritz Nils Martin       :  1                Max.   :80.00  \n",
       " (Other)                              :883                NA's   :177    \n",
       "     SibSp            Parch             Ticket         Fare        \n",
       " Min.   :0.0000   Min.   :0.0000   1601    :  7   Min.   :  0.000  \n",
       " 1st Qu.:0.0000   1st Qu.:0.0000   347082  :  7   1st Qu.:  7.896  \n",
       " Median :0.0000   Median :0.0000   CA. 2343:  7   Median : 14.454  \n",
       " Mean   :0.5242   Mean   :0.3825   3101295 :  6   Mean   : 32.097  \n",
       " 3rd Qu.:1.0000   3rd Qu.:0.0000   347088  :  6   3rd Qu.: 31.000  \n",
       " Max.   :8.0000   Max.   :6.0000   CA 2144 :  6   Max.   :512.329  \n",
       "                                   (Other) :850                    \n",
       "         Cabin     Embarked\n",
       "            :687   C:168   \n",
       " B96 B98    :  4   Q: 77   \n",
       " C23 C25 C27:  4   S:644   \n",
       " G6         :  4           \n",
       " C22 C26    :  3           \n",
       " D          :  3           \n",
       " (Other)    :184           "
      ]
     },
     "metadata": {},
     "output_type": "display_data"
    }
   ],
   "source": [
    "x=Titanic1\n",
    "manquant=which(x$Embarked==\"\")\n",
    "print(manquant)\n",
    "x=x[-(manquant),]\n",
    "x$Embarked=as.numeric(x$Embarked)\n",
    "x$Embarked=as.factor(x$Embarked)\n",
    "levels(x$Embarked) <- c(\"C\", \"Q\",\"S\")\n",
    "\n",
    "summary(x)\n",
    "set.seed(0)\n",
    "n <- nrow(x) \n",
    "trainIndices <- sample(n, size = 2 * n / 3)\n",
    "train <- x[trainIndices, ]\n",
    "test <- x[-trainIndices, ]"
   ]
  },
  {
   "cell_type": "markdown",
   "metadata": {
    "colab_type": "text",
    "id": "jLtcsWc_QNau"
   },
   "source": [
    "## B.1 Régression logistique"
   ]
  },
  {
   "cell_type": "markdown",
   "metadata": {
    "colab_type": "text",
    "id": "qBmoHlbDQJ9P"
   },
   "source": [
    "Dans cette partie, nous avons enlevé les variables PassengerId, Name, Ticket, Cabin, Age pour que les raisons que nous avons lu dans la Partie A. \n"
   ]
  },
  {
   "cell_type": "markdown",
   "metadata": {
    "colab_type": "text",
    "id": "wgVptrilQbae"
   },
   "source": [
    "### B.1.1 Sans interaction"
   ]
  },
  {
   "cell_type": "markdown",
   "metadata": {
    "colab_type": "text",
    "id": "48-KEUwo-4zR"
   },
   "source": [
    "D'abord, on considère un modèle simple qui est le modèle régression logistique sans interaction. Par la méthode \"descendant\", on obtient le modèle log.lm.step. "
   ]
  },
  {
   "cell_type": "code",
   "execution_count": 14,
   "metadata": {
    "colab": {},
    "colab_type": "code",
    "collapsed": true,
    "id": "pVyC3h-pQd8v"
   },
   "outputs": [],
   "source": [
    "donnee_sans_age_train=train[,c(-1,-4,-6,-9,-11)]\n",
    "donnee_test=test[,c(-1,-4,-6,-9,-11)]\n",
    "levels(donnee_test$Survived) <- c(\"FALSE\", \"TRUE\")\n",
    "# estimation du modèle complet\n",
    "log.lm=glm(Survived~.,data=donnee_sans_age_train,family=binomial)\n",
    "# significativité des paramètres"
   ]
  },
  {
   "cell_type": "code",
   "execution_count": 15,
   "metadata": {
    "colab": {
     "base_uri": "https://localhost:8080/",
     "height": 554
    },
    "colab_type": "code",
    "id": "EbHfLV7afUwp",
    "outputId": "dd92d5ca-6b2f-4d58-a547-7d073329571a"
   },
   "outputs": [
    {
     "data": {
      "text/plain": [
       "  PassengerId     Survived       Pclass   \n",
       " Min.   :  1.0   dead :364   class 1:145  \n",
       " 1st Qu.:220.8   alive:228   class 2:120  \n",
       " Median :439.5               class 3:327  \n",
       " Mean   :443.9                            \n",
       " 3rd Qu.:663.2                            \n",
       " Max.   :891.0                            \n",
       "                                          \n",
       "                                             Name         Sex     \n",
       " Abbott, Mr. Rossmore Edward                   :  1   female:219  \n",
       " Abelson, Mr. Samuel                           :  1   male  :373  \n",
       " Adams, Mr. John                               :  1               \n",
       " Ahlin, Mrs. Johan (Johanna Persdotter Larsson):  1               \n",
       " Aks, Mrs. Sam (Leah Rosen)                    :  1               \n",
       " Albimona, Mr. Nassef Cassem                   :  1               \n",
       " (Other)                                       :586               \n",
       "      Age            SibSp            Parch            Ticket   \n",
       " Min.   : 0.42   Min.   :0.0000   Min.   :0.0000   3101295:  5  \n",
       " 1st Qu.:20.00   1st Qu.:0.0000   1st Qu.:0.0000   347082 :  5  \n",
       " Median :28.00   Median :0.0000   Median :0.0000   1601   :  4  \n",
       " Mean   :29.38   Mean   :0.5135   Mean   :0.3682   19950  :  4  \n",
       " 3rd Qu.:38.00   3rd Qu.:1.0000   3rd Qu.:0.0000   382652 :  4  \n",
       " Max.   :80.00   Max.   :8.0000   Max.   :6.0000   CA 2144:  4  \n",
       " NA's   :120                                       (Other):566  \n",
       "      Fare                 Cabin     Embarked\n",
       " Min.   :  0.000              :455   C:114   \n",
       " 1st Qu.:  7.925   C23 C25 C27:  4   Q: 55   \n",
       " Median : 14.458   G6         :  4   S:423   \n",
       " Mean   : 33.430   B96 B98    :  3           \n",
       " 3rd Qu.: 31.275   D          :  3           \n",
       " Max.   :512.329   B22        :  2           \n",
       "                   (Other)    :121           "
      ]
     },
     "metadata": {},
     "output_type": "display_data"
    }
   ],
   "source": [
    "summary(train)"
   ]
  },
  {
   "cell_type": "code",
   "execution_count": 16,
   "metadata": {
    "colab": {
     "base_uri": "https://localhost:8080/",
     "height": 554
    },
    "colab_type": "code",
    "id": "Vb2taPmUQn1b",
    "outputId": "1c1bcb82-3314-4d3f-d32a-faae143575ee"
   },
   "outputs": [
    {
     "name": "stdout",
     "output_type": "stream",
     "text": [
      "Start:  AIC=558.66\n",
      "Survived ~ Pclass + Sex + SibSp + Parch + Fare + Embarked\n",
      "\n",
      "           Df Deviance    AIC\n",
      "- Embarked  2   541.16 555.16\n",
      "- Fare      1   541.07 557.07\n",
      "- Parch     1   541.92 557.92\n",
      "<none>          540.66 558.66\n",
      "- SibSp     1   544.34 560.34\n",
      "- Pclass    2   568.38 582.38\n",
      "- Sex       1   705.50 721.50\n",
      "\n",
      "Step:  AIC=555.16\n",
      "Survived ~ Pclass + Sex + SibSp + Parch + Fare\n",
      "\n",
      "         Df Deviance    AIC\n",
      "- Fare    1   541.64 553.64\n",
      "- Parch   1   542.48 554.48\n",
      "<none>        541.16 555.16\n",
      "- SibSp   1   545.25 557.25\n",
      "- Pclass  2   570.32 580.32\n",
      "- Sex     1   711.45 723.45\n",
      "\n",
      "Step:  AIC=553.64\n",
      "Survived ~ Pclass + Sex + SibSp + Parch\n",
      "\n",
      "         Df Deviance    AIC\n",
      "- Parch   1   542.64 552.64\n",
      "<none>        541.64 553.64\n",
      "- SibSp   1   545.35 555.35\n",
      "- Pclass  2   600.29 608.29\n",
      "- Sex     1   715.40 725.40\n",
      "\n",
      "Step:  AIC=552.64\n",
      "Survived ~ Pclass + Sex + SibSp\n",
      "\n",
      "         Df Deviance    AIC\n",
      "<none>        542.64 552.64\n",
      "- SibSp   1   548.38 556.38\n",
      "- Pclass  2   601.38 607.38\n",
      "- Sex     1   718.83 726.83\n"
     ]
    }
   ],
   "source": [
    "log.lm.step=step(log.lm,direction=\"backward\")"
   ]
  },
  {
   "cell_type": "code",
   "execution_count": 17,
   "metadata": {
    "colab": {
     "base_uri": "https://localhost:8080/",
     "height": 487
    },
    "colab_type": "code",
    "id": "e-qfji3aQqiD",
    "outputId": "368aad7e-5e60-49b8-850c-1c951bd4e3dc"
   },
   "outputs": [
    {
     "data": {
      "text/plain": [
       "\n",
       "Call:\n",
       "glm(formula = Survived ~ Pclass + Sex + SibSp, family = binomial, \n",
       "    data = donnee_sans_age_train)\n",
       "\n",
       "Deviance Residuals: \n",
       "    Min       1Q   Median       3Q      Max  \n",
       "-2.2584  -0.7211  -0.4645   0.6300   2.5816  \n",
       "\n",
       "Coefficients:\n",
       "              Estimate Std. Error z value Pr(>|z|)    \n",
       "(Intercept)     2.4688     0.2829   8.728  < 2e-16 ***\n",
       "Pclassclass 2  -0.9525     0.3050  -3.123  0.00179 ** \n",
       "Pclassclass 3  -1.9104     0.2647  -7.217 5.32e-13 ***\n",
       "Sexmale        -2.7306     0.2324 -11.747  < 2e-16 ***\n",
       "SibSp          -0.2809     0.1252  -2.244  0.02481 *  \n",
       "---\n",
       "Signif. codes:  0 '***' 0.001 '**' 0.01 '*' 0.05 '.' 0.1 ' ' 1\n",
       "\n",
       "(Dispersion parameter for binomial family taken to be 1)\n",
       "\n",
       "    Null deviance: 789.16  on 591  degrees of freedom\n",
       "Residual deviance: 542.64  on 587  degrees of freedom\n",
       "AIC: 552.64\n",
       "\n",
       "Number of Fisher Scoring iterations: 5\n"
      ]
     },
     "metadata": {},
     "output_type": "display_data"
    }
   ],
   "source": [
    "summary(log.lm.step)"
   ]
  },
  {
   "cell_type": "markdown",
   "metadata": {
    "colab_type": "text",
    "id": "Gu2Y14tqQxIU"
   },
   "source": [
    "Dans le modèle log.lm.step, nous trouvons que seulement les variables \"Pclass\", \"Sex\", \"Sibsp\" et \"Embarked\" ont une impacte sur la variable \"Survived\". Les variables \"Pclass\" et \"sex\" jouent un rôle très important. C'est cohérent avec la partie descriptive.\n",
    "\n",
    "Pour la variable \"Pclass\":\n",
    "\n",
    "Pour les individus qui ont les mêmes valeurs des variables \"Sex\", \"SibSp\" et \"Embarked\", si ils sont dans la 2ème class, la chance de \"survived\" est de $exp(-0.5962) \\approx 0.55$. Cela veut dire que la 2ème classe a deux fois moins de chance de survie que la 1er Classe. \n",
    "\n",
    "Pour les individus qui ont les mêmes valeurs des variables \"Sex\", \"SibSp\" et \"Embarked\", si ils sont dans la class 3, la chance de \"survived\" est de $exp(-1.6659) \\approx 0.19$. Cela veut dire que la 3ème classe ont 5 fois moins de chance de survie que la 1er Classe. \n",
    "\n",
    "En conclusion, nous constatons bien que la 1er classe ont beaucoup plus de chance de survie que les autres classes. \n",
    "\n",
    "Pour la variable \"Sex\":\n",
    "\n",
    "Pour les individus qui ont les mêmes valeurs des variables \"Pclass\", \"SibSp\" et \"Embarkesd\", si ils sont des hommes, la chance de \"Survived\" est de $exp(-2.5546) \\approx 0.078$. Cela veut dire que les hommes ont 13 fois moins de la chance de survie que des femmes. \n",
    " \n",
    "Pour les varibles \"SibSp\": \n",
    "\n",
    "Nous choissons deux individus tels que la valeur de \"SibSp\" diffère 1, l'individu ayant plus de frère et soeurs a moins de chance de \"survived\" ($exp(-0.2291) \\approx 0.8$ ). \n",
    "\n",
    "Pour la variable \"Embarked\" : \n",
    "\n",
    "Les individus embarquent en classe C ont la chance \"survived\" 1.4 (repestivement 2.3) fois plus élevé que ceux en classe Q( repestivement S). \n",
    "    \n",
    "\n"
   ]
  },
  {
   "cell_type": "code",
   "execution_count": 18,
   "metadata": {
    "colab": {
     "base_uri": "https://localhost:8080/",
     "height": 84
    },
    "colab_type": "code",
    "id": "phi9tPhlQ1O9",
    "outputId": "4370a5cb-c2d3-4b0a-ea8d-4302ee27bd72"
   },
   "outputs": [
    {
     "data": {
      "text/plain": [
       "       \n",
       "        FALSE TRUE\n",
       "  FALSE   169   44\n",
       "  TRUE     16   68"
      ]
     },
     "metadata": {},
     "output_type": "display_data"
    }
   ],
   "source": [
    "# matrice de confusion de l'échantillon de test et erreur apparente\n",
    "pred.log=predict(log.lm.step,newdata=donnee_test,type=\"response\")\n",
    "tab1 <- table(pred.log>0.5, donnee_test[,\"Survived\"])\n",
    "tab1"
   ]
  },
  {
   "cell_type": "markdown",
   "metadata": {
    "colab_type": "text",
    "id": "V2SeLGusQ5ib"
   },
   "source": [
    "Nous constatons que le taux de vrai négatifs est d'environ 87% et le taux de vrai positifs est moins élevé, environ 71%. \n",
    "\n",
    "Autrement-dit, on prédit un peu mal pour les individus \"Survived\". "
   ]
  },
  {
   "cell_type": "code",
   "execution_count": 19,
   "metadata": {
    "colab": {
     "base_uri": "https://localhost:8080/",
     "height": 34
    },
    "colab_type": "code",
    "id": "bLRlumEEQ-Ek",
    "outputId": "bcf48b6d-d6f4-497e-d754-35d5763aa698"
   },
   "outputs": [
    {
     "data": {
      "text/html": [
       "0.202020202020202"
      ],
      "text/latex": [
       "0.202020202020202"
      ],
      "text/markdown": [
       "0.202020202020202"
      ],
      "text/plain": [
       "[1] 0.2020202"
      ]
     },
     "metadata": {},
     "output_type": "display_data"
    }
   ],
   "source": [
    "sum(tab1[1,2],tab1[2,1])/sum(tab1) "
   ]
  },
  {
   "cell_type": "markdown",
   "metadata": {
    "colab_type": "text",
    "id": "_GUoLbZQREPz"
   },
   "source": [
    "Le taux d'erreur est d'environ 20%. \n"
   ]
  },
  {
   "cell_type": "markdown",
   "metadata": {
    "colab_type": "text",
    "id": "2NLOIOwHRH3x"
   },
   "source": [
    "### B.1.2 Avec interaction"
   ]
  },
  {
   "cell_type": "code",
   "execution_count": 20,
   "metadata": {
    "colab": {
     "base_uri": "https://localhost:8080/",
     "height": 1000
    },
    "colab_type": "code",
    "id": "LY6SkRfJRI_s",
    "outputId": "39a7a7eb-4836-4376-fc39-0775159e4b62"
   },
   "outputs": [
    {
     "name": "stdout",
     "output_type": "stream",
     "text": [
      "Start:  AIC=791.16\n",
      "Survived ~ 1\n",
      "\n",
      "           Df Deviance    AIC\n",
      "+ Sex       1   609.46 613.46\n",
      "+ Pclass    2   718.90 724.90\n",
      "+ Fare      1   742.09 746.09\n",
      "+ Embarked  2   778.72 784.72\n",
      "+ Parch     1   786.99 790.99\n",
      "<none>          789.16 791.16\n",
      "+ SibSp     1   788.61 792.61\n",
      "\n",
      "Step:  AIC=613.46\n",
      "Survived ~ Sex\n",
      "\n",
      "           Df Deviance    AIC\n",
      "+ Pclass    2   548.38 556.38\n",
      "+ Fare      1   588.97 594.97\n",
      "+ SibSp     1   601.38 607.38\n",
      "+ Embarked  2   601.26 609.26\n",
      "+ Parch     1   605.39 611.39\n",
      "<none>          609.46 613.46\n",
      "- Sex       1   789.16 791.16\n",
      "\n",
      "Step:  AIC=556.38\n",
      "Survived ~ Sex + Pclass\n",
      "\n",
      "             Df Deviance    AIC\n",
      "+ Pclass:Sex  2   529.94 541.94\n",
      "+ SibSp       1   542.64 552.64\n",
      "+ Parch       1   545.35 555.35\n",
      "<none>            548.38 556.38\n",
      "+ Fare        1   548.31 558.31\n",
      "+ Embarked    2   547.16 559.16\n",
      "- Pclass      2   609.46 613.46\n",
      "- Sex         1   718.90 724.90\n",
      "\n",
      "Step:  AIC=541.94\n",
      "Survived ~ Sex + Pclass + Sex:Pclass\n",
      "\n",
      "             Df Deviance    AIC\n",
      "+ SibSp       1   524.83 538.83\n",
      "+ Parch       1   527.85 541.85\n",
      "<none>            529.94 541.94\n",
      "+ Fare        1   528.90 542.90\n",
      "+ Embarked    2   527.86 543.86\n",
      "- Sex:Pclass  2   548.38 556.38\n",
      "\n",
      "Step:  AIC=538.83\n",
      "Survived ~ Sex + Pclass + SibSp + Sex:Pclass\n",
      "\n",
      "               Df Deviance    AIC\n",
      "+ Sex:SibSp     1   522.40 538.40\n",
      "+ Pclass:SibSp  2   520.55 538.55\n",
      "<none>              524.83 538.83\n",
      "+ Parch         1   524.34 540.34\n",
      "+ Fare          1   524.71 540.71\n",
      "+ Embarked      2   523.54 541.54\n",
      "- SibSp         1   529.94 541.94\n",
      "- Sex:Pclass    2   542.64 552.64\n",
      "\n",
      "Step:  AIC=538.4\n",
      "Survived ~ Sex + Pclass + SibSp + Sex:Pclass + Sex:SibSp\n",
      "\n",
      "               Df Deviance    AIC\n",
      "<none>              522.40 538.40\n",
      "- Sex:SibSp     1   524.83 538.83\n",
      "+ Pclass:SibSp  2   519.39 539.39\n",
      "+ Parch         1   521.94 539.94\n",
      "+ Fare          1   522.16 540.16\n",
      "+ Embarked      2   521.39 541.39\n",
      "- Sex:Pclass    2   540.13 552.13\n"
     ]
    }
   ],
   "source": [
    "# régression avec le modèle minimum\n",
    "log.qm=glm(Survived~1,data=donnee_sans_age_train,family=binomial)\n",
    "# algorithme stepwise en précisant le plus grand modèle possible\n",
    "log.qm.step1=step(log.qm,direction=\"both\",\n",
    "  scope=list(lower=~1,upper=~(Pclass + Sex + SibSp + Fare + Embarked + Parch)^2), family=binomial)"
   ]
  },
  {
   "cell_type": "code",
   "execution_count": 21,
   "metadata": {
    "colab": {
     "base_uri": "https://localhost:8080/",
     "height": 588
    },
    "colab_type": "code",
    "id": "dInZsMOhRN8j",
    "outputId": "a3b495c9-6fb3-43f9-99d6-314eae214848"
   },
   "outputs": [
    {
     "data": {
      "text/plain": [
       "\n",
       "Call:\n",
       "glm(formula = Survived ~ Sex + Pclass + SibSp + Sex:Pclass + \n",
       "    Sex:SibSp, family = binomial, data = donnee_sans_age_train)\n",
       "\n",
       "Deviance Residuals: \n",
       "    Min       1Q   Median       3Q      Max  \n",
       "-2.7736  -0.5773  -0.5441   0.4121   2.1123  \n",
       "\n",
       "Coefficients:\n",
       "                      Estimate Std. Error z value Pr(>|z|)    \n",
       "(Intercept)             3.8247     0.7358   5.198 2.01e-07 ***\n",
       "Sexmale                -4.3968     0.7756  -5.669 1.44e-08 ***\n",
       "Pclassclass 2          -1.4015     0.8628  -1.624  0.10430    \n",
       "Pclassclass 3          -3.5126     0.7482  -4.695 2.67e-06 ***\n",
       "SibSp                  -0.4550     0.1876  -2.426  0.01528 *  \n",
       "Sexmale:Pclassclass 2   0.2661     0.9534   0.279  0.78017    \n",
       "Sexmale:Pclassclass 3   2.2494     0.8099   2.777  0.00548 ** \n",
       "Sexmale:SibSp           0.3846     0.2444   1.573  0.11563    \n",
       "---\n",
       "Signif. codes:  0 '***' 0.001 '**' 0.01 '*' 0.05 '.' 0.1 ' ' 1\n",
       "\n",
       "(Dispersion parameter for binomial family taken to be 1)\n",
       "\n",
       "    Null deviance: 789.16  on 591  degrees of freedom\n",
       "Residual deviance: 522.40  on 584  degrees of freedom\n",
       "AIC: 538.4\n",
       "\n",
       "Number of Fisher Scoring iterations: 6\n"
      ]
     },
     "metadata": {},
     "output_type": "display_data"
    }
   ],
   "source": [
    "summary(log.qm.step1)"
   ]
  },
  {
   "cell_type": "markdown",
   "metadata": {
    "colab_type": "text",
    "id": "Y7tW_ZVxcpbm"
   },
   "source": [
    "Nous trouvons les mêmes interpretations pour les variables \"Sex\" et \"Pclass\". Dans ce modèle, il y a des effets interactions entre les variables \"Sex\" et \"Pclass\"; \"sex\" et \"Embarked\"; et \"Pclass\" et \"Sibsp\".\n",
    "\n",
    "Nous trouvons que pour les hommes en 2ème classe 2 ont 3 fois moins de chances de \"survived\" que ceux en 1er classe ($exp(1.3224-0.198) \\approx 3$). \n",
    "\n",
    "Il ya les mêmes résultats pour les hommes en 3 ème classe.\n",
    "\n",
    "\n"
   ]
  },
  {
   "cell_type": "code",
   "execution_count": 22,
   "metadata": {
    "colab": {
     "base_uri": "https://localhost:8080/",
     "height": 84
    },
    "colab_type": "code",
    "id": "me9OTuA2RRnP",
    "outputId": "37702e42-491b-4d81-b270-50c1c7941dc7"
   },
   "outputs": [
    {
     "data": {
      "text/plain": [
       "       \n",
       "        FALSE TRUE\n",
       "  FALSE   173   49\n",
       "  TRUE     12   63"
      ]
     },
     "metadata": {},
     "output_type": "display_data"
    }
   ],
   "source": [
    "pred.log=predict(log.qm.step1,newdata=donnee_test,type=\"response\")\n",
    "\n",
    "tab2 <- table(pred.log>0.5,donnee_test[,\"Survived\"])\n",
    "tab2"
   ]
  },
  {
   "cell_type": "markdown",
   "metadata": {
    "colab_type": "text",
    "id": "zhDf41vFRWoW"
   },
   "source": [
    "Nous constatons que le taux de vrai négatifs est d'environ 96% et le taux de vrai positifs est moins élevé, d'environ 60%. \n",
    "Autrement-dit, on prédit mal pour les individus \"survived\"( plus mal dans le cas sans interaction). "
   ]
  },
  {
   "cell_type": "code",
   "execution_count": 23,
   "metadata": {
    "colab": {
     "base_uri": "https://localhost:8080/",
     "height": 34
    },
    "colab_type": "code",
    "id": "oLt-QS6aRY2X",
    "outputId": "989c644b-ef8b-4cbb-bbc8-2388d5f1209d"
   },
   "outputs": [
    {
     "data": {
      "text/html": [
       "0.205387205387205"
      ],
      "text/latex": [
       "0.205387205387205"
      ],
      "text/markdown": [
       "0.205387205387205"
      ],
      "text/plain": [
       "[1] 0.2053872"
      ]
     },
     "metadata": {},
     "output_type": "display_data"
    }
   ],
   "source": [
    "sum(tab2[1,2],tab2[2,1])/sum(tab2) "
   ]
  },
  {
   "cell_type": "markdown",
   "metadata": {
    "colab_type": "text",
    "id": "8lY_-DWmRZbn"
   },
   "source": [
    "Le taux d'erreur est d'environ 18%, plus élevé que celui dans le cas sans interaction."
   ]
  },
  {
   "cell_type": "markdown",
   "metadata": {
    "colab_type": "text",
    "id": "7tUUDY4gRbdA"
   },
   "source": [
    "## B.2 Arbre et forêt aléatoire\n"
   ]
  },
  {
   "cell_type": "markdown",
   "metadata": {
    "colab_type": "text",
    "id": "Q4KYWq8DRdKz"
   },
   "source": [
    "### B.2.1 Arbre binaire\n",
    "\n"
   ]
  },
  {
   "cell_type": "markdown",
   "metadata": {
    "colab_type": "text",
    "id": "LWh8PmJ0GrWB"
   },
   "source": [
    "On utilise l'arbre binaire pour modéliser le problème. On cherche d'abord la valeur cpmin telle que on obtient la plus petite erreur."
   ]
  },
  {
   "cell_type": "code",
   "execution_count": 24,
   "metadata": {
    "colab": {
     "base_uri": "https://localhost:8080/",
     "height": 437
    },
    "colab_type": "code",
    "id": "VIvBYEE3RhGB",
    "outputId": "62ce6ede-ebaa-4120-a886-43bb70fadd20"
   },
   "outputs": [
    {
     "data": {
      "image/png": "[encoded data removed]",
      "text/plain": [
       "plot without title"
      ]
     },
     "metadata": {
      "image/png": {
       "height": 420,
       "width": 420
      }
     },
     "output_type": "display_data"
    }
   ],
   "source": [
    "tree.dis=rpart(Survived~.,data=donnee_sans_age_train,parms=list(split=\"information\"),cp=0.001)\n",
    "plot(as.party(tree.dis), type=\"simple\")"
   ]
  },
  {
   "cell_type": "code",
   "execution_count": 25,
   "metadata": {
    "colab": {
     "base_uri": "https://localhost:8080/",
     "height": 34
    },
    "colab_type": "code",
    "id": "uo9nhtRuRlfj",
    "outputId": "543380b0-38d6-4f36-ca63-0336e4a9605d"
   },
   "outputs": [
    {
     "data": {
      "text/html": [
       "<style>\n",
       ".dl-inline {width: auto; margin:0; padding: 0}\n",
       ".dl-inline>dt, .dl-inline>dd {float: none; width: auto; display: inline-block}\n",
       ".dl-inline>dt::after {content: \":\\0020\"; padding-right: .5ex}\n",
       ".dl-inline>dt:not(:first-of-type) {padding-left: .5ex}\n",
       "</style><dl class=dl-inline><dt>0.721491228</dt><dd>0.385135135135135</dd><dt>0.124672547</dt><dd>0.214527027027027</dd><dt>0.019614631</dt><dd>0.192567567567568</dd><dt>0.009807316</dt><dd>0.204391891891892</dd><dt>0.006934819</dt><dd>0.204391891891892</dd><dt>0.004903658</dt><dd>0.212837837837838</dd><dt>0.002094270</dt><dd>0.201013513513514</dd></dl>\n"
      ],
      "text/latex": [
       "\\begin{description*}\n",
       "\\item[0.721491228] 0.385135135135135\n",
       "\\item[0.124672547] 0.214527027027027\n",
       "\\item[0.019614631] 0.192567567567568\n",
       "\\item[0.009807316] 0.204391891891892\n",
       "\\item[0.006934819] 0.204391891891892\n",
       "\\item[0.004903658] 0.212837837837838\n",
       "\\item[0.002094270] 0.201013513513514\n",
       "\\end{description*}\n"
      ],
      "text/markdown": [
       "0.721491228\n",
       ":   0.3851351351351350.124672547\n",
       ":   0.2145270270270270.019614631\n",
       ":   0.1925675675675680.009807316\n",
       ":   0.2043918918918920.006934819\n",
       ":   0.2043918918918920.004903658\n",
       ":   0.2128378378378380.002094270\n",
       ":   0.201013513513514\n",
       "\n"
      ],
      "text/plain": [
       "0.721491228 0.124672547 0.019614631 0.009807316 0.006934819 0.004903658 \n",
       "  0.3851351   0.2145270   0.1925676   0.2043919   0.2043919   0.2128378 \n",
       "0.002094270 \n",
       "  0.2010135 "
      ]
     },
     "metadata": {},
     "output_type": "display_data"
    },
    {
     "data": {
      "text/html": [
       "0.019614631"
      ],
      "text/latex": [
       "0.019614631"
      ],
      "text/markdown": [
       "0.019614631"
      ],
      "text/plain": [
       "[1] 0.01961463"
      ]
     },
     "metadata": {},
     "output_type": "display_data"
    }
   ],
   "source": [
    "xmat = xpred.rpart(tree.dis)\n",
    "levels(donnee_sans_age_train$Survived) <- c(\"FALSE\", \"TRUE\")\n",
    "#xmat\n",
    "xerr=donnee_sans_age_train$Survived!= (xmat>1.5) \n",
    "#donnee_sans_age[,\"Survived\"]\n",
    "CVerr=apply(xerr, 2, sum)/nrow(xerr)\n",
    "CVerr\n",
    "as.numeric(attributes(which.min(CVerr))$names)"
   ]
  },
  {
   "cell_type": "code",
   "execution_count": 26,
   "metadata": {
    "colab": {
     "base_uri": "https://localhost:8080/",
     "height": 437
    },
    "colab_type": "code",
    "id": "XaPBan4GRniP",
    "outputId": "5fd15d5f-abb5-4a03-bdc7-feca46d9eb31"
   },
   "outputs": [
    {
     "data": {
      "image/png": "[encoded data removed]",
      "text/plain": [
       "plot without title"
      ]
     },
     "metadata": {
      "image/png": {
       "height": 420,
       "width": 420
      }
     },
     "output_type": "display_data"
    }
   ],
   "source": [
    "tree.dis=rpart(Survived~.,data=donnee_sans_age_train,parms=list(split=\"information\"),\n",
    "               cp=as.numeric(attributes(which.min(CVerr))$names))\n",
    "plot(as.party(tree.dis), type=\"simple\")"
   ]
  },
  {
   "cell_type": "markdown",
   "metadata": {
    "colab_type": "text",
    "id": "R9YQByCSRqLX"
   },
   "source": [
    "On trouve que dans cette arbre, toutes les variables ont des effets sur la variable \"survived\", spécialement les variables \"Sex\", \"Fare\", et \"Pclass\".\n",
    "\n",
    " Grâce à cette arbre, on voit que les femmes en classe 1 et 2 ont la probabilité de \"survived\" très élevé.   "
   ]
  },
  {
   "cell_type": "code",
   "execution_count": 27,
   "metadata": {
    "colab": {
     "base_uri": "https://localhost:8080/",
     "height": 252
    },
    "colab_type": "code",
    "id": "6MwY9CXbRs5A",
    "outputId": "187dec19-48a6-454c-e1be-ba207e8ed00f"
   },
   "outputs": [
    {
     "data": {
      "text/plain": [
       "  Survived       Pclass        Sex          SibSp            Parch       \n",
       " FALSE:185   class 1: 69   female: 93   Min.   :0.0000   Min.   :0.0000  \n",
       " TRUE :112   class 2: 64   male  :204   1st Qu.:0.0000   1st Qu.:0.0000  \n",
       "             class 3:164                Median :0.0000   Median :0.0000  \n",
       "                                        Mean   :0.5455   Mean   :0.4108  \n",
       "                                        3rd Qu.:1.0000   3rd Qu.:1.0000  \n",
       "                                        Max.   :8.0000   Max.   :5.0000  \n",
       "      Fare         Embarked\n",
       " Min.   :  0.000   C: 54   \n",
       " 1st Qu.:  7.896   Q: 22   \n",
       " Median : 14.108   S:221   \n",
       " Mean   : 29.439           \n",
       " 3rd Qu.: 30.500           \n",
       " Max.   :512.329           "
      ]
     },
     "metadata": {},
     "output_type": "display_data"
    }
   ],
   "source": [
    "donnee_test=test[,c(-1,-4,-6,-9,-11)]\n",
    "levels(donnee_test$Survived) <- c(\"FALSE\", \"TRUE\")\n",
    "\n",
    "summary(donnee_test)"
   ]
  },
  {
   "cell_type": "code",
   "execution_count": 28,
   "metadata": {
    "colab": {
     "base_uri": "https://localhost:8080/",
     "height": 84
    },
    "colab_type": "code",
    "id": "CWXHYXf-Rvd1",
    "outputId": "32c70cc0-f3a6-4c52-eae0-3e5117f2448b"
   },
   "outputs": [
    {
     "data": {
      "text/plain": [
       "         \n",
       "pred.tree FALSE TRUE\n",
       "    FALSE   168   43\n",
       "    TRUE     17   69"
      ]
     },
     "metadata": {},
     "output_type": "display_data"
    }
   ],
   "source": [
    "pred.tree=predict(tree.dis,newdata=donnee_test,type=\"class\") \n",
    "#levels(pred.tree)\n",
    "#levels(pred.tree) <- c(\"dead\", \"alive\")\n",
    "t=table(pred.tree,donnee_test[,\"Survived\"])\n",
    "t"
   ]
  },
  {
   "cell_type": "markdown",
   "metadata": {
    "colab_type": "text",
    "id": "GIWCIeBrRxZn"
   },
   "source": [
    "On voit que le taux de vrai négatifs  est d'environ 92%, le taux de vrai positifs est moins élevé, d'environ 65.5%. \n",
    "\n",
    "Autrement-dit, on prédit mal pour les individus \"survived\". "
   ]
  },
  {
   "cell_type": "code",
   "execution_count": 29,
   "metadata": {
    "colab": {
     "base_uri": "https://localhost:8080/",
     "height": 34
    },
    "colab_type": "code",
    "id": "JJ5fxHtLRzqp",
    "outputId": "f0a2dac2-ed14-4702-bf0f-af724624fa46"
   },
   "outputs": [
    {
     "data": {
      "text/html": [
       "0.202020202020202"
      ],
      "text/latex": [
       "0.202020202020202"
      ],
      "text/markdown": [
       "0.202020202020202"
      ],
      "text/plain": [
       "[1] 0.2020202"
      ]
     },
     "metadata": {},
     "output_type": "display_data"
    }
   ],
   "source": [
    "erreur=(t[1,2]+t[2,1])/sum(t)\n",
    "erreur"
   ]
  },
  {
   "cell_type": "markdown",
   "metadata": {
    "colab_type": "text",
    "id": "gnKKYXlWR1sb"
   },
   "source": [
    "On voit que le taux d'erreur d'arbre de décision est plus éleve que celui de régression logistique avec interaction, et moins élevé que celui de régression logistique sans interaction. "
   ]
  },
  {
   "cell_type": "markdown",
   "metadata": {
    "colab_type": "text",
    "id": "L0dlOvbVR5KZ"
   },
   "source": [
    "### B.2.2 Forêt aléatoire"
   ]
  },
  {
   "cell_type": "markdown",
   "metadata": {
    "colab_type": "text",
    "id": "0KEGIAuiKsW1"
   },
   "source": [
    "Maintenant, on utilise le forêt aléatoire pour mieux prédire"
   ]
  },
  {
   "cell_type": "code",
   "execution_count": 30,
   "metadata": {
    "colab": {
     "base_uri": "https://localhost:8080/",
     "height": 202
    },
    "colab_type": "code",
    "id": "kroicbKMR_AK",
    "outputId": "00dec183-7236-4d7d-db6e-439581ff92e4"
   },
   "outputs": [
    {
     "name": "stdout",
     "output_type": "stream",
     "text": [
      "ntree      OOB      1      2|    Test      1      2\n",
      " 1000:  19.09%  9.89% 33.77%|  20.88%  9.19% 40.18%\n",
      " 2000:  18.75%  9.62% 33.33%|  20.88%  8.65% 41.07%\n",
      " 3000:  18.75%  9.34% 33.77%|  21.21%  9.19% 41.07%\n",
      " 4000:  18.41%  9.07% 33.33%|  21.21%  9.19% 41.07%\n",
      " 5000:  18.58%  9.34% 33.33%|  21.21%  9.19% 41.07%\n",
      " 6000:  18.58%  9.34% 33.33%|  21.21%  9.19% 41.07%\n",
      " 7000:  18.58%  9.34% 33.33%|  21.21%  9.19% 41.07%\n",
      " 8000:  18.41%  9.07% 33.33%|  20.88%  8.65% 41.07%\n",
      " 9000:  18.41%  9.07% 33.33%|  20.88%  8.65% 41.07%\n",
      "10000:  18.41%  9.07% 33.33%|  20.88%  8.65% 41.07%\n"
     ]
    }
   ],
   "source": [
    "set.seed(111)\n",
    "levels(donnee_sans_age_train$Survived) <- c(\"FALSE\", \"TRUE\")\n",
    "\n",
    "library(randomForest)\n",
    "rf.dis=randomForest(Survived~., data=donnee_sans_age_train,xtest=donnee_test[,-1],ytest=donnee_test[,\"Survived\"],\n",
    "   ntree=10000,do.trace=1000,importance=TRUE,mtry=) "
   ]
  },
  {
   "cell_type": "code",
   "execution_count": 31,
   "metadata": {
    "colab": {
     "base_uri": "https://localhost:8080/",
     "height": 101
    },
    "colab_type": "code",
    "id": "JagMzZ0fSA9y",
    "outputId": "d6e40fff-459e-4520-efd5-546284b0b84f"
   },
   "outputs": [
    {
     "data": {
      "text/plain": [
       "        \n",
       "pred.rfq FALSE TRUE\n",
       "   FALSE   169   46\n",
       "   TRUE     16   66"
      ]
     },
     "metadata": {},
     "output_type": "display_data"
    },
    {
     "data": {
      "text/html": [
       "0.208754208754209"
      ],
      "text/latex": [
       "0.208754208754209"
      ],
      "text/markdown": [
       "0.208754208754209"
      ],
      "text/plain": [
       "[1] 0.2087542"
      ]
     },
     "metadata": {},
     "output_type": "display_data"
    }
   ],
   "source": [
    "pred.rfq=rf.dis$test$predicted\n",
    "t=table(pred.rfq,donnee_test[,\"Survived\"])\n",
    "t\n",
    "erreur=(t[1,2]+t[2,1])/sum(t)\n",
    "erreur"
   ]
  },
  {
   "cell_type": "markdown",
   "metadata": {
    "colab_type": "text",
    "id": "ZNQWPQhPSISr"
   },
   "source": [
    "On voit que le taux de vrai négatifs  est d'environ 92.6% et le taux de vrai positifs est moins élevé, d'environ 66.4%. \n",
    "Autrement-dit, on prédit mal pour les individus \"Survived\".\n",
    "Le forêt aléatoire prédit mieux que les autres modèles par rapport au taux d'erreur. "
   ]
  },
  {
   "cell_type": "markdown",
   "metadata": {
    "colab_type": "text",
    "id": "AUyRcmgESLZZ"
   },
   "source": [
    "#### B.2.2.1 Importance des variables\n"
   ]
  },
  {
   "cell_type": "markdown",
   "metadata": {},
   "source": [
    "Critère Gini:"
   ]
  },
  {
   "cell_type": "code",
   "execution_count": 32,
   "metadata": {
    "colab": {
     "base_uri": "https://localhost:8080/",
     "height": 34
    },
    "colab_type": "code",
    "id": "1PhFYQFuSNri",
    "outputId": "2b562f74-b98a-49a6-cb7c-aca020f182da"
   },
   "outputs": [
    {
     "data": {
      "text/html": [
       "<style>\n",
       ".dl-inline {width: auto; margin:0; padding: 0}\n",
       ".dl-inline>dt, .dl-inline>dd {float: none; width: auto; display: inline-block}\n",
       ".dl-inline>dt::after {content: \":\\0020\"; padding-right: .5ex}\n",
       ".dl-inline>dt:not(:first-of-type) {padding-left: .5ex}\n",
       "</style><dl class=dl-inline><dt>Sex</dt><dd>70.09</dd><dt>Fare</dt><dd>49.06</dd><dt>Pclass</dt><dd>23.28</dd><dt>Parch</dt><dd>12.77</dd><dt>SibSp</dt><dd>10.86</dd><dt>Embarked</dt><dd>8.35</dd></dl>\n"
      ],
      "text/latex": [
       "\\begin{description*}\n",
       "\\item[Sex] 70.09\n",
       "\\item[Fare] 49.06\n",
       "\\item[Pclass] 23.28\n",
       "\\item[Parch] 12.77\n",
       "\\item[SibSp] 10.86\n",
       "\\item[Embarked] 8.35\n",
       "\\end{description*}\n"
      ],
      "text/markdown": [
       "Sex\n",
       ":   70.09Fare\n",
       ":   49.06Pclass\n",
       ":   23.28Parch\n",
       ":   12.77SibSp\n",
       ":   10.86Embarked\n",
       ":   8.35\n",
       "\n"
      ],
      "text/plain": [
       "     Sex     Fare   Pclass    Parch    SibSp Embarked \n",
       "   70.09    49.06    23.28    12.77    10.86     8.35 "
      ]
     },
     "metadata": {},
     "output_type": "display_data"
    }
   ],
   "source": [
    "sort(round(importance(rf.dis), 2)[,4], decreasing=TRUE)"
   ]
  },
  {
   "cell_type": "markdown",
   "metadata": {},
   "source": [
    "Critère Entropie:"
   ]
  },
  {
   "cell_type": "code",
   "execution_count": 33,
   "metadata": {},
   "outputs": [
    {
     "data": {
      "text/html": [
       "<style>\n",
       ".dl-inline {width: auto; margin:0; padding: 0}\n",
       ".dl-inline>dt, .dl-inline>dd {float: none; width: auto; display: inline-block}\n",
       ".dl-inline>dt::after {content: \":\\0020\"; padding-right: .5ex}\n",
       ".dl-inline>dt:not(:first-of-type) {padding-left: .5ex}\n",
       "</style><dl class=dl-inline><dt>Sex</dt><dd>342.21</dd><dt>Fare</dt><dd>153.29</dd><dt>Pclass</dt><dd>147.97</dd><dt>Parch</dt><dd>105.5</dd><dt>SibSp</dt><dd>71.89</dd><dt>Embarked</dt><dd>65.35</dd></dl>\n"
      ],
      "text/latex": [
       "\\begin{description*}\n",
       "\\item[Sex] 342.21\n",
       "\\item[Fare] 153.29\n",
       "\\item[Pclass] 147.97\n",
       "\\item[Parch] 105.5\n",
       "\\item[SibSp] 71.89\n",
       "\\item[Embarked] 65.35\n",
       "\\end{description*}\n"
      ],
      "text/markdown": [
       "Sex\n",
       ":   342.21Fare\n",
       ":   153.29Pclass\n",
       ":   147.97Parch\n",
       ":   105.5SibSp\n",
       ":   71.89Embarked\n",
       ":   65.35\n",
       "\n"
      ],
      "text/plain": [
       "     Sex     Fare   Pclass    Parch    SibSp Embarked \n",
       "  342.21   153.29   147.97   105.50    71.89    65.35 "
      ]
     },
     "metadata": {},
     "output_type": "display_data"
    }
   ],
   "source": [
    "sort(round(importance(rf.dis), 2)[,3], decreasing=TRUE)"
   ]
  },
  {
   "cell_type": "markdown",
   "metadata": {},
   "source": [
    "On voit que avec 2 critères Entropie et Gini, les variables \"Sex\", \"Pclass\", \"Fare\" sont toujour les plus importants.\n",
    "Il y a une petite différence de l'importance des variables par rapport 2 critères: pour la critère Gini, la variable \"faire\" est plus importante que la variable \"Pclass\" contrairement à la critère Entropie"
   ]
  },
  {
   "cell_type": "markdown",
   "metadata": {
    "colab_type": "text",
    "id": "DnJSMUtdSTPA"
   },
   "source": [
    "On voit que la variable Fare est très importante pour expliquer \"survived\" dans la forêt aléatoire, c'est cohérent avec le cas l'arbre binaire mais totalement différent dans le cas de régression logistique( la variable \"fare\" n'a aucune l'impact sur la variable \"Survived\"). Les autres variables comme \"sex\" et \"Pclass\" sont importantes pour tous les modèles. "
   ]
  },
  {
   "cell_type": "markdown",
   "metadata": {
    "colab_type": "text",
    "id": "xFK-D3VnSV4v"
   },
   "source": [
    "##### B.2.2.2 Courbe ROCR"
   ]
  },
  {
   "cell_type": "markdown",
   "metadata": {
    "colab_type": "text",
    "id": "4DWjyUE_LbQn"
   },
   "source": [
    "On étudie maintenant la courbe ROCR pour les 4 modèles: régression logistique sans interaction, avec interaction, l'arbre binaire et la forêt aléatoire."
   ]
  },
  {
   "cell_type": "code",
   "execution_count": 34,
   "metadata": {
    "colab": {
     "base_uri": "https://localhost:8080/",
     "height": 437
    },
    "colab_type": "code",
    "id": "5WZWHXBCSWtW",
    "outputId": "d62d21cd-d94c-45d1-8009-65380f02bb49"
   },
   "outputs": [
    {
     "data": {
      "image/png": "[encoded data removed]",
      "text/plain": [
       "plot without title"
      ]
     },
     "metadata": {
      "image/png": {
       "height": 420,
       "width": 420
      }
     },
     "output_type": "display_data"
    }
   ],
   "source": [
    "roclogit=predict(log.lm.step,newdata=donnee_test,type=\"response\")\n",
    "predlogit=prediction(roclogit,donnee_test[,\"Survived\"])\n",
    "perflogit=performance(predlogit, \"tpr\",\"fpr\")\n",
    "plot(perflogit,col=\"red\")   # AJOUTER UNE LEGENDE \n",
    "\n",
    "roclogit1=predict(log.qm.step1,newdata=donnee_test,type=\"response\")\n",
    "predlogit1=prediction(roclogit1,donnee_test[,\"Survived\"])\n",
    "perflogit1=performance(predlogit1, \"tpr\",\"fpr\")\n",
    "plot(perflogit1,col=\"blue\",add=TRUE)\n",
    "\n",
    "ROCdistree=predict(tree.dis,newdata=donnee_test,type=\"prob\")[,2]\n",
    "preddistree=prediction(ROCdistree,donnee_test$Survived)\n",
    "perfdistree=performance(preddistree,\"tpr\",\"fpr\")\n",
    "plot(perfdistree,col=\"black\",add=TRUE)  \n",
    "\n",
    "#rocrfr=predict(rf.dis,newdata=donnee_test,type=\"prob\")\n",
    "predrfr=prediction(rf.dis$test$votes[,2],donnee_test$Survived)\n",
    "perfrfr=performance(predrfr,\"tpr\",\"fpr\")\n",
    "plot(perfrfr,col=\"purple\",add=TRUE)  \n",
    "legend( 0.5,0.5,,legend=c(\"regression logistique \", \"logistique avec interaction\",\"arbre binaire\",\"foret aleatoire\"),\n",
    "       col=c(\"red\", \"blue\",\"black\",\"purple\"),lty=1:4, cex=0.8)"
   ]
  },
  {
   "cell_type": "markdown",
   "metadata": {
    "colab_type": "text",
    "id": "jLs5UFZCL4Qu"
   },
   "source": [
    "On voit que il n'y a pas de courbe qui est meilleure que les autres. C'est compréhensible parce que le taux d'erreur de chaque modèle n'est pas très différent. \n",
    "\n",
    "Toutefois, dans la zone ou le taux de vrais positifs > 0.8, les modèles non linéaires(l'arbre binaire et la forêt aléatoire) sont meilleurs que les autres. Le modèle logistique n'est pas aussi bon que les autres modèles.Ce résultat est en adéquation avec ce que nous avons vu précédemment."
   ]
  },
  {
   "cell_type": "markdown",
   "metadata": {},
   "source": [
    "### Conclusion\n",
    "Dan le cas qu'on ne considère pas la variables \"Age\", 4 méthodes: la régression logistique, la régression logistique avec interaction, l'arbre binaire, la forêt aléatoire nous donnent une bonne résultat(le taux d'erreur est inférieur à 0.2).\n",
    "Toutes 4 méthodes prévoient bien les individus qui sont morts mais un peu mal pour les individus vivants.\n",
    "Les modèles non linéaires sont un peu meilleurs que les autres modèles.\n",
    "Généralement, les variables \"Pclass\", \"Fare\" et spécialement \"Sex\" joue un rôle très important pour la variable \"Survived\":\n",
    "Des femmes ont plus de chances de survie que les hommes.\n",
    "On peut améliorer nos modèles grâce à la variable \"Age\". "
   ]
  },
  {
   "cell_type": "markdown",
   "metadata": {
    "colab_type": "text",
    "id": "PWqlWHYaVfH2"
   },
   "source": [
    "# Partie C"
   ]
  },
  {
   "cell_type": "code",
   "execution_count": 35,
   "metadata": {
    "colab": {},
    "colab_type": "code",
    "collapsed": true,
    "id": "hTu4ab30VixY"
   },
   "outputs": [],
   "source": [
    "manquant=which(xti$Embarked==\"\")\n",
    "TitData=xti[-manquant,]"
   ]
  },
  {
   "cell_type": "markdown",
   "metadata": {
    "colab_type": "text",
    "id": "Ss7zLfwge7i2"
   },
   "source": [
    "Si nous observons notre jeu de données, nous constatons que pour la variable Embarked il y a 2 individus pour lesquels les valeurs de cette variable ne sont pas indiquées.Nous avons effectuer des tests en les gardant. Nous avons finalement décidé de les enlever du jeu de données car elles posent problème lors de la régression logistique ( le modèle n'arrive pas à déterminer les valeurs de certains coefficients lors de la régression avec interactions).  Et étant donné leur nombre très négligeable face à la taille du jeu de données, nous les enlèvons. "
   ]
  },
  {
   "cell_type": "code",
   "execution_count": 36,
   "metadata": {
    "colab": {
     "base_uri": "https://localhost:8080/",
     "height": 554
    },
    "colab_type": "code",
    "id": "mwPlCdCLW-Uy",
    "outputId": "68407b81-c50b-4b5e-b141-b577c054db9b"
   },
   "outputs": [
    {
     "data": {
      "text/plain": [
       "  PassengerId   Survived       Pclass   \n",
       " Min.   :  1   dead :549   class 1:214  \n",
       " 1st Qu.:224   alive:340   class 2:184  \n",
       " Median :446               class 3:491  \n",
       " Mean   :446                            \n",
       " 3rd Qu.:668                            \n",
       " Max.   :891                            \n",
       "                                        \n",
       "                                    Name         Sex           Age       \n",
       " Abbing, Mr. Anthony                  :  1   female:312   Min.   : 0.42  \n",
       " Abbott, Mr. Rossmore Edward          :  1   male  :577   1st Qu.:20.00  \n",
       " Abbott, Mrs. Stanton (Rosa Hunt)     :  1                Median :28.00  \n",
       " Abelson, Mr. Samuel                  :  1                Mean   :29.64  \n",
       " Abelson, Mrs. Samuel (Hannah Wizosky):  1                3rd Qu.:38.00  \n",
       " Adahl, Mr. Mauritz Nils Martin       :  1                Max.   :80.00  \n",
       " (Other)                              :883                NA's   :177    \n",
       "     SibSp            Parch             Ticket         Fare        \n",
       " Min.   :0.0000   Min.   :0.0000   1601    :  7   Min.   :  0.000  \n",
       " 1st Qu.:0.0000   1st Qu.:0.0000   347082  :  7   1st Qu.:  7.896  \n",
       " Median :0.0000   Median :0.0000   CA. 2343:  7   Median : 14.454  \n",
       " Mean   :0.5242   Mean   :0.3825   3101295 :  6   Mean   : 32.097  \n",
       " 3rd Qu.:1.0000   3rd Qu.:0.0000   347088  :  6   3rd Qu.: 31.000  \n",
       " Max.   :8.0000   Max.   :6.0000   CA 2144 :  6   Max.   :512.329  \n",
       "                                   (Other) :850                    \n",
       "         Cabin     Embarked\n",
       "            :687    :  0   \n",
       " B96 B98    :  4   C:168   \n",
       " C23 C25 C27:  4   Q: 77   \n",
       " G6         :  4   S:644   \n",
       " C22 C26    :  3           \n",
       " D          :  3           \n",
       " (Other)    :184           "
      ]
     },
     "metadata": {},
     "output_type": "display_data"
    }
   ],
   "source": [
    "summary(TitData)"
   ]
  },
  {
   "cell_type": "markdown",
   "metadata": {
    "colab_type": "text",
    "id": "GwfBTKT0XHrd"
   },
   "source": [
    "Comme nous l'avons vu dans la partie, il y a des variables comme ticket, Cabin, name et passengerId qui ne semblent pas avoir d'influences sur la survie des passagers. Nous avons enlever afin de ne pas poser de problème lors de l'imputation. En fait, certaines de ces variables quantitatives présentent beaucoup de modalités, ce qui peut poser problème."
   ]
  },
  {
   "cell_type": "code",
   "execution_count": 37,
   "metadata": {
    "colab": {},
    "colab_type": "code",
    "collapsed": true,
    "id": "iY5eT-TyXIcv"
   },
   "outputs": [],
   "source": [
    "Tit=TitData[,c(-1,-4,-9,-11)]\n",
    "levels(Tit$Survived)<-c(\"FALSE\",\"TRUE\")"
   ]
  },
  {
   "cell_type": "code",
   "execution_count": 38,
   "metadata": {
    "colab": {
     "base_uri": "https://localhost:8080/",
     "height": 67
    },
    "colab_type": "code",
    "id": "xMvKxQcUXVXe",
    "outputId": "2b6ee789-e5c0-41da-f0ee-ba4203b7d455"
   },
   "outputs": [
    {
     "name": "stdout",
     "output_type": "stream",
     "text": [
      "  missForest iteration 1 in progress...done!\n",
      "  missForest iteration 2 in progress...done!\n",
      "  missForest iteration 3 in progress...done!\n",
      "  missForest iteration 4 in progress...done!\n"
     ]
    }
   ],
   "source": [
    "TitDataImp <- missForest(Tit, xtrue=Tit)"
   ]
  },
  {
   "cell_type": "code",
   "execution_count": 39,
   "metadata": {
    "colab": {
     "base_uri": "https://localhost:8080/",
     "height": 252
    },
    "colab_type": "code",
    "id": "wAIl5REyXYlL",
    "outputId": "213c8bf5-da76-4f41-acc0-8e521520e02f"
   },
   "outputs": [
    {
     "data": {
      "text/plain": [
       "  Survived       Pclass        Sex           Age            SibSp       \n",
       " FALSE:549   class 1:214   female:312   Min.   : 0.42   Min.   :0.0000  \n",
       " TRUE :340   class 2:184   male  :577   1st Qu.:21.00   1st Qu.:0.0000  \n",
       "             class 3:491                Median :28.78   Median :0.0000  \n",
       "                                        Mean   :29.53   Mean   :0.5242  \n",
       "                                        3rd Qu.:36.15   3rd Qu.:1.0000  \n",
       "                                        Max.   :80.00   Max.   :8.0000  \n",
       "     Parch             Fare         Embarked\n",
       " Min.   :0.0000   Min.   :  0.000    :  0   \n",
       " 1st Qu.:0.0000   1st Qu.:  7.896   C:168   \n",
       " Median :0.0000   Median : 14.454   Q: 77   \n",
       " Mean   :0.3825   Mean   : 32.097   S:644   \n",
       " 3rd Qu.:0.0000   3rd Qu.: 31.000           \n",
       " Max.   :6.0000   Max.   :512.329           "
      ]
     },
     "metadata": {},
     "output_type": "display_data"
    }
   ],
   "source": [
    "summary(TitDataImp$ximp)"
   ]
  },
  {
   "cell_type": "markdown",
   "metadata": {
    "colab_type": "text",
    "id": "FJ7A22cLXiQc"
   },
   "source": [
    "Nous avons fait appel à la fonction missForest afin d'imputer les valeurs manquantes. Observons maintenant les valeurs des erreurs."
   ]
  },
  {
   "cell_type": "code",
   "execution_count": 40,
   "metadata": {
    "colab": {
     "base_uri": "https://localhost:8080/",
     "height": 50
    },
    "colab_type": "code",
    "id": "n5vlWXmwXixl",
    "outputId": "4534a665-2537-4de7-d0eb-ac872448af6f"
   },
   "outputs": [
    {
     "data": {
      "text/html": [
       "<style>\n",
       ".dl-inline {width: auto; margin:0; padding: 0}\n",
       ".dl-inline>dt, .dl-inline>dd {float: none; width: auto; display: inline-block}\n",
       ".dl-inline>dt::after {content: \":\\0020\"; padding-right: .5ex}\n",
       ".dl-inline>dt:not(:first-of-type) {padding-left: .5ex}\n",
       "</style><dl class=dl-inline><dt>NRMSE</dt><dd>0.19295614432668</dd><dt>PFC</dt><dd>0</dd></dl>\n"
      ],
      "text/latex": [
       "\\begin{description*}\n",
       "\\item[NRMSE] 0.19295614432668\n",
       "\\item[PFC] 0\n",
       "\\end{description*}\n"
      ],
      "text/markdown": [
       "NRMSE\n",
       ":   0.19295614432668PFC\n",
       ":   0\n",
       "\n"
      ],
      "text/plain": [
       "    NRMSE       PFC \n",
       "0.1929561 0.0000000 "
      ]
     },
     "metadata": {},
     "output_type": "display_data"
    },
    {
     "data": {
      "text/plain": [
       "NULL"
      ]
     },
     "metadata": {},
     "output_type": "display_data"
    }
   ],
   "source": [
    "TitDataImp$OOBerror\n",
    "TitDataImp$error\n",
    "TitDataImputation=TitDataImp$ximp"
   ]
  },
  {
   "cell_type": "markdown",
   "metadata": {
    "colab_type": "text",
    "id": "SU8w4tTrXp0k"
   },
   "source": [
    "Nous avons une erreur de l'ordre de 19%. Ce qui semble acceptable. ####\n",
    "\n",
    "\n",
    "Maintenant que les données sont imputés, nous allons passer à la prédiction avec les arbres aléatoires. Tout d'abord nous devons créer des échantillons test et d'apprentissage."
   ]
  },
  {
   "cell_type": "code",
   "execution_count": 41,
   "metadata": {
    "colab": {},
    "colab_type": "code",
    "collapsed": true,
    "id": "rJXu9SDcXtTC"
   },
   "outputs": [],
   "source": [
    "set.seed(111) # initialisation du générateur\n",
    "# Extraction des échantillons\n",
    "test.ratio <- .3   # part de l'échantillon test\n",
    "npop <- nrow(TitDataImputation) # nombre de lignes dans les données\n",
    "nvar <- ncol(TitDataImputation) # nombre de colonnes\n",
    "# taille de l'échantillon test\n",
    "ntest <- ceiling(npop * test.ratio) \n",
    "# indices de l'échantillon test\n",
    "testi <- sample(1:npop, ntest)\n",
    "# indices de l'échantillon d'apprentissage\n",
    "appri <- setdiff(1:npop, testi) "
   ]
  },
  {
   "cell_type": "code",
   "execution_count": 42,
   "metadata": {
    "colab": {
     "base_uri": "https://localhost:8080/",
     "height": 487
    },
    "colab_type": "code",
    "id": "0IdV30_dX0J6",
    "outputId": "2f05295c-36bc-4aa4-e4f1-1cf0e9e5dd69"
   },
   "outputs": [
    {
     "data": {
      "text/plain": [
       "  Survived       Pclass        Sex           Age            SibSp       \n",
       " FALSE:389   class 1:145   female:217   Min.   : 0.42   Min.   :0.0000  \n",
       " TRUE :233   class 2:132   male  :405   1st Qu.:21.00   1st Qu.:0.0000  \n",
       "             class 3:345                Median :29.00   Median :0.0000  \n",
       "                                        Mean   :29.94   Mean   :0.5161  \n",
       "                                        3rd Qu.:37.00   3rd Qu.:1.0000  \n",
       "                                        Max.   :80.00   Max.   :8.0000  \n",
       "     Parch             Fare         Embarked\n",
       " Min.   :0.0000   Min.   :  0.000    :  0   \n",
       " 1st Qu.:0.0000   1st Qu.:  7.925   C:110   \n",
       " Median :0.0000   Median : 14.200   Q: 60   \n",
       " Mean   :0.3666   Mean   : 31.282   S:452   \n",
       " 3rd Qu.:0.0000   3rd Qu.: 29.125           \n",
       " Max.   :5.0000   Max.   :512.329           "
      ]
     },
     "metadata": {},
     "output_type": "display_data"
    },
    {
     "data": {
      "text/plain": [
       "  Survived       Pclass        Sex           Age            SibSp       \n",
       " FALSE:160   class 1: 69   female: 95   Min.   : 0.75   Min.   :0.0000  \n",
       " TRUE :107   class 2: 52   male  :172   1st Qu.:21.00   1st Qu.:0.0000  \n",
       "             class 3:146                Median :28.46   Median :0.0000  \n",
       "                                        Mean   :28.58   Mean   :0.5431  \n",
       "                                        3rd Qu.:35.00   3rd Qu.:1.0000  \n",
       "                                        Max.   :71.00   Max.   :8.0000  \n",
       "     Parch             Fare         Embarked\n",
       " Min.   :0.0000   Min.   :  0.000    :  0   \n",
       " 1st Qu.:0.0000   1st Qu.:  7.896   C: 58   \n",
       " Median :0.0000   Median : 15.500   Q: 17   \n",
       " Mean   :0.4195   Mean   : 33.994   S:192   \n",
       " 3rd Qu.:1.0000   3rd Qu.: 39.344           \n",
       " Max.   :6.0000   Max.   :512.329           "
      ]
     },
     "metadata": {},
     "output_type": "display_data"
    }
   ],
   "source": [
    "# construction de l'échantillon d'apprentissage\n",
    "datappr <- TitDataImputation[appri, ] \n",
    "# construction de l'échantillon test\n",
    "datestd <- TitDataImputation[testi, ] \n",
    "summary(datappr) # vérification\n",
    "summary(datestd)"
   ]
  },
  {
   "cell_type": "markdown",
   "metadata": {
    "colab_type": "text",
    "id": "DOivGQQzX3H5"
   },
   "source": [
    "## C. 1 Régression logistique\n",
    "\n",
    "Dans cette partie, nous allons utiliser la méthode de la régression logistique pour expliquer notre modèle. Tout d'abord commençons par la régression logistique sans interactions entre les variables explicatives. "
   ]
  },
  {
   "cell_type": "markdown",
   "metadata": {
    "colab_type": "text",
    "id": "qfRFyiFeOElE"
   },
   "source": [
    "### C.1.1 Régression logistique sans interactions"
   ]
  },
  {
   "cell_type": "code",
   "execution_count": 43,
   "metadata": {
    "colab": {
     "base_uri": "https://localhost:8080/",
     "height": 235
    },
    "colab_type": "code",
    "id": "fvT7VlHLX43F",
    "outputId": "34f57571-c35d-439a-c774-55e313f7ebea"
   },
   "outputs": [
    {
     "data": {
      "text/html": [
       "<table>\n",
       "<caption>A anova: 8 × 5</caption>\n",
       "<thead>\n",
       "\t<tr><th></th><th scope=col>Df</th><th scope=col>Deviance</th><th scope=col>Resid. Df</th><th scope=col>Resid. Dev</th><th scope=col>Pr(&gt;Chi)</th></tr>\n",
       "\t<tr><th></th><th scope=col>&lt;int&gt;</th><th scope=col>&lt;dbl&gt;</th><th scope=col>&lt;int&gt;</th><th scope=col>&lt;dbl&gt;</th><th scope=col>&lt;dbl&gt;</th></tr>\n",
       "</thead>\n",
       "<tbody>\n",
       "\t<tr><th scope=row>NULL</th><td>NA</td><td>         NA</td><td>621</td><td>822.7288</td><td>          NA</td></tr>\n",
       "\t<tr><th scope=row>Pclass</th><td> 2</td><td> 68.3963243</td><td>619</td><td>754.3325</td><td>1.405811e-15</td></tr>\n",
       "\t<tr><th scope=row>Sex</th><td> 1</td><td>192.9840867</td><td>618</td><td>561.3484</td><td>7.095702e-44</td></tr>\n",
       "\t<tr><th scope=row>Age</th><td> 1</td><td> 16.9374013</td><td>617</td><td>544.4110</td><td>3.863286e-05</td></tr>\n",
       "\t<tr><th scope=row>SibSp</th><td> 1</td><td> 10.9677738</td><td>616</td><td>533.4432</td><td>9.271007e-04</td></tr>\n",
       "\t<tr><th scope=row>Parch</th><td> 1</td><td>  0.4596331</td><td>615</td><td>532.9836</td><td>4.977955e-01</td></tr>\n",
       "\t<tr><th scope=row>Fare</th><td> 1</td><td>  0.6802161</td><td>614</td><td>532.3034</td><td>4.095123e-01</td></tr>\n",
       "\t<tr><th scope=row>Embarked</th><td> 2</td><td>  0.9443109</td><td>612</td><td>531.3591</td><td>6.236566e-01</td></tr>\n",
       "</tbody>\n",
       "</table>\n"
      ],
      "text/latex": [
       "A anova: 8 × 5\n",
       "\\begin{tabular}{r|lllll}\n",
       "  & Df & Deviance & Resid. Df & Resid. Dev & Pr(>Chi)\\\\\n",
       "  & <int> & <dbl> & <int> & <dbl> & <dbl>\\\\\n",
       "\\hline\n",
       "\tNULL & NA &          NA & 621 & 822.7288 &           NA\\\\\n",
       "\tPclass &  2 &  68.3963243 & 619 & 754.3325 & 1.405811e-15\\\\\n",
       "\tSex &  1 & 192.9840867 & 618 & 561.3484 & 7.095702e-44\\\\\n",
       "\tAge &  1 &  16.9374013 & 617 & 544.4110 & 3.863286e-05\\\\\n",
       "\tSibSp &  1 &  10.9677738 & 616 & 533.4432 & 9.271007e-04\\\\\n",
       "\tParch &  1 &   0.4596331 & 615 & 532.9836 & 4.977955e-01\\\\\n",
       "\tFare &  1 &   0.6802161 & 614 & 532.3034 & 4.095123e-01\\\\\n",
       "\tEmbarked &  2 &   0.9443109 & 612 & 531.3591 & 6.236566e-01\\\\\n",
       "\\end{tabular}\n"
      ],
      "text/markdown": [
       "\n",
       "A anova: 8 × 5\n",
       "\n",
       "| <!--/--> | Df &lt;int&gt; | Deviance &lt;dbl&gt; | Resid. Df &lt;int&gt; | Resid. Dev &lt;dbl&gt; | Pr(&gt;Chi) &lt;dbl&gt; |\n",
       "|---|---|---|---|---|---|\n",
       "| NULL | NA |          NA | 621 | 822.7288 |           NA |\n",
       "| Pclass |  2 |  68.3963243 | 619 | 754.3325 | 1.405811e-15 |\n",
       "| Sex |  1 | 192.9840867 | 618 | 561.3484 | 7.095702e-44 |\n",
       "| Age |  1 |  16.9374013 | 617 | 544.4110 | 3.863286e-05 |\n",
       "| SibSp |  1 |  10.9677738 | 616 | 533.4432 | 9.271007e-04 |\n",
       "| Parch |  1 |   0.4596331 | 615 | 532.9836 | 4.977955e-01 |\n",
       "| Fare |  1 |   0.6802161 | 614 | 532.3034 | 4.095123e-01 |\n",
       "| Embarked |  2 |   0.9443109 | 612 | 531.3591 | 6.236566e-01 |\n",
       "\n"
      ],
      "text/plain": [
       "         Df Deviance    Resid. Df Resid. Dev Pr(>Chi)    \n",
       "NULL     NA          NA 621       822.7288             NA\n",
       "Pclass    2  68.3963243 619       754.3325   1.405811e-15\n",
       "Sex       1 192.9840867 618       561.3484   7.095702e-44\n",
       "Age       1  16.9374013 617       544.4110   3.863286e-05\n",
       "SibSp     1  10.9677738 616       533.4432   9.271007e-04\n",
       "Parch     1   0.4596331 615       532.9836   4.977955e-01\n",
       "Fare      1   0.6802161 614       532.3034   4.095123e-01\n",
       "Embarked  2   0.9443109 612       531.3591   6.236566e-01"
      ]
     },
     "metadata": {},
     "output_type": "display_data"
    }
   ],
   "source": [
    "log.lm=glm(Survived~.,data=datappr,family=binomial)\n",
    "anova(log.lm,test=\"Chisq\")"
   ]
  },
  {
   "cell_type": "code",
   "execution_count": 44,
   "metadata": {
    "colab": {
     "base_uri": "https://localhost:8080/",
     "height": 605
    },
    "colab_type": "code",
    "id": "EuFhrc5nYEM8",
    "outputId": "59374cb8-a44f-4dda-92a2-7c2cd57069b4"
   },
   "outputs": [
    {
     "name": "stdout",
     "output_type": "stream",
     "text": [
      "Start:  AIC=551.36\n",
      "Survived ~ Pclass + Sex + Age + SibSp + Parch + Fare + Embarked\n",
      "\n",
      "           Df Deviance    AIC\n",
      "- Embarked  2   532.30 548.30\n",
      "- Fare      1   531.80 549.80\n",
      "- Parch     1   531.95 549.95\n",
      "<none>          531.36 551.36\n",
      "- SibSp     1   539.03 557.03\n",
      "- Age       1   553.08 571.08\n",
      "- Pclass    2   585.25 601.25\n",
      "- Sex       1   690.87 708.87\n",
      "\n",
      "Step:  AIC=548.3\n",
      "Survived ~ Pclass + Sex + Age + SibSp + Parch + Fare\n",
      "\n",
      "         Df Deviance    AIC\n",
      "- Fare    1   532.98 546.98\n",
      "- Parch   1   533.01 547.01\n",
      "<none>        532.30 548.30\n",
      "- SibSp   1   541.10 555.10\n",
      "- Age     1   554.23 568.23\n",
      "- Pclass  2   586.40 598.40\n",
      "- Sex     1   701.66 715.66\n",
      "\n",
      "Step:  AIC=546.98\n",
      "Survived ~ Pclass + Sex + Age + SibSp + Parch\n",
      "\n",
      "         Df Deviance    AIC\n",
      "- Parch   1   533.44 545.44\n",
      "<none>        532.98 546.98\n",
      "- SibSp   1   541.37 553.37\n",
      "- Age     1   556.52 568.52\n",
      "- Pclass  2   622.22 632.22\n",
      "- Sex     1   704.80 716.80\n",
      "\n",
      "Step:  AIC=545.44\n",
      "Survived ~ Pclass + Sex + Age + SibSp\n",
      "\n",
      "         Df Deviance    AIC\n",
      "<none>        533.44 545.44\n",
      "- SibSp   1   544.41 554.41\n",
      "- Age     1   556.89 566.89\n",
      "- Pclass  2   622.72 630.72\n",
      "- Sex     1   709.65 719.65\n"
     ]
    }
   ],
   "source": [
    "# Recherche d'un modèle optimal au sens d'Akaïke\n",
    "log.lm.step=step(log.lm,direction=\"backward\")"
   ]
  },
  {
   "cell_type": "code",
   "execution_count": 45,
   "metadata": {
    "colab": {
     "base_uri": "https://localhost:8080/",
     "height": 118
    },
    "colab_type": "code",
    "id": "azlfgUCfYIjB",
    "outputId": "07028066-ac25-4445-bba7-d59365b5b12a"
   },
   "outputs": [
    {
     "name": "stdout",
     "output_type": "stream",
     "text": [
      "       \n",
      "        FALSE TRUE\n",
      "  FALSE   340   70\n",
      "  TRUE     49  163\n",
      "[1] \"Taux de bien classés:\"\n",
      "[1] 80.86817\n",
      "[1] \"Taux de Vrai Positfs\"\n",
      "[1] 76.88679\n",
      "[1] \"Taux de Faux Positfs\"\n",
      "[1] 12.5964\n"
     ]
    }
   ],
   "source": [
    "t=table(log.lm.step$fitted.values>0.5,datappr[,\"Survived\"])\n",
    "print(t)\n",
    "print(\"Taux de bien classés:\")\n",
    "Taux_B_Class=1-(t[1,2]+t[2,1])/sum(t)\n",
    "print(Taux_B_Class*100)\n",
    "Taux_v_positif=t[2,2]/(t[2,1]+t[2,2])*100\n",
    "print(\"Taux de Vrai Positfs\")\n",
    "print(Taux_v_positif)\n",
    "Taux_Faux_positif=t[2,1]/(t[2,1]+t[1,1])*100\n",
    "print(\"Taux de Faux Positfs\")\n",
    "print(Taux_Faux_positif)"
   ]
  },
  {
   "cell_type": "markdown",
   "metadata": {
    "colab_type": "text",
    "id": "LueMxApBYOJ8"
   },
   "source": [
    "Nous obtenons un taux de bien classés de 81%. Ce résultat est bien. Il nous est demandé d'avoir un modèle avec un taux de bien classés de plus de 80% . \n",
    "Nous pouvons aussi constater que le modèle recommendé lors de la recherche du modèle (Survived ~ Pclass + Sex + Age + SibSp) trouve plus facile les personnes qui meurent que ceux que survivent. \n",
    "\n",
    "Observons les résultats sur l'échantillon test.  "
   ]
  },
  {
   "cell_type": "code",
   "execution_count": 46,
   "metadata": {},
   "outputs": [
    {
     "name": "stdout",
     "output_type": "stream",
     "text": [
      "       \n",
      "        FALSE TRUE\n",
      "  FALSE   136   27\n",
      "  TRUE     24   80\n",
      "[1] \"Taux de bien classés:\"\n",
      "[1] 80.89888\n",
      "[1] \"Taux de Vrai Positfs\"\n",
      "[1] 76.92308\n",
      "[1] \"Taux de Faux Positfs\"\n",
      "[1] 15\n"
     ]
    }
   ],
   "source": [
    "pred.log=predict(log.lm.step,newdata=datestd,type=\"response\")\n",
    "Tab <- table(pred.log>0.5, datestd[,\"Survived\"])\n",
    "print(Tab)\n",
    "print(\"Taux de bien classés:\")\n",
    "Taux_B_Class=1-(Tab[1,2]+Tab[2,1])/sum(Tab)\n",
    "print(Taux_B_Class*100)\n",
    "Taux_v_positif=Tab[2,2]/(Tab[2,1]+Tab[2,2])*100\n",
    "print(\"Taux de Vrai Positfs\")\n",
    "print(Taux_v_positif)\n",
    "Taux_Faux_positif=Tab[2,1]/(Tab[2,1]+Tab[1,1])*100\n",
    "print(\"Taux de Faux Positfs\")\n",
    "print(Taux_Faux_positif)"
   ]
  },
  {
   "cell_type": "markdown",
   "metadata": {},
   "source": [
    "Nous obtenons un taux de bien classés de 81%. C'est relativement un bon résultat."
   ]
  },
  {
   "cell_type": "markdown",
   "metadata": {
    "colab_type": "text",
    "id": "vZ5ZUA-bYSPW"
   },
   "source": [
    "### C.1.2 Régression avec interactions\n",
    "\n",
    "Nous essayons par la suite d'améliorer le modèle en ajoutant les interactions. "
   ]
  },
  {
   "cell_type": "code",
   "execution_count": 47,
   "metadata": {
    "colab": {
     "base_uri": "https://localhost:8080/",
     "height": 722
    },
    "colab_type": "code",
    "id": "twqR9cDtYTek",
    "outputId": "992863be-03c0-48cc-fec0-0a17f3c93820"
   },
   "outputs": [
    {
     "name": "stderr",
     "output_type": "stream",
     "text": [
      "Warning message:\n",
      "\"glm.fit: fitted probabilities numerically 0 or 1 occurred\"\n",
      "Warning message:\n",
      "\"glm.fit: fitted probabilities numerically 0 or 1 occurred\"\n"
     ]
    },
    {
     "data": {
      "text/html": [
       "<table>\n",
       "<caption>A anova: 29 × 5</caption>\n",
       "<thead>\n",
       "\t<tr><th></th><th scope=col>Df</th><th scope=col>Deviance</th><th scope=col>Resid. Df</th><th scope=col>Resid. Dev</th><th scope=col>Pr(&gt;Chi)</th></tr>\n",
       "\t<tr><th></th><th scope=col>&lt;int&gt;</th><th scope=col>&lt;dbl&gt;</th><th scope=col>&lt;int&gt;</th><th scope=col>&lt;dbl&gt;</th><th scope=col>&lt;dbl&gt;</th></tr>\n",
       "</thead>\n",
       "<tbody>\n",
       "\t<tr><th scope=row>NULL</th><td>NA</td><td>          NA</td><td>621</td><td>822.7288</td><td>          NA</td></tr>\n",
       "\t<tr><th scope=row>Pclass</th><td> 2</td><td> 68.39632434</td><td>619</td><td>754.3325</td><td>1.405811e-15</td></tr>\n",
       "\t<tr><th scope=row>Sex</th><td> 1</td><td>192.98408667</td><td>618</td><td>561.3484</td><td>7.095702e-44</td></tr>\n",
       "\t<tr><th scope=row>Age</th><td> 1</td><td> 16.93740127</td><td>617</td><td>544.4110</td><td>3.863286e-05</td></tr>\n",
       "\t<tr><th scope=row>SibSp</th><td> 1</td><td> 10.96777383</td><td>616</td><td>533.4432</td><td>9.271007e-04</td></tr>\n",
       "\t<tr><th scope=row>Parch</th><td> 1</td><td>  0.45963310</td><td>615</td><td>532.9836</td><td>4.977955e-01</td></tr>\n",
       "\t<tr><th scope=row>Fare</th><td> 1</td><td>  0.68021614</td><td>614</td><td>532.3034</td><td>4.095123e-01</td></tr>\n",
       "\t<tr><th scope=row>Embarked</th><td> 2</td><td>  0.94431090</td><td>612</td><td>531.3591</td><td>6.236566e-01</td></tr>\n",
       "\t<tr><th scope=row>Pclass:Sex</th><td> 2</td><td> 22.81259803</td><td>610</td><td>508.5465</td><td>1.112519e-05</td></tr>\n",
       "\t<tr><th scope=row>Pclass:Age</th><td> 2</td><td>  2.88981894</td><td>608</td><td>505.6567</td><td>2.357674e-01</td></tr>\n",
       "\t<tr><th scope=row>Pclass:SibSp</th><td> 2</td><td> 15.37018902</td><td>606</td><td>490.2865</td><td>4.596273e-04</td></tr>\n",
       "\t<tr><th scope=row>Pclass:Parch</th><td> 2</td><td>  5.91688856</td><td>604</td><td>484.3696</td><td>5.189960e-02</td></tr>\n",
       "\t<tr><th scope=row>Pclass:Fare</th><td> 2</td><td>  9.85338374</td><td>602</td><td>474.5162</td><td>7.250449e-03</td></tr>\n",
       "\t<tr><th scope=row>Pclass:Embarked</th><td> 4</td><td>  3.37552437</td><td>598</td><td>471.1407</td><td>4.970557e-01</td></tr>\n",
       "\t<tr><th scope=row>Sex:Age</th><td> 1</td><td>  2.36406028</td><td>597</td><td>468.7766</td><td>1.241587e-01</td></tr>\n",
       "\t<tr><th scope=row>Sex:SibSp</th><td> 1</td><td>  0.04122216</td><td>596</td><td>468.7354</td><td>8.391097e-01</td></tr>\n",
       "\t<tr><th scope=row>Sex:Parch</th><td> 1</td><td>  1.31281714</td><td>595</td><td>467.4226</td><td>2.518852e-01</td></tr>\n",
       "\t<tr><th scope=row>Sex:Fare</th><td> 1</td><td>  0.00213092</td><td>594</td><td>467.4204</td><td>9.631812e-01</td></tr>\n",
       "\t<tr><th scope=row>Sex:Embarked</th><td> 2</td><td>  3.59228284</td><td>592</td><td>463.8282</td><td>1.659379e-01</td></tr>\n",
       "\t<tr><th scope=row>Age:SibSp</th><td> 1</td><td>  0.02082496</td><td>591</td><td>463.8073</td><td>8.852568e-01</td></tr>\n",
       "\t<tr><th scope=row>Age:Parch</th><td> 1</td><td>  6.32112290</td><td>590</td><td>457.4862</td><td>1.193081e-02</td></tr>\n",
       "\t<tr><th scope=row>Age:Fare</th><td> 1</td><td>  2.67189543</td><td>589</td><td>454.8143</td><td>1.021343e-01</td></tr>\n",
       "\t<tr><th scope=row>Age:Embarked</th><td> 2</td><td>  5.40437521</td><td>587</td><td>449.4099</td><td>6.705865e-02</td></tr>\n",
       "\t<tr><th scope=row>SibSp:Parch</th><td> 1</td><td>  0.04695930</td><td>586</td><td>449.3630</td><td>8.284414e-01</td></tr>\n",
       "\t<tr><th scope=row>SibSp:Fare</th><td> 1</td><td>  2.17259672</td><td>585</td><td>447.1904</td><td>1.404888e-01</td></tr>\n",
       "\t<tr><th scope=row>SibSp:Embarked</th><td> 2</td><td>  2.76827448</td><td>583</td><td>444.4221</td><td>2.505399e-01</td></tr>\n",
       "\t<tr><th scope=row>Parch:Fare</th><td> 1</td><td>  0.81067733</td><td>582</td><td>443.6114</td><td>3.679201e-01</td></tr>\n",
       "\t<tr><th scope=row>Parch:Embarked</th><td> 2</td><td> 19.43442459</td><td>580</td><td>424.1770</td><td>6.023769e-05</td></tr>\n",
       "\t<tr><th scope=row>Fare:Embarked</th><td> 2</td><td>  8.44612541</td><td>578</td><td>415.7309</td><td>1.465370e-02</td></tr>\n",
       "</tbody>\n",
       "</table>\n"
      ],
      "text/latex": [
       "A anova: 29 × 5\n",
       "\\begin{tabular}{r|lllll}\n",
       "  & Df & Deviance & Resid. Df & Resid. Dev & Pr(>Chi)\\\\\n",
       "  & <int> & <dbl> & <int> & <dbl> & <dbl>\\\\\n",
       "\\hline\n",
       "\tNULL & NA &           NA & 621 & 822.7288 &           NA\\\\\n",
       "\tPclass &  2 &  68.39632434 & 619 & 754.3325 & 1.405811e-15\\\\\n",
       "\tSex &  1 & 192.98408667 & 618 & 561.3484 & 7.095702e-44\\\\\n",
       "\tAge &  1 &  16.93740127 & 617 & 544.4110 & 3.863286e-05\\\\\n",
       "\tSibSp &  1 &  10.96777383 & 616 & 533.4432 & 9.271007e-04\\\\\n",
       "\tParch &  1 &   0.45963310 & 615 & 532.9836 & 4.977955e-01\\\\\n",
       "\tFare &  1 &   0.68021614 & 614 & 532.3034 & 4.095123e-01\\\\\n",
       "\tEmbarked &  2 &   0.94431090 & 612 & 531.3591 & 6.236566e-01\\\\\n",
       "\tPclass:Sex &  2 &  22.81259803 & 610 & 508.5465 & 1.112519e-05\\\\\n",
       "\tPclass:Age &  2 &   2.88981894 & 608 & 505.6567 & 2.357674e-01\\\\\n",
       "\tPclass:SibSp &  2 &  15.37018902 & 606 & 490.2865 & 4.596273e-04\\\\\n",
       "\tPclass:Parch &  2 &   5.91688856 & 604 & 484.3696 & 5.189960e-02\\\\\n",
       "\tPclass:Fare &  2 &   9.85338374 & 602 & 474.5162 & 7.250449e-03\\\\\n",
       "\tPclass:Embarked &  4 &   3.37552437 & 598 & 471.1407 & 4.970557e-01\\\\\n",
       "\tSex:Age &  1 &   2.36406028 & 597 & 468.7766 & 1.241587e-01\\\\\n",
       "\tSex:SibSp &  1 &   0.04122216 & 596 & 468.7354 & 8.391097e-01\\\\\n",
       "\tSex:Parch &  1 &   1.31281714 & 595 & 467.4226 & 2.518852e-01\\\\\n",
       "\tSex:Fare &  1 &   0.00213092 & 594 & 467.4204 & 9.631812e-01\\\\\n",
       "\tSex:Embarked &  2 &   3.59228284 & 592 & 463.8282 & 1.659379e-01\\\\\n",
       "\tAge:SibSp &  1 &   0.02082496 & 591 & 463.8073 & 8.852568e-01\\\\\n",
       "\tAge:Parch &  1 &   6.32112290 & 590 & 457.4862 & 1.193081e-02\\\\\n",
       "\tAge:Fare &  1 &   2.67189543 & 589 & 454.8143 & 1.021343e-01\\\\\n",
       "\tAge:Embarked &  2 &   5.40437521 & 587 & 449.4099 & 6.705865e-02\\\\\n",
       "\tSibSp:Parch &  1 &   0.04695930 & 586 & 449.3630 & 8.284414e-01\\\\\n",
       "\tSibSp:Fare &  1 &   2.17259672 & 585 & 447.1904 & 1.404888e-01\\\\\n",
       "\tSibSp:Embarked &  2 &   2.76827448 & 583 & 444.4221 & 2.505399e-01\\\\\n",
       "\tParch:Fare &  1 &   0.81067733 & 582 & 443.6114 & 3.679201e-01\\\\\n",
       "\tParch:Embarked &  2 &  19.43442459 & 580 & 424.1770 & 6.023769e-05\\\\\n",
       "\tFare:Embarked &  2 &   8.44612541 & 578 & 415.7309 & 1.465370e-02\\\\\n",
       "\\end{tabular}\n"
      ],
      "text/markdown": [
       "\n",
       "A anova: 29 × 5\n",
       "\n",
       "| <!--/--> | Df &lt;int&gt; | Deviance &lt;dbl&gt; | Resid. Df &lt;int&gt; | Resid. Dev &lt;dbl&gt; | Pr(&gt;Chi) &lt;dbl&gt; |\n",
       "|---|---|---|---|---|---|\n",
       "| NULL | NA |           NA | 621 | 822.7288 |           NA |\n",
       "| Pclass |  2 |  68.39632434 | 619 | 754.3325 | 1.405811e-15 |\n",
       "| Sex |  1 | 192.98408667 | 618 | 561.3484 | 7.095702e-44 |\n",
       "| Age |  1 |  16.93740127 | 617 | 544.4110 | 3.863286e-05 |\n",
       "| SibSp |  1 |  10.96777383 | 616 | 533.4432 | 9.271007e-04 |\n",
       "| Parch |  1 |   0.45963310 | 615 | 532.9836 | 4.977955e-01 |\n",
       "| Fare |  1 |   0.68021614 | 614 | 532.3034 | 4.095123e-01 |\n",
       "| Embarked |  2 |   0.94431090 | 612 | 531.3591 | 6.236566e-01 |\n",
       "| Pclass:Sex |  2 |  22.81259803 | 610 | 508.5465 | 1.112519e-05 |\n",
       "| Pclass:Age |  2 |   2.88981894 | 608 | 505.6567 | 2.357674e-01 |\n",
       "| Pclass:SibSp |  2 |  15.37018902 | 606 | 490.2865 | 4.596273e-04 |\n",
       "| Pclass:Parch |  2 |   5.91688856 | 604 | 484.3696 | 5.189960e-02 |\n",
       "| Pclass:Fare |  2 |   9.85338374 | 602 | 474.5162 | 7.250449e-03 |\n",
       "| Pclass:Embarked |  4 |   3.37552437 | 598 | 471.1407 | 4.970557e-01 |\n",
       "| Sex:Age |  1 |   2.36406028 | 597 | 468.7766 | 1.241587e-01 |\n",
       "| Sex:SibSp |  1 |   0.04122216 | 596 | 468.7354 | 8.391097e-01 |\n",
       "| Sex:Parch |  1 |   1.31281714 | 595 | 467.4226 | 2.518852e-01 |\n",
       "| Sex:Fare |  1 |   0.00213092 | 594 | 467.4204 | 9.631812e-01 |\n",
       "| Sex:Embarked |  2 |   3.59228284 | 592 | 463.8282 | 1.659379e-01 |\n",
       "| Age:SibSp |  1 |   0.02082496 | 591 | 463.8073 | 8.852568e-01 |\n",
       "| Age:Parch |  1 |   6.32112290 | 590 | 457.4862 | 1.193081e-02 |\n",
       "| Age:Fare |  1 |   2.67189543 | 589 | 454.8143 | 1.021343e-01 |\n",
       "| Age:Embarked |  2 |   5.40437521 | 587 | 449.4099 | 6.705865e-02 |\n",
       "| SibSp:Parch |  1 |   0.04695930 | 586 | 449.3630 | 8.284414e-01 |\n",
       "| SibSp:Fare |  1 |   2.17259672 | 585 | 447.1904 | 1.404888e-01 |\n",
       "| SibSp:Embarked |  2 |   2.76827448 | 583 | 444.4221 | 2.505399e-01 |\n",
       "| Parch:Fare |  1 |   0.81067733 | 582 | 443.6114 | 3.679201e-01 |\n",
       "| Parch:Embarked |  2 |  19.43442459 | 580 | 424.1770 | 6.023769e-05 |\n",
       "| Fare:Embarked |  2 |   8.44612541 | 578 | 415.7309 | 1.465370e-02 |\n",
       "\n"
      ],
      "text/plain": [
       "                Df Deviance     Resid. Df Resid. Dev Pr(>Chi)    \n",
       "NULL            NA           NA 621       822.7288             NA\n",
       "Pclass           2  68.39632434 619       754.3325   1.405811e-15\n",
       "Sex              1 192.98408667 618       561.3484   7.095702e-44\n",
       "Age              1  16.93740127 617       544.4110   3.863286e-05\n",
       "SibSp            1  10.96777383 616       533.4432   9.271007e-04\n",
       "Parch            1   0.45963310 615       532.9836   4.977955e-01\n",
       "Fare             1   0.68021614 614       532.3034   4.095123e-01\n",
       "Embarked         2   0.94431090 612       531.3591   6.236566e-01\n",
       "Pclass:Sex       2  22.81259803 610       508.5465   1.112519e-05\n",
       "Pclass:Age       2   2.88981894 608       505.6567   2.357674e-01\n",
       "Pclass:SibSp     2  15.37018902 606       490.2865   4.596273e-04\n",
       "Pclass:Parch     2   5.91688856 604       484.3696   5.189960e-02\n",
       "Pclass:Fare      2   9.85338374 602       474.5162   7.250449e-03\n",
       "Pclass:Embarked  4   3.37552437 598       471.1407   4.970557e-01\n",
       "Sex:Age          1   2.36406028 597       468.7766   1.241587e-01\n",
       "Sex:SibSp        1   0.04122216 596       468.7354   8.391097e-01\n",
       "Sex:Parch        1   1.31281714 595       467.4226   2.518852e-01\n",
       "Sex:Fare         1   0.00213092 594       467.4204   9.631812e-01\n",
       "Sex:Embarked     2   3.59228284 592       463.8282   1.659379e-01\n",
       "Age:SibSp        1   0.02082496 591       463.8073   8.852568e-01\n",
       "Age:Parch        1   6.32112290 590       457.4862   1.193081e-02\n",
       "Age:Fare         1   2.67189543 589       454.8143   1.021343e-01\n",
       "Age:Embarked     2   5.40437521 587       449.4099   6.705865e-02\n",
       "SibSp:Parch      1   0.04695930 586       449.3630   8.284414e-01\n",
       "SibSp:Fare       1   2.17259672 585       447.1904   1.404888e-01\n",
       "SibSp:Embarked   2   2.76827448 583       444.4221   2.505399e-01\n",
       "Parch:Fare       1   0.81067733 582       443.6114   3.679201e-01\n",
       "Parch:Embarked   2  19.43442459 580       424.1770   6.023769e-05\n",
       "Fare:Embarked    2   8.44612541 578       415.7309   1.465370e-02"
      ]
     },
     "metadata": {},
     "output_type": "display_data"
    }
   ],
   "source": [
    "log.lm1=glm(Survived~.^2,data=datappr,family=binomial)\n",
    "anova(log.lm1,test=\"Chisq\")"
   ]
  },
  {
   "cell_type": "code",
   "execution_count": 48,
   "metadata": {
    "colab": {
     "base_uri": "https://localhost:8080/",
     "height": 1000
    },
    "colab_type": "code",
    "id": "tFI52vW7YX8t",
    "outputId": "b7c9b1a5-97cc-4ca4-c5c3-997f3cf195f5"
   },
   "outputs": [
    {
     "name": "stdout",
     "output_type": "stream",
     "text": [
      "Start:  AIC=503.73\n",
      "Survived ~ (Pclass + Sex + Age + SibSp + Parch + Fare + Embarked)^2\n",
      "\n"
     ]
    },
    {
     "name": "stderr",
     "output_type": "stream",
     "text": [
      "Warning message:\n",
      "\"glm.fit: fitted probabilities numerically 0 or 1 occurred\"\n",
      "Warning message:\n",
      "\"glm.fit: fitted probabilities numerically 0 or 1 occurred\"\n",
      "Warning message:\n",
      "\"glm.fit: fitted probabilities numerically 0 or 1 occurred\"\n",
      "Warning message:\n",
      "\"glm.fit: fitted probabilities numerically 0 or 1 occurred\"\n",
      "Warning message:\n",
      "\"glm.fit: fitted probabilities numerically 0 or 1 occurred\"\n",
      "Warning message:\n",
      "\"glm.fit: fitted probabilities numerically 0 or 1 occurred\"\n",
      "Warning message:\n",
      "\"glm.fit: fitted probabilities numerically 0 or 1 occurred\"\n",
      "Warning message:\n",
      "\"glm.fit: fitted probabilities numerically 0 or 1 occurred\"\n",
      "Warning message:\n",
      "\"glm.fit: fitted probabilities numerically 0 or 1 occurred\"\n",
      "Warning message:\n",
      "\"glm.fit: fitted probabilities numerically 0 or 1 occurred\"\n",
      "Warning message:\n",
      "\"glm.fit: fitted probabilities numerically 0 or 1 occurred\"\n",
      "Warning message:\n",
      "\"glm.fit: fitted probabilities numerically 0 or 1 occurred\"\n",
      "Warning message:\n",
      "\"glm.fit: fitted probabilities numerically 0 or 1 occurred\"\n",
      "Warning message:\n",
      "\"glm.fit: fitted probabilities numerically 0 or 1 occurred\"\n",
      "Warning message:\n",
      "\"glm.fit: fitted probabilities numerically 0 or 1 occurred\"\n",
      "Warning message:\n",
      "\"glm.fit: fitted probabilities numerically 0 or 1 occurred\"\n",
      "Warning message:\n",
      "\"glm.fit: fitted probabilities numerically 0 or 1 occurred\"\n",
      "Warning message:\n",
      "\"glm.fit: fitted probabilities numerically 0 or 1 occurred\"\n",
      "Warning message:\n",
      "\"glm.fit: fitted probabilities numerically 0 or 1 occurred\"\n",
      "Warning message:\n",
      "\"glm.fit: fitted probabilities numerically 0 or 1 occurred\"\n"
     ]
    },
    {
     "name": "stdout",
     "output_type": "stream",
     "text": [
      "                  Df Deviance    AIC\n",
      "- Pclass:Embarked  4   417.56 497.56\n",
      "- Pclass:Age       2   416.05 500.05\n",
      "- Age:SibSp        1   415.73 501.73\n",
      "- SibSp:Embarked   2   417.77 501.77\n",
      "- Parch:Fare       1   415.79 501.79\n",
      "- Sex:Parch        1   415.83 501.83\n",
      "- Sex:SibSp        1   415.92 501.92\n",
      "- Pclass:Parch     2   418.02 502.02\n",
      "- Sex:Fare         1   416.55 502.55\n",
      "- SibSp:Parch      1   417.63 503.63\n",
      "<none>                 415.73 503.73\n",
      "- Sex:Age          1   418.41 504.41\n",
      "- SibSp:Fare       1   418.55 504.55\n",
      "- Age:Fare         1   418.74 504.74\n",
      "- Fare:Embarked    2   424.18 508.18\n",
      "- Pclass:Sex       2   425.05 509.05\n",
      "- Pclass:Fare      2   425.76 509.76\n",
      "- Age:Parch        1   424.18 510.18\n",
      "- Sex:Embarked     2   426.76 510.76\n",
      "- Age:Embarked     2   427.76 511.76\n",
      "- Pclass:SibSp     2   430.40 514.40\n",
      "- Parch:Embarked   2   440.77 524.77\n"
     ]
    },
    {
     "name": "stderr",
     "output_type": "stream",
     "text": [
      "Warning message:\n",
      "\"glm.fit: fitted probabilities numerically 0 or 1 occurred\"\n"
     ]
    },
    {
     "name": "stdout",
     "output_type": "stream",
     "text": [
      "\n",
      "Step:  AIC=497.56\n",
      "Survived ~ Pclass + Sex + Age + SibSp + Parch + Fare + Embarked + \n",
      "    Pclass:Sex + Pclass:Age + Pclass:SibSp + Pclass:Parch + Pclass:Fare + \n",
      "    Sex:Age + Sex:SibSp + Sex:Parch + Sex:Fare + Sex:Embarked + \n",
      "    Age:SibSp + Age:Parch + Age:Fare + Age:Embarked + SibSp:Parch + \n",
      "    SibSp:Fare + SibSp:Embarked + Parch:Fare + Parch:Embarked + \n",
      "    Fare:Embarked\n",
      "\n"
     ]
    },
    {
     "name": "stderr",
     "output_type": "stream",
     "text": [
      "Warning message:\n",
      "\"glm.fit: fitted probabilities numerically 0 or 1 occurred\"\n",
      "Warning message:\n",
      "\"glm.fit: fitted probabilities numerically 0 or 1 occurred\"\n",
      "Warning message:\n",
      "\"glm.fit: fitted probabilities numerically 0 or 1 occurred\"\n",
      "Warning message:\n",
      "\"glm.fit: fitted probabilities numerically 0 or 1 occurred\"\n",
      "Warning message:\n",
      "\"glm.fit: fitted probabilities numerically 0 or 1 occurred\"\n",
      "Warning message:\n",
      "\"glm.fit: fitted probabilities numerically 0 or 1 occurred\"\n",
      "Warning message:\n",
      "\"glm.fit: fitted probabilities numerically 0 or 1 occurred\"\n",
      "Warning message:\n",
      "\"glm.fit: fitted probabilities numerically 0 or 1 occurred\"\n",
      "Warning message:\n",
      "\"glm.fit: fitted probabilities numerically 0 or 1 occurred\"\n",
      "Warning message:\n",
      "\"glm.fit: fitted probabilities numerically 0 or 1 occurred\"\n",
      "Warning message:\n",
      "\"glm.fit: fitted probabilities numerically 0 or 1 occurred\"\n",
      "Warning message:\n",
      "\"glm.fit: fitted probabilities numerically 0 or 1 occurred\"\n",
      "Warning message:\n",
      "\"glm.fit: fitted probabilities numerically 0 or 1 occurred\"\n",
      "Warning message:\n",
      "\"glm.fit: fitted probabilities numerically 0 or 1 occurred\"\n",
      "Warning message:\n",
      "\"glm.fit: fitted probabilities numerically 0 or 1 occurred\"\n",
      "Warning message:\n",
      "\"glm.fit: fitted probabilities numerically 0 or 1 occurred\"\n",
      "Warning message:\n",
      "\"glm.fit: fitted probabilities numerically 0 or 1 occurred\"\n",
      "Warning message:\n",
      "\"glm.fit: fitted probabilities numerically 0 or 1 occurred\"\n",
      "Warning message:\n",
      "\"glm.fit: fitted probabilities numerically 0 or 1 occurred\"\n"
     ]
    },
    {
     "name": "stdout",
     "output_type": "stream",
     "text": [
      "                 Df Deviance    AIC\n",
      "- Pclass:Age      2   417.88 493.88\n",
      "- SibSp:Embarked  2   419.25 495.25\n",
      "- Age:SibSp       1   417.59 495.59\n",
      "- Sex:Parch       1   417.60 495.60\n",
      "- Sex:SibSp       1   417.67 495.67\n",
      "- Parch:Fare      1   417.73 495.73\n",
      "- Pclass:Parch    2   419.99 495.99\n",
      "- Sex:Fare        1   418.46 496.46\n",
      "- SibSp:Parch     1   419.27 497.27\n",
      "<none>                417.56 497.56\n",
      "- Sex:Age         1   420.33 498.33\n",
      "- SibSp:Fare      1   420.57 498.57\n",
      "- Age:Fare        1   421.07 499.07\n",
      "- Pclass:Sex      2   426.71 502.71\n",
      "- Pclass:Fare     2   427.19 503.19\n",
      "- Fare:Embarked   2   427.30 503.30\n",
      "- Age:Parch       1   426.11 504.11\n",
      "- Sex:Embarked    2   430.51 506.51\n",
      "- Pclass:SibSp    2   432.19 508.19\n",
      "- Age:Embarked    2   432.58 508.58\n",
      "- Parch:Embarked  2   443.12 519.12\n"
     ]
    },
    {
     "name": "stderr",
     "output_type": "stream",
     "text": [
      "Warning message:\n",
      "\"glm.fit: fitted probabilities numerically 0 or 1 occurred\"\n"
     ]
    },
    {
     "name": "stdout",
     "output_type": "stream",
     "text": [
      "\n",
      "Step:  AIC=493.88\n",
      "Survived ~ Pclass + Sex + Age + SibSp + Parch + Fare + Embarked + \n",
      "    Pclass:Sex + Pclass:SibSp + Pclass:Parch + Pclass:Fare + \n",
      "    Sex:Age + Sex:SibSp + Sex:Parch + Sex:Fare + Sex:Embarked + \n",
      "    Age:SibSp + Age:Parch + Age:Fare + Age:Embarked + SibSp:Parch + \n",
      "    SibSp:Fare + SibSp:Embarked + Parch:Fare + Parch:Embarked + \n",
      "    Fare:Embarked\n",
      "\n"
     ]
    },
    {
     "name": "stderr",
     "output_type": "stream",
     "text": [
      "Warning message:\n",
      "\"glm.fit: fitted probabilities numerically 0 or 1 occurred\"\n",
      "Warning message:\n",
      "\"glm.fit: fitted probabilities numerically 0 or 1 occurred\"\n",
      "Warning message:\n",
      "\"glm.fit: fitted probabilities numerically 0 or 1 occurred\"\n",
      "Warning message:\n",
      "\"glm.fit: fitted probabilities numerically 0 or 1 occurred\"\n",
      "Warning message:\n",
      "\"glm.fit: fitted probabilities numerically 0 or 1 occurred\"\n",
      "Warning message:\n",
      "\"glm.fit: fitted probabilities numerically 0 or 1 occurred\"\n",
      "Warning message:\n",
      "\"glm.fit: fitted probabilities numerically 0 or 1 occurred\"\n",
      "Warning message:\n",
      "\"glm.fit: fitted probabilities numerically 0 or 1 occurred\"\n",
      "Warning message:\n",
      "\"glm.fit: fitted probabilities numerically 0 or 1 occurred\"\n",
      "Warning message:\n",
      "\"glm.fit: fitted probabilities numerically 0 or 1 occurred\"\n",
      "Warning message:\n",
      "\"glm.fit: fitted probabilities numerically 0 or 1 occurred\"\n",
      "Warning message:\n",
      "\"glm.fit: fitted probabilities numerically 0 or 1 occurred\"\n",
      "Warning message:\n",
      "\"glm.fit: fitted probabilities numerically 0 or 1 occurred\"\n",
      "Warning message:\n",
      "\"glm.fit: fitted probabilities numerically 0 or 1 occurred\"\n",
      "Warning message:\n",
      "\"glm.fit: fitted probabilities numerically 0 or 1 occurred\"\n",
      "Warning message:\n",
      "\"glm.fit: fitted probabilities numerically 0 or 1 occurred\"\n",
      "Warning message:\n",
      "\"glm.fit: fitted probabilities numerically 0 or 1 occurred\"\n",
      "Warning message:\n",
      "\"glm.fit: fitted probabilities numerically 0 or 1 occurred\"\n"
     ]
    },
    {
     "name": "stdout",
     "output_type": "stream",
     "text": [
      "                 Df Deviance    AIC\n",
      "- SibSp:Embarked  2   419.56 491.56\n",
      "- Age:SibSp       1   417.88 491.88\n",
      "- Sex:Parch       1   417.90 491.90\n",
      "- Sex:SibSp       1   417.99 491.99\n",
      "- Parch:Fare      1   418.01 492.01\n",
      "- Pclass:Parch    2   420.22 492.22\n",
      "- Sex:Fare        1   418.62 492.62\n",
      "- SibSp:Parch     1   419.63 493.63\n",
      "<none>                417.88 493.88\n",
      "- SibSp:Fare      1   420.87 494.87\n",
      "- Sex:Age         1   421.06 495.06\n",
      "- Age:Fare        1   422.56 496.56\n",
      "- Pclass:Fare     2   427.27 499.27\n",
      "- Pclass:Sex      2   427.31 499.31\n",
      "- Fare:Embarked   2   427.57 499.57\n",
      "- Age:Parch       1   426.37 500.37\n",
      "- Sex:Embarked    2   430.84 502.84\n",
      "- Pclass:SibSp    2   432.57 504.57\n",
      "- Age:Embarked    2   433.09 505.09\n",
      "- Parch:Embarked  2   443.31 515.31\n"
     ]
    },
    {
     "name": "stderr",
     "output_type": "stream",
     "text": [
      "Warning message:\n",
      "\"glm.fit: fitted probabilities numerically 0 or 1 occurred\"\n"
     ]
    },
    {
     "name": "stdout",
     "output_type": "stream",
     "text": [
      "\n",
      "Step:  AIC=491.56\n",
      "Survived ~ Pclass + Sex + Age + SibSp + Parch + Fare + Embarked + \n",
      "    Pclass:Sex + Pclass:SibSp + Pclass:Parch + Pclass:Fare + \n",
      "    Sex:Age + Sex:SibSp + Sex:Parch + Sex:Fare + Sex:Embarked + \n",
      "    Age:SibSp + Age:Parch + Age:Fare + Age:Embarked + SibSp:Parch + \n",
      "    SibSp:Fare + Parch:Fare + Parch:Embarked + Fare:Embarked\n",
      "\n"
     ]
    },
    {
     "name": "stderr",
     "output_type": "stream",
     "text": [
      "Warning message:\n",
      "\"glm.fit: fitted probabilities numerically 0 or 1 occurred\"\n",
      "Warning message:\n",
      "\"glm.fit: fitted probabilities numerically 0 or 1 occurred\"\n",
      "Warning message:\n",
      "\"glm.fit: fitted probabilities numerically 0 or 1 occurred\"\n",
      "Warning message:\n",
      "\"glm.fit: fitted probabilities numerically 0 or 1 occurred\"\n",
      "Warning message:\n",
      "\"glm.fit: fitted probabilities numerically 0 or 1 occurred\"\n",
      "Warning message:\n",
      "\"glm.fit: fitted probabilities numerically 0 or 1 occurred\"\n",
      "Warning message:\n",
      "\"glm.fit: fitted probabilities numerically 0 or 1 occurred\"\n",
      "Warning message:\n",
      "\"glm.fit: fitted probabilities numerically 0 or 1 occurred\"\n",
      "Warning message:\n",
      "\"glm.fit: fitted probabilities numerically 0 or 1 occurred\"\n",
      "Warning message:\n",
      "\"glm.fit: fitted probabilities numerically 0 or 1 occurred\"\n",
      "Warning message:\n",
      "\"glm.fit: fitted probabilities numerically 0 or 1 occurred\"\n",
      "Warning message:\n",
      "\"glm.fit: fitted probabilities numerically 0 or 1 occurred\"\n",
      "Warning message:\n",
      "\"glm.fit: fitted probabilities numerically 0 or 1 occurred\"\n",
      "Warning message:\n",
      "\"glm.fit: fitted probabilities numerically 0 or 1 occurred\"\n",
      "Warning message:\n",
      "\"glm.fit: fitted probabilities numerically 0 or 1 occurred\"\n",
      "Warning message:\n",
      "\"glm.fit: fitted probabilities numerically 0 or 1 occurred\"\n",
      "Warning message:\n",
      "\"glm.fit: fitted probabilities numerically 0 or 1 occurred\"\n"
     ]
    },
    {
     "name": "stdout",
     "output_type": "stream",
     "text": [
      "                 Df Deviance    AIC\n",
      "- Age:SibSp       1   419.56 489.56\n",
      "- Parch:Fare      1   419.63 489.63\n",
      "- Sex:SibSp       1   419.63 489.63\n",
      "- Sex:Parch       1   419.64 489.64\n",
      "- Pclass:Parch    2   421.97 489.97\n",
      "- Sex:Fare        1   420.65 490.65\n",
      "- SibSp:Parch     1   420.78 490.78\n",
      "<none>                419.56 491.56\n",
      "- Sex:Age         1   422.46 492.46\n",
      "- SibSp:Fare      1   422.53 492.53\n",
      "- Age:Fare        1   424.68 494.68\n",
      "- Pclass:Sex      2   429.23 497.23\n",
      "- Pclass:Fare     2   429.33 497.33\n",
      "- Age:Parch       1   428.10 498.10\n",
      "- Sex:Embarked    2   433.18 501.18\n",
      "- Pclass:SibSp    2   434.13 502.13\n",
      "- Fare:Embarked   2   442.48 510.48\n",
      "- Age:Embarked    2   443.55 511.55\n",
      "- Parch:Embarked  2   444.86 512.86\n"
     ]
    },
    {
     "name": "stderr",
     "output_type": "stream",
     "text": [
      "Warning message:\n",
      "\"glm.fit: fitted probabilities numerically 0 or 1 occurred\"\n"
     ]
    },
    {
     "name": "stdout",
     "output_type": "stream",
     "text": [
      "\n",
      "Step:  AIC=489.56\n",
      "Survived ~ Pclass + Sex + Age + SibSp + Parch + Fare + Embarked + \n",
      "    Pclass:Sex + Pclass:SibSp + Pclass:Parch + Pclass:Fare + \n",
      "    Sex:Age + Sex:SibSp + Sex:Parch + Sex:Fare + Sex:Embarked + \n",
      "    Age:Parch + Age:Fare + Age:Embarked + SibSp:Parch + SibSp:Fare + \n",
      "    Parch:Fare + Parch:Embarked + Fare:Embarked\n",
      "\n"
     ]
    },
    {
     "name": "stderr",
     "output_type": "stream",
     "text": [
      "Warning message:\n",
      "\"glm.fit: fitted probabilities numerically 0 or 1 occurred\"\n",
      "Warning message:\n",
      "\"glm.fit: fitted probabilities numerically 0 or 1 occurred\"\n",
      "Warning message:\n",
      "\"glm.fit: fitted probabilities numerically 0 or 1 occurred\"\n",
      "Warning message:\n",
      "\"glm.fit: fitted probabilities numerically 0 or 1 occurred\"\n",
      "Warning message:\n",
      "\"glm.fit: fitted probabilities numerically 0 or 1 occurred\"\n",
      "Warning message:\n",
      "\"glm.fit: fitted probabilities numerically 0 or 1 occurred\"\n",
      "Warning message:\n",
      "\"glm.fit: fitted probabilities numerically 0 or 1 occurred\"\n",
      "Warning message:\n",
      "\"glm.fit: fitted probabilities numerically 0 or 1 occurred\"\n",
      "Warning message:\n",
      "\"glm.fit: fitted probabilities numerically 0 or 1 occurred\"\n",
      "Warning message:\n",
      "\"glm.fit: fitted probabilities numerically 0 or 1 occurred\"\n",
      "Warning message:\n",
      "\"glm.fit: fitted probabilities numerically 0 or 1 occurred\"\n",
      "Warning message:\n",
      "\"glm.fit: fitted probabilities numerically 0 or 1 occurred\"\n",
      "Warning message:\n",
      "\"glm.fit: fitted probabilities numerically 0 or 1 occurred\"\n",
      "Warning message:\n",
      "\"glm.fit: fitted probabilities numerically 0 or 1 occurred\"\n",
      "Warning message:\n",
      "\"glm.fit: fitted probabilities numerically 0 or 1 occurred\"\n",
      "Warning message:\n",
      "\"glm.fit: fitted probabilities numerically 0 or 1 occurred\"\n"
     ]
    },
    {
     "name": "stdout",
     "output_type": "stream",
     "text": [
      "                 Df Deviance    AIC\n",
      "- Parch:Fare      1   419.63 487.63\n",
      "- Sex:SibSp       1   419.63 487.63\n",
      "- Sex:Parch       1   419.64 487.64\n",
      "- Pclass:Parch    2   422.02 488.02\n",
      "- Sex:Fare        1   420.65 488.65\n",
      "- SibSp:Parch     1   420.86 488.86\n",
      "<none>                419.56 489.56\n",
      "- Sex:Age         1   422.46 490.46\n",
      "- SibSp:Fare      1   422.54 490.54\n",
      "- Age:Fare        1   424.71 492.71\n",
      "- Pclass:Sex      2   429.28 495.28\n",
      "- Pclass:Fare     2   429.33 495.33\n",
      "- Age:Parch       1   429.60 497.60\n",
      "- Sex:Embarked    2   433.19 499.19\n",
      "- Pclass:SibSp    2   438.63 504.63\n",
      "- Fare:Embarked   2   442.65 508.65\n",
      "- Age:Embarked    2   443.75 509.75\n",
      "- Parch:Embarked  2   445.56 511.56\n"
     ]
    },
    {
     "name": "stderr",
     "output_type": "stream",
     "text": [
      "Warning message:\n",
      "\"glm.fit: fitted probabilities numerically 0 or 1 occurred\"\n"
     ]
    },
    {
     "name": "stdout",
     "output_type": "stream",
     "text": [
      "\n",
      "Step:  AIC=487.63\n",
      "Survived ~ Pclass + Sex + Age + SibSp + Parch + Fare + Embarked + \n",
      "    Pclass:Sex + Pclass:SibSp + Pclass:Parch + Pclass:Fare + \n",
      "    Sex:Age + Sex:SibSp + Sex:Parch + Sex:Fare + Sex:Embarked + \n",
      "    Age:Parch + Age:Fare + Age:Embarked + SibSp:Parch + SibSp:Fare + \n",
      "    Parch:Embarked + Fare:Embarked\n",
      "\n"
     ]
    },
    {
     "name": "stderr",
     "output_type": "stream",
     "text": [
      "Warning message:\n",
      "\"glm.fit: fitted probabilities numerically 0 or 1 occurred\"\n",
      "Warning message:\n",
      "\"glm.fit: fitted probabilities numerically 0 or 1 occurred\"\n",
      "Warning message:\n",
      "\"glm.fit: fitted probabilities numerically 0 or 1 occurred\"\n",
      "Warning message:\n",
      "\"glm.fit: fitted probabilities numerically 0 or 1 occurred\"\n",
      "Warning message:\n",
      "\"glm.fit: fitted probabilities numerically 0 or 1 occurred\"\n",
      "Warning message:\n",
      "\"glm.fit: fitted probabilities numerically 0 or 1 occurred\"\n",
      "Warning message:\n",
      "\"glm.fit: fitted probabilities numerically 0 or 1 occurred\"\n",
      "Warning message:\n",
      "\"glm.fit: fitted probabilities numerically 0 or 1 occurred\"\n",
      "Warning message:\n",
      "\"glm.fit: fitted probabilities numerically 0 or 1 occurred\"\n",
      "Warning message:\n",
      "\"glm.fit: fitted probabilities numerically 0 or 1 occurred\"\n",
      "Warning message:\n",
      "\"glm.fit: fitted probabilities numerically 0 or 1 occurred\"\n",
      "Warning message:\n",
      "\"glm.fit: fitted probabilities numerically 0 or 1 occurred\"\n",
      "Warning message:\n",
      "\"glm.fit: fitted probabilities numerically 0 or 1 occurred\"\n",
      "Warning message:\n",
      "\"glm.fit: fitted probabilities numerically 0 or 1 occurred\"\n",
      "Warning message:\n",
      "\"glm.fit: fitted probabilities numerically 0 or 1 occurred\"\n"
     ]
    },
    {
     "name": "stdout",
     "output_type": "stream",
     "text": [
      "                 Df Deviance    AIC\n",
      "- Sex:SibSp       1   419.72 485.72\n",
      "- Sex:Parch       1   419.72 485.72\n",
      "- Pclass:Parch    2   422.02 486.02\n",
      "- Sex:Fare        1   420.75 486.75\n",
      "- SibSp:Parch     1   420.95 486.95\n",
      "<none>                419.63 487.63\n",
      "- SibSp:Fare      1   422.55 488.55\n",
      "- Sex:Age         1   422.58 488.58\n",
      "- Age:Fare        1   424.72 490.72\n",
      "- Pclass:Fare     2   429.33 493.33\n",
      "- Pclass:Sex      2   429.36 493.36\n",
      "- Age:Parch       1   429.61 495.61\n",
      "- Sex:Embarked    2   433.27 497.27\n",
      "- Pclass:SibSp    2   438.76 502.76\n",
      "- Fare:Embarked   2   442.96 506.96\n",
      "- Age:Embarked    2   444.12 508.12\n",
      "- Parch:Embarked  2   445.73 509.73\n"
     ]
    },
    {
     "name": "stderr",
     "output_type": "stream",
     "text": [
      "Warning message:\n",
      "\"glm.fit: fitted probabilities numerically 0 or 1 occurred\"\n"
     ]
    },
    {
     "name": "stdout",
     "output_type": "stream",
     "text": [
      "\n",
      "Step:  AIC=485.72\n",
      "Survived ~ Pclass + Sex + Age + SibSp + Parch + Fare + Embarked + \n",
      "    Pclass:Sex + Pclass:SibSp + Pclass:Parch + Pclass:Fare + \n",
      "    Sex:Age + Sex:Parch + Sex:Fare + Sex:Embarked + Age:Parch + \n",
      "    Age:Fare + Age:Embarked + SibSp:Parch + SibSp:Fare + Parch:Embarked + \n",
      "    Fare:Embarked\n",
      "\n"
     ]
    },
    {
     "name": "stderr",
     "output_type": "stream",
     "text": [
      "Warning message:\n",
      "\"glm.fit: fitted probabilities numerically 0 or 1 occurred\"\n",
      "Warning message:\n",
      "\"glm.fit: fitted probabilities numerically 0 or 1 occurred\"\n",
      "Warning message:\n",
      "\"glm.fit: fitted probabilities numerically 0 or 1 occurred\"\n",
      "Warning message:\n",
      "\"glm.fit: fitted probabilities numerically 0 or 1 occurred\"\n",
      "Warning message:\n",
      "\"glm.fit: fitted probabilities numerically 0 or 1 occurred\"\n",
      "Warning message:\n",
      "\"glm.fit: fitted probabilities numerically 0 or 1 occurred\"\n",
      "Warning message:\n",
      "\"glm.fit: fitted probabilities numerically 0 or 1 occurred\"\n",
      "Warning message:\n",
      "\"glm.fit: fitted probabilities numerically 0 or 1 occurred\"\n",
      "Warning message:\n",
      "\"glm.fit: fitted probabilities numerically 0 or 1 occurred\"\n",
      "Warning message:\n",
      "\"glm.fit: fitted probabilities numerically 0 or 1 occurred\"\n",
      "Warning message:\n",
      "\"glm.fit: fitted probabilities numerically 0 or 1 occurred\"\n",
      "Warning message:\n",
      "\"glm.fit: fitted probabilities numerically 0 or 1 occurred\"\n",
      "Warning message:\n",
      "\"glm.fit: fitted probabilities numerically 0 or 1 occurred\"\n",
      "Warning message:\n",
      "\"glm.fit: fitted probabilities numerically 0 or 1 occurred\"\n"
     ]
    },
    {
     "name": "stdout",
     "output_type": "stream",
     "text": [
      "                 Df Deviance    AIC\n",
      "- Sex:Parch       1   419.75 483.75\n",
      "- Pclass:Parch    2   422.35 484.35\n",
      "- Sex:Fare        1   420.92 484.92\n",
      "- SibSp:Parch     1   421.23 485.23\n",
      "<none>                419.72 485.72\n",
      "- Sex:Age         1   422.58 486.58\n",
      "- SibSp:Fare      1   422.65 486.65\n",
      "- Age:Fare        1   424.74 488.74\n",
      "- Pclass:Sex      2   429.44 491.44\n",
      "- Pclass:Fare     2   429.46 491.46\n",
      "- Age:Parch       1   429.65 493.65\n",
      "- Sex:Embarked    2   433.29 495.29\n",
      "- Pclass:SibSp    2   438.88 500.88\n",
      "- Fare:Embarked   2   442.99 504.99\n",
      "- Age:Embarked    2   444.13 506.13\n",
      "- Parch:Embarked  2   446.12 508.12\n"
     ]
    },
    {
     "name": "stderr",
     "output_type": "stream",
     "text": [
      "Warning message:\n",
      "\"glm.fit: fitted probabilities numerically 0 or 1 occurred\"\n"
     ]
    },
    {
     "name": "stdout",
     "output_type": "stream",
     "text": [
      "\n",
      "Step:  AIC=483.75\n",
      "Survived ~ Pclass + Sex + Age + SibSp + Parch + Fare + Embarked + \n",
      "    Pclass:Sex + Pclass:SibSp + Pclass:Parch + Pclass:Fare + \n",
      "    Sex:Age + Sex:Fare + Sex:Embarked + Age:Parch + Age:Fare + \n",
      "    Age:Embarked + SibSp:Parch + SibSp:Fare + Parch:Embarked + \n",
      "    Fare:Embarked\n",
      "\n"
     ]
    },
    {
     "name": "stderr",
     "output_type": "stream",
     "text": [
      "Warning message:\n",
      "\"glm.fit: fitted probabilities numerically 0 or 1 occurred\"\n",
      "Warning message:\n",
      "\"glm.fit: fitted probabilities numerically 0 or 1 occurred\"\n",
      "Warning message:\n",
      "\"glm.fit: fitted probabilities numerically 0 or 1 occurred\"\n",
      "Warning message:\n",
      "\"glm.fit: fitted probabilities numerically 0 or 1 occurred\"\n",
      "Warning message:\n",
      "\"glm.fit: fitted probabilities numerically 0 or 1 occurred\"\n",
      "Warning message:\n",
      "\"glm.fit: fitted probabilities numerically 0 or 1 occurred\"\n",
      "Warning message:\n",
      "\"glm.fit: fitted probabilities numerically 0 or 1 occurred\"\n",
      "Warning message:\n",
      "\"glm.fit: fitted probabilities numerically 0 or 1 occurred\"\n",
      "Warning message:\n",
      "\"glm.fit: fitted probabilities numerically 0 or 1 occurred\"\n",
      "Warning message:\n",
      "\"glm.fit: fitted probabilities numerically 0 or 1 occurred\"\n",
      "Warning message:\n",
      "\"glm.fit: fitted probabilities numerically 0 or 1 occurred\"\n",
      "Warning message:\n",
      "\"glm.fit: fitted probabilities numerically 0 or 1 occurred\"\n",
      "Warning message:\n",
      "\"glm.fit: fitted probabilities numerically 0 or 1 occurred\"\n"
     ]
    },
    {
     "name": "stdout",
     "output_type": "stream",
     "text": [
      "                 Df Deviance    AIC\n",
      "- Pclass:Parch    2   422.68 482.68\n",
      "- Sex:Fare        1   420.92 482.92\n",
      "- SibSp:Parch     1   421.24 483.24\n",
      "<none>                419.75 483.75\n",
      "- SibSp:Fare      1   422.68 484.68\n",
      "- Sex:Age         1   422.85 484.85\n",
      "- Age:Fare        1   424.88 486.88\n",
      "- Pclass:Fare     2   429.51 489.51\n",
      "- Pclass:Sex      2   429.51 489.51\n",
      "- Age:Parch       1   430.18 492.18\n",
      "- Sex:Embarked    2   433.40 493.40\n",
      "- Pclass:SibSp    2   438.89 498.89\n",
      "- Fare:Embarked   2   443.00 503.00\n",
      "- Age:Embarked    2   444.23 504.23\n",
      "- Parch:Embarked  2   446.18 506.18\n"
     ]
    },
    {
     "name": "stderr",
     "output_type": "stream",
     "text": [
      "Warning message:\n",
      "\"glm.fit: fitted probabilities numerically 0 or 1 occurred\"\n"
     ]
    },
    {
     "name": "stdout",
     "output_type": "stream",
     "text": [
      "\n",
      "Step:  AIC=482.68\n",
      "Survived ~ Pclass + Sex + Age + SibSp + Parch + Fare + Embarked + \n",
      "    Pclass:Sex + Pclass:SibSp + Pclass:Fare + Sex:Age + Sex:Fare + \n",
      "    Sex:Embarked + Age:Parch + Age:Fare + Age:Embarked + SibSp:Parch + \n",
      "    SibSp:Fare + Parch:Embarked + Fare:Embarked\n",
      "\n"
     ]
    },
    {
     "name": "stderr",
     "output_type": "stream",
     "text": [
      "Warning message:\n",
      "\"glm.fit: fitted probabilities numerically 0 or 1 occurred\"\n",
      "Warning message:\n",
      "\"glm.fit: fitted probabilities numerically 0 or 1 occurred\"\n",
      "Warning message:\n",
      "\"glm.fit: fitted probabilities numerically 0 or 1 occurred\"\n",
      "Warning message:\n",
      "\"glm.fit: fitted probabilities numerically 0 or 1 occurred\"\n",
      "Warning message:\n",
      "\"glm.fit: fitted probabilities numerically 0 or 1 occurred\"\n",
      "Warning message:\n",
      "\"glm.fit: fitted probabilities numerically 0 or 1 occurred\"\n",
      "Warning message:\n",
      "\"glm.fit: fitted probabilities numerically 0 or 1 occurred\"\n",
      "Warning message:\n",
      "\"glm.fit: fitted probabilities numerically 0 or 1 occurred\"\n",
      "Warning message:\n",
      "\"glm.fit: fitted probabilities numerically 0 or 1 occurred\"\n",
      "Warning message:\n",
      "\"glm.fit: fitted probabilities numerically 0 or 1 occurred\"\n",
      "Warning message:\n",
      "\"glm.fit: fitted probabilities numerically 0 or 1 occurred\"\n",
      "Warning message:\n",
      "\"glm.fit: fitted probabilities numerically 0 or 1 occurred\"\n"
     ]
    },
    {
     "name": "stdout",
     "output_type": "stream",
     "text": [
      "                 Df Deviance    AIC\n",
      "- Sex:Fare        1   423.96 481.96\n",
      "<none>                422.68 482.68\n",
      "- SibSp:Parch     1   424.99 482.99\n",
      "- Sex:Age         1   426.02 484.02\n",
      "- SibSp:Fare      1   426.41 484.41\n",
      "- Age:Fare        1   428.23 486.23\n",
      "- Pclass:Fare     2   431.87 487.87\n",
      "- Pclass:Sex      2   435.56 491.56\n",
      "- Age:Parch       1   433.83 491.83\n",
      "- Sex:Embarked    2   436.09 492.09\n",
      "- Fare:Embarked   2   446.82 502.82\n",
      "- Pclass:SibSp    2   447.47 503.47\n",
      "- Age:Embarked    2   447.79 503.79\n",
      "- Parch:Embarked  2   450.36 506.36\n"
     ]
    },
    {
     "name": "stderr",
     "output_type": "stream",
     "text": [
      "Warning message:\n",
      "\"glm.fit: fitted probabilities numerically 0 or 1 occurred\"\n"
     ]
    },
    {
     "name": "stdout",
     "output_type": "stream",
     "text": [
      "\n",
      "Step:  AIC=481.96\n",
      "Survived ~ Pclass + Sex + Age + SibSp + Parch + Fare + Embarked + \n",
      "    Pclass:Sex + Pclass:SibSp + Pclass:Fare + Sex:Age + Sex:Embarked + \n",
      "    Age:Parch + Age:Fare + Age:Embarked + SibSp:Parch + SibSp:Fare + \n",
      "    Parch:Embarked + Fare:Embarked\n",
      "\n"
     ]
    },
    {
     "name": "stderr",
     "output_type": "stream",
     "text": [
      "Warning message:\n",
      "\"glm.fit: fitted probabilities numerically 0 or 1 occurred\"\n",
      "Warning message:\n",
      "\"glm.fit: fitted probabilities numerically 0 or 1 occurred\"\n",
      "Warning message:\n",
      "\"glm.fit: fitted probabilities numerically 0 or 1 occurred\"\n",
      "Warning message:\n",
      "\"glm.fit: fitted probabilities numerically 0 or 1 occurred\"\n",
      "Warning message:\n",
      "\"glm.fit: fitted probabilities numerically 0 or 1 occurred\"\n",
      "Warning message:\n",
      "\"glm.fit: fitted probabilities numerically 0 or 1 occurred\"\n",
      "Warning message:\n",
      "\"glm.fit: fitted probabilities numerically 0 or 1 occurred\"\n",
      "Warning message:\n",
      "\"glm.fit: fitted probabilities numerically 0 or 1 occurred\"\n",
      "Warning message:\n",
      "\"glm.fit: fitted probabilities numerically 0 or 1 occurred\"\n",
      "Warning message:\n",
      "\"glm.fit: fitted probabilities numerically 0 or 1 occurred\"\n",
      "Warning message:\n",
      "\"glm.fit: fitted probabilities numerically 0 or 1 occurred\"\n"
     ]
    },
    {
     "name": "stdout",
     "output_type": "stream",
     "text": [
      "                 Df Deviance    AIC\n",
      "<none>                423.96 481.96\n",
      "- SibSp:Parch     1   425.99 481.99\n",
      "- Sex:Age         1   426.52 482.52\n",
      "- SibSp:Fare      1   426.80 482.80\n",
      "- Age:Fare        1   429.02 485.02\n",
      "- Pclass:Fare     2   433.00 487.00\n",
      "- Age:Parch       1   434.14 490.14\n",
      "- Sex:Embarked    2   437.25 491.25\n",
      "- Pclass:Sex      2   440.15 494.15\n",
      "- Pclass:SibSp    2   447.52 501.52\n",
      "- Fare:Embarked   2   447.93 501.93\n",
      "- Age:Embarked    2   448.89 502.89\n",
      "- Parch:Embarked  2   451.78 505.78\n"
     ]
    }
   ],
   "source": [
    "# Continuer\n",
    "log.lm.step1=step(log.lm1,direction=\"backward\")"
   ]
  },
  {
   "cell_type": "code",
   "execution_count": 49,
   "metadata": {
    "colab": {
     "base_uri": "https://localhost:8080/",
     "height": 974
    },
    "colab_type": "code",
    "id": "Gwnd35LxvLcd",
    "outputId": "8b4939b3-c4fb-49be-b2d8-dd22ddcc50f4"
   },
   "outputs": [
    {
     "data": {
      "text/plain": [
       "\n",
       "Call:\n",
       "glm(formula = Survived ~ Pclass + Sex + Age + SibSp + Parch + \n",
       "    Fare + Embarked + Pclass:Sex + Pclass:SibSp + Pclass:Fare + \n",
       "    Sex:Age + Sex:Embarked + Age:Parch + Age:Fare + Age:Embarked + \n",
       "    SibSp:Parch + SibSp:Fare + Parch:Embarked + Fare:Embarked, \n",
       "    family = binomial, data = datappr)\n",
       "\n",
       "Deviance Residuals: \n",
       "    Min       1Q   Median       3Q      Max  \n",
       "-2.7831  -0.5386  -0.2941   0.2532   2.6118  \n",
       "\n",
       "Coefficients:\n",
       "                        Estimate Std. Error z value Pr(>|z|)    \n",
       "(Intercept)            5.757e+00  1.448e+00   3.975 7.05e-05 ***\n",
       "Pclassclass 2         -6.053e-01  1.403e+00  -0.431  0.66625    \n",
       "Pclassclass 3         -4.314e+00  1.107e+00  -3.899 9.68e-05 ***\n",
       "Sexmale               -2.553e+00  1.268e+00  -2.014  0.04404 *  \n",
       "Age                   -7.282e-02  3.337e-02  -2.182  0.02910 *  \n",
       "SibSp                  2.296e+00  8.422e-01   2.726  0.00641 ** \n",
       "Parch                  1.446e+00  5.980e-01   2.418  0.01561 *  \n",
       "Fare                  -2.211e-02  1.057e-02  -2.091  0.03650 *  \n",
       "EmbarkedQ             -4.334e+01  3.556e+01  -1.219  0.22296    \n",
       "EmbarkedS             -1.610e+00  8.600e-01  -1.873  0.06112 .  \n",
       "Pclassclass 2:Sexmale -1.054e+00  1.285e+00  -0.820  0.41198    \n",
       "Pclassclass 3:Sexmale  2.000e+00  1.032e+00   1.937  0.05273 .  \n",
       "Pclassclass 2:SibSp   -1.065e+00  1.068e+00  -0.997  0.31871    \n",
       "Pclassclass 3:SibSp   -3.532e+00  9.004e-01  -3.923 8.76e-05 ***\n",
       "Pclassclass 2:Fare    -8.384e-03  3.187e-02  -0.263  0.79251    \n",
       "Pclassclass 3:Fare     5.726e-02  1.873e-02   3.058  0.00223 ** \n",
       "Sexmale:Age           -3.998e-02  2.488e-02  -1.607  0.10809    \n",
       "Sexmale:EmbarkedQ     -1.684e+02  9.872e+01  -1.706  0.08801 .  \n",
       "Sexmale:EmbarkedS     -4.507e-01  7.431e-01  -0.607  0.54413    \n",
       "Age:Parch             -4.644e-02  1.513e-02  -3.069  0.00215 ** \n",
       "Age:Fare               6.873e-04  3.023e-04   2.274  0.02297 *  \n",
       "Age:EmbarkedQ         -2.149e+00  9.900e-01  -2.171  0.02994 *  \n",
       "Age:EmbarkedS          6.548e-02  2.749e-02   2.382  0.01721 *  \n",
       "SibSp:Parch            3.743e-01  2.653e-01   1.411  0.15834    \n",
       "SibSp:Fare            -1.053e-02  5.524e-03  -1.906  0.05661 .  \n",
       "Parch:EmbarkedQ       -1.357e+02  6.868e+02  -0.198  0.84339    \n",
       "Parch:EmbarkedS       -3.044e-01  5.058e-01  -0.602  0.54733    \n",
       "Fare:EmbarkedQ         1.165e+01  6.550e+00   1.778  0.07534 .  \n",
       "Fare:EmbarkedS        -5.110e-03  6.754e-03  -0.757  0.44932    \n",
       "---\n",
       "Signif. codes:  0 '***' 0.001 '**' 0.01 '*' 0.05 '.' 0.1 ' ' 1\n",
       "\n",
       "(Dispersion parameter for binomial family taken to be 1)\n",
       "\n",
       "    Null deviance: 822.73  on 621  degrees of freedom\n",
       "Residual deviance: 423.96  on 593  degrees of freedom\n",
       "AIC: 481.96\n",
       "\n",
       "Number of Fisher Scoring iterations: 17\n"
      ]
     },
     "metadata": {},
     "output_type": "display_data"
    }
   ],
   "source": [
    "summary(log.lm.step1)"
   ]
  },
  {
   "cell_type": "code",
   "execution_count": 50,
   "metadata": {
    "colab": {
     "base_uri": "https://localhost:8080/",
     "height": 118
    },
    "colab_type": "code",
    "id": "EM8aKdJnYYh8",
    "outputId": "04e050ae-41d9-44a3-9f99-1d48a736028d"
   },
   "outputs": [
    {
     "name": "stdout",
     "output_type": "stream",
     "text": [
      "       \n",
      "        FALSE TRUE\n",
      "  FALSE   358   62\n",
      "  TRUE     31  171\n",
      "[1] \"Taux de bien classés:\"\n",
      "[1] 85.04823\n",
      "[1] \"Taux de Vrai Positfs\"\n",
      "[1] 84.65347\n",
      "[1] \"Taux de Faux Positfs\"\n",
      "[1] 7.969152\n"
     ]
    }
   ],
   "source": [
    "t=table(log.lm.step1$fitted.values>0.5,datappr[,\"Survived\"])\n",
    "print(t)\n",
    "print(\"Taux de bien classés:\")\n",
    "Taux_B_Class=1-(t[1,2]+t[2,1])/sum(t)\n",
    "print(Taux_B_Class*100)\n",
    "Taux_v_positif=t[2,2]/(t[2,1]+t[2,2])*100\n",
    "print(\"Taux de Vrai Positfs\")\n",
    "print(Taux_v_positif)\n",
    "Taux_Faux_positif=t[2,1]/(t[2,1]+t[1,1])*100\n",
    "print(\"Taux de Faux Positfs\")\n",
    "print(Taux_Faux_positif)"
   ]
  },
  {
   "cell_type": "markdown",
   "metadata": {
    "colab_type": "text",
    "id": "XjniTIuvYalD"
   },
   "source": [
    "Nous obtenons un taux de bien classés de 84%/85% . Le résultat est meilleur que celui obtenu précédemment en terme de nombre d'individus bien classés. Mais ce modèle a beaucoup plus de facile à trouver les individus décédés et moins de facilité à trouver les survivants que le modèle précédent. \n",
    "\n",
    "Observons les résultats sur l'échantillon Test."
   ]
  },
  {
   "cell_type": "code",
   "execution_count": 51,
   "metadata": {},
   "outputs": [
    {
     "name": "stdout",
     "output_type": "stream",
     "text": [
      "       \n",
      "        FALSE TRUE\n",
      "  FALSE   138   26\n",
      "  TRUE     22   81\n",
      "[1] \"Taux de bien classés:\"\n",
      "[1] 82.02247\n",
      "[1] \"Taux de Vrai Positfs\"\n",
      "[1] 78.64078\n",
      "[1] \"Taux de Faux Positfs\"\n",
      "[1] 13.75\n"
     ]
    }
   ],
   "source": [
    "pred.log=predict(log.lm.step1,newdata=datestd,type=\"response\")\n",
    "Tab <- table(pred.log>0.5, datestd[,\"Survived\"])\n",
    "print(Tab)\n",
    "print(\"Taux de bien classés:\")\n",
    "Taux_B_Class=1-(Tab[1,2]+Tab[2,1])/sum(Tab)\n",
    "print(Taux_B_Class*100)\n",
    "Taux_v_positif=Tab[2,2]/(Tab[2,1]+Tab[2,2])*100\n",
    "print(\"Taux de Vrai Positfs\")\n",
    "print(Taux_v_positif)\n",
    "Taux_Faux_positif=Tab[2,1]/(Tab[2,1]+Tab[1,1])*100\n",
    "print(\"Taux de Faux Positfs\")\n",
    "print(Taux_Faux_positif)"
   ]
  },
  {
   "cell_type": "markdown",
   "metadata": {},
   "source": [
    "Nous obtenons un taux de bien classés de 82% . Le résultat est meilleur que celui obtenu précédemment en terme de nombre d'individus bien classés. De plus, ce modèle arrive à trouver plus facilement les personnes qui survivent que le modèle précédent (81.25% contre 76%)."
   ]
  },
  {
   "cell_type": "markdown",
   "metadata": {
    "colab_type": "text",
    "id": "3Q1NMT94Ye0H"
   },
   "source": [
    "## C.2 Arbres aléatoires\n",
    "\n",
    "### C.2.2 Construction des arbres de décisions \n",
    "\n",
    "Nous voulons encore amélioré le résultat de la classification. Nous allons donc faire appel aux arbres et aux forêts aléatoires."
   ]
  },
  {
   "cell_type": "markdown",
   "metadata": {
    "colab_type": "text",
    "id": "rLPZ_6E4Yfrc"
   },
   "source": [
    "Nous allons utiliser une méthode de discrimination pour ensuite faire une prédiction et vérifier la précision de notre modèles."
   ]
  },
  {
   "cell_type": "code",
   "execution_count": 52,
   "metadata": {
    "colab": {
     "base_uri": "https://localhost:8080/",
     "height": 437
    },
    "colab_type": "code",
    "id": "zp1Peb38Ykcv",
    "outputId": "331763df-1179-4097-e90e-8ebdc2a2b056"
   },
   "outputs": [
    {
     "data": {
      "image/png": "[encoded data removed]",
      "text/plain": [
       "plot without title"
      ]
     },
     "metadata": {
      "image/png": {
       "height": 420,
       "width": 420
      }
     },
     "output_type": "display_data"
    }
   ],
   "source": [
    "tree.dis <- rpart(Survived ~ ., data = datappr, parms = list(split = \"information\"), cp = 0.001)\n",
    "plot(as.party(tree.dis), type=\"simple\")"
   ]
  },
  {
   "cell_type": "markdown",
   "metadata": {
    "colab_type": "text",
    "id": "RJeswvbAYpLq"
   },
   "source": [
    "### Commentaire: \n",
    "\n",
    "### Commentaire: \n",
    "\n",
    "Nous obtenons un arbre avec 19 feuilles avec une erreur maximale de 40% et toutes les autres erreurs inférieurs à 20%. Compte tenu de ces informations, nous pouvons dire que nous avons un arbre avec un grand nombre de feuilles. Nous constatons aussi que les variables Sex, Fare et Age ont une forte influence sur la survie des passagers. \n",
    "\n",
    "\n",
    "Nous devons maintenant voir s'il peut être amélioré. Avec l'arbre précédent nous avons choisi un critère CP de 0.001. Nous allons essayer le CP minimal correspond à l'arbre optimal. "
   ]
  },
  {
   "cell_type": "code",
   "execution_count": 53,
   "metadata": {
    "colab": {
     "base_uri": "https://localhost:8080/",
     "height": 50
    },
    "colab_type": "code",
    "id": "CkVk050vYptR",
    "outputId": "d258e440-25fa-4237-d169-b0b705950a0c"
   },
   "outputs": [
    {
     "data": {
      "text/html": [
       "<style>\n",
       ".dl-inline {width: auto; margin:0; padding: 0}\n",
       ".dl-inline>dt, .dl-inline>dd {float: none; width: auto; display: inline-block}\n",
       ".dl-inline>dt::after {content: \":\\0020\"; padding-right: .5ex}\n",
       ".dl-inline>dt:not(:first-of-type) {padding-left: .5ex}\n",
       "</style><dl class=dl-inline><dt>0.721030043</dt><dd>0.37459807073955</dd><dt>0.126990769</dt><dd>0.209003215434084</dd><dt>0.023409253</dt><dd>0.189710610932476</dd><dt>0.013111805</dt><dd>0.192926045016077</dd><dt>0.011081497</dt><dd>0.189710610932476</dd><dt>0.009596858</dt><dd>0.189710610932476</dd><dt>0.007835802</dt><dd>0.180064308681672</dd><dt>0.006786004</dt><dd>0.17524115755627</dd><dt>0.002537276</dt><dd>0.160771704180064</dd></dl>\n"
      ],
      "text/latex": [
       "\\begin{description*}\n",
       "\\item[0.721030043] 0.37459807073955\n",
       "\\item[0.126990769] 0.209003215434084\n",
       "\\item[0.023409253] 0.189710610932476\n",
       "\\item[0.013111805] 0.192926045016077\n",
       "\\item[0.011081497] 0.189710610932476\n",
       "\\item[0.009596858] 0.189710610932476\n",
       "\\item[0.007835802] 0.180064308681672\n",
       "\\item[0.006786004] 0.17524115755627\n",
       "\\item[0.002537276] 0.160771704180064\n",
       "\\end{description*}\n"
      ],
      "text/markdown": [
       "0.721030043\n",
       ":   0.374598070739550.126990769\n",
       ":   0.2090032154340840.023409253\n",
       ":   0.1897106109324760.013111805\n",
       ":   0.1929260450160770.011081497\n",
       ":   0.1897106109324760.009596858\n",
       ":   0.1897106109324760.007835802\n",
       ":   0.1800643086816720.006786004\n",
       ":   0.175241157556270.002537276\n",
       ":   0.160771704180064\n",
       "\n"
      ],
      "text/plain": [
       "0.721030043 0.126990769 0.023409253 0.013111805 0.011081497 0.009596858 \n",
       "  0.3745981   0.2090032   0.1897106   0.1929260   0.1897106   0.1897106 \n",
       "0.007835802 0.006786004 0.002537276 \n",
       "  0.1800643   0.1752412   0.1607717 "
      ]
     },
     "metadata": {},
     "output_type": "display_data"
    }
   ],
   "source": [
    "xmat <- xpred.rpart(tree.dis)\n",
    "# Comparaison des valeurs prédite et observée\n",
    "xerr <- datappr$Survived != (xmat > 1.5) \n",
    "# Calcul  des estimations des taux d'erreur\n",
    "CVerr <- apply(xerr, 2, sum) / nrow(xerr)\n",
    "CVerr"
   ]
  },
  {
   "cell_type": "code",
   "execution_count": 54,
   "metadata": {
    "colab": {
     "base_uri": "https://localhost:8080/",
     "height": 34
    },
    "colab_type": "code",
    "id": "DetZQmTlYtV0",
    "outputId": "9c1b23c1-3425-4d21-adbd-23d36300f627"
   },
   "outputs": [
    {
     "data": {
      "text/html": [
       "0.002537276"
      ],
      "text/latex": [
       "0.002537276"
      ],
      "text/markdown": [
       "0.002537276"
      ],
      "text/plain": [
       "[1] 0.002537276"
      ]
     },
     "metadata": {},
     "output_type": "display_data"
    }
   ],
   "source": [
    "cpMin <- as.numeric(attributes(which.min(CVerr))$names)\n",
    "cpMin"
   ]
  },
  {
   "cell_type": "code",
   "execution_count": 55,
   "metadata": {
    "colab": {
     "base_uri": "https://localhost:8080/",
     "height": 437
    },
    "colab_type": "code",
    "id": "R_KB37N2YxpU",
    "outputId": "18d31da7-7d18-4a59-d7c2-1a8370af0916"
   },
   "outputs": [
    {
     "data": {
      "image/png": "[encoded data removed]",
      "text/plain": [
       "plot without title"
      ]
     },
     "metadata": {
      "image/png": {
       "height": 420,
       "width": 420
      }
     },
     "output_type": "display_data"
    }
   ],
   "source": [
    "tree.disMin <- rpart(Survived ~ ., data = datappr, parms = list(split = \"information\"), cp = cpMin)\n",
    "plot(as.party(tree.disMin), type=\"simple\")"
   ]
  },
  {
   "cell_type": "markdown",
   "metadata": {
    "colab_type": "text",
    "id": "oVwQvHT6Y0Md"
   },
   "source": [
    "Nous obtenons exactement le même arbre que précédent. Ce qui veut dire que pour notre jeu de données l'arbre obtenu plus haut correspondait à l'arbre optimal. \n",
    "Nous devons maintenant tester cet arbre sur notre jeu de données test pour une validation."
   ]
  },
  {
   "cell_type": "markdown",
   "metadata": {
    "colab_type": "text",
    "id": "Whe6p2iQY5i3"
   },
   "source": [
    "Vérifions notre modèle par une prédiction avec notre échantillon test"
   ]
  },
  {
   "cell_type": "code",
   "execution_count": 56,
   "metadata": {
    "colab": {},
    "colab_type": "code",
    "collapsed": true,
    "id": "nxtEvLd5Y67S"
   },
   "outputs": [],
   "source": [
    "pred.treeqMin <- predict(tree.disMin, newdata = datestd, type = \"class\") "
   ]
  },
  {
   "cell_type": "code",
   "execution_count": 57,
   "metadata": {
    "colab": {
     "base_uri": "https://localhost:8080/",
     "height": 118
    },
    "colab_type": "code",
    "id": "dXGNC3snY9Sk",
    "outputId": "dde6f859-04e7-41b7-8f42-ffa4ac2ff6f2"
   },
   "outputs": [
    {
     "name": "stdout",
     "output_type": "stream",
     "text": [
      "             \n",
      "pred.treeqMin FALSE TRUE\n",
      "        FALSE   143   28\n",
      "        TRUE     17   79\n",
      "[1] \"Taux de bien classés:\"\n",
      "[1] 83.14607\n",
      "[1] \"Taux de Vrai Positfs\"\n",
      "[1] 82.29167\n",
      "[1] \"Taux de Faux Positfs\"\n",
      "[1] 10.625\n"
     ]
    }
   ],
   "source": [
    "t=table(pred.treeqMin, datestd[, \"Survived\"])\n",
    "print(t)\n",
    "print(\"Taux de bien classés:\")\n",
    "Taux_B_Class=1-(t[1,2]+t[2,1])/sum(t)\n",
    "print(Taux_B_Class*100)\n",
    "Taux_v_positif=t[2,2]/(t[2,1]+t[2,2])*100\n",
    "print(\"Taux de Vrai Positfs\")\n",
    "print(Taux_v_positif)\n",
    "Taux_Faux_positif=t[2,1]/(t[2,1]+t[1,1])*100\n",
    "print(\"Taux de Faux Positfs\")\n",
    "print(Taux_Faux_positif)"
   ]
  },
  {
   "cell_type": "markdown",
   "metadata": {
    "colab_type": "text",
    "id": "QfwnXuVaZAuG"
   },
   "source": [
    "### Commentaire:\n",
    "Nous obtenons un taux de 87% . Ce résultat est très bon, même si la même remarque persiste propos au fait que nous trouvons plus facilement les personnes qui meurent. Le résultat est aussi nettement meilleur que celui obtenu avec la régression logistique sans interaction et celui de la régression logistique avec interactions. \n",
    "\n",
    "Même si ce résultat est très bon, nous cherchons à l'améliorer grâce à l'agrégation de modèles."
   ]
  },
  {
   "cell_type": "markdown",
   "metadata": {
    "colab_type": "text",
    "id": "CrB3ZmvpZBl4"
   },
   "source": [
    "## Aggrégation de modèles"
   ]
  },
  {
   "cell_type": "code",
   "execution_count": 58,
   "metadata": {
    "colab": {
     "base_uri": "https://localhost:8080/",
     "height": 202
    },
    "colab_type": "code",
    "id": "Xj8SJ0iPZEaR",
    "outputId": "5dcfe152-1ef6-4738-92fd-cd01d5d62cc6"
   },
   "outputs": [
    {
     "name": "stdout",
     "output_type": "stream",
     "text": [
      "ntree      OOB      1      2|    Test      1      2\n",
      " 1000:  15.43% 10.03% 24.46%|  17.60% 12.50% 25.23%\n",
      " 2000:  15.76% 10.03% 25.32%|  17.60% 11.88% 26.17%\n",
      " 3000:  15.76% 10.03% 25.32%|  17.60% 11.88% 26.17%\n",
      " 4000:  15.76% 10.03% 25.32%|  17.60% 11.88% 26.17%\n",
      " 5000:  15.43%  9.77% 24.89%|  17.60% 11.88% 26.17%\n",
      " 6000:  15.92% 10.03% 25.75%|  17.60% 11.88% 26.17%\n",
      " 7000:  15.76% 10.03% 25.32%|  17.60% 11.88% 26.17%\n",
      " 8000:  15.92% 10.03% 25.75%|  17.60% 11.88% 26.17%\n",
      " 9000:  15.76%  9.77% 25.75%|  17.60% 11.88% 26.17%\n",
      "10000:  15.76%  9.77% 25.75%|  17.60% 11.25% 27.10%\n"
     ]
    }
   ],
   "source": [
    "rf.dis.naImp <- randomForest(Survived ~ ., data = datappr, \n",
    "                       xtest = datestd[,-1], ytest = datestd[, \"Survived\"],\n",
    "                       ntree = 10000, do.trace = 1000,mtry=4,importance = TRUE)"
   ]
  },
  {
   "cell_type": "code",
   "execution_count": 59,
   "metadata": {
    "colab": {
     "base_uri": "https://localhost:8080/",
     "height": 34
    },
    "colab_type": "code",
    "id": "w7LwzIs_ZI_1",
    "outputId": "cc5fd937-6359-483b-dae9-72607f075c86"
   },
   "outputs": [
    {
     "name": "stdout",
     "output_type": "stream",
     "text": [
      "[1] 82.397\n"
     ]
    }
   ],
   "source": [
    "# taux de bien classés de randomForest, à partir du jeu de données imputés\n",
    "pred.rfqImp <- rf.dis.naImp$test$predicted\n",
    "print(mean(pred.rfqImp == datestd[, \"Survived\"])*100)"
   ]
  },
  {
   "cell_type": "code",
   "execution_count": 60,
   "metadata": {
    "colab": {
     "base_uri": "https://localhost:8080/",
     "height": 84
    },
    "colab_type": "code",
    "id": "hH62Y9iSZM8N",
    "outputId": "f26e6ea6-4097-4e42-be28-7b509f9af4a1"
   },
   "outputs": [
    {
     "name": "stdout",
     "output_type": "stream",
     "text": [
      "       \n",
      "        FALSE TRUE\n",
      "  FALSE   142   29\n",
      "  TRUE     18   78\n",
      "[1] \"Taux de bien classés:\"\n",
      "[1] 82.397\n",
      "[1] \"Taux de Vrai Positfs\"\n",
      "[1] 81.25\n",
      "[1] \"Taux de Faux Positfs\"\n",
      "[1] 11.25\n"
     ]
    }
   ],
   "source": [
    "t=table(rf.dis.naImp$test$predicted,datestd[, \"Survived\"])\n",
    "print(t)\n",
    "print(\"Taux de bien classés:\")\n",
    "Taux_B_Class=1-(t[1,2]+t[2,1])/sum(t)\n",
    "print(Taux_B_Class*100)\n",
    "Taux_v_positif=t[2,2]/(t[2,1]+t[2,2])*100\n",
    "print(\"Taux de Vrai Positfs\")\n",
    "print(Taux_v_positif)\n",
    "Taux_Faux_positif=t[2,1]/(t[2,1]+t[1,1])*100\n",
    "print(\"Taux de Faux Positfs\")\n",
    "print(Taux_Faux_positif)"
   ]
  },
  {
   "cell_type": "markdown",
   "metadata": {
    "colab_type": "text",
    "id": "V8bv2yy5ZQV_"
   },
   "source": [
    "Pour l'agrégation de modèles avec mtry=4,  nous obtenons un taux de 89% qui est supérieur à ce que nous avons obtenu précédemment. Le résultat reste très bon. Il a plus de facilités à trouver les personnes qui survivent.\n",
    "\n",
    "### Remarque: \n",
    "Nous avons essayer pour différentes valeurs de mtry, nous trouvons 4 comme valeur optimale."
   ]
  },
  {
   "cell_type": "code",
   "execution_count": 61,
   "metadata": {
    "colab": {
     "base_uri": "https://localhost:8080/",
     "height": 437
    },
    "colab_type": "code",
    "id": "qCtEyAP6ZRgA",
    "outputId": "f44d7624-9134-45dd-ce0f-442a3c8a4341"
   },
   "outputs": [
    {
     "data": {
      "image/png": "[encoded data removed]",
      "text/plain": [
       "plot without title"
      ]
     },
     "metadata": {
      "image/png": {
       "height": 420,
       "width": 420
      }
     },
     "output_type": "display_data"
    }
   ],
   "source": [
    "ROCdistree=predict(tree.dis,newdata=datestd,type=\"prob\")[,2]\n",
    "preddistree=prediction(ROCdistree,datestd$Survived)\n",
    "perfdistree=performance(preddistree,\"tpr\",\"fpr\")\n",
    "plot(perfdistree,col=\"red\")  \n",
    "\n",
    "predrfr=prediction(rf.dis.naImp$test$votes[,2],datestd$Survived)\n",
    "perfrfr=performance(predrfr,\"tpr\",\"fpr\")\n",
    "plot(perfrfr,col=\"blue\",add=TRUE) \n",
    "\n",
    "\n",
    "roclogit=predict(log.lm.step,newdata=datestd,type=\"response\")\n",
    "predlogit=prediction(roclogit,datestd[,\"Survived\"])\n",
    "perflogit=performance(predlogit, \"tpr\",\"fpr\")\n",
    "plot(perflogit,col=\"green\",add=TRUE,label=\"RL sans Inter\")\n",
    "\n",
    "roclogit1=predict(log.lm.step1,newdata=datestd,type=\"response\")\n",
    "predlogit1=prediction(roclogit1,datestd[,\"Survived\"])\n",
    "perflogit1=performance(predlogit1, \"tpr\",\"fpr\")\n",
    "plot(perflogit1,col=\"black\",add=TRUE)\n",
    "\n",
    "legend(0.6, 0.25, legend=c(\"Random Tree\",\"Random Forest\",\"RL sans Inter\",\"RL avec Inter\"),col=c(\"red\", \"blue\",\"green\",\"black\"), lty=1:2, cex=1.2)"
   ]
  },
  {
   "cell_type": "markdown",
   "metadata": {
    "colab_type": "text",
    "id": "7O9SdBIdZVoX"
   },
   "source": [
    "### Commentaire:\n",
    "Ce graphe représente les courbes ROC pour chaque modèle utilisé dans notre analyse. \n",
    "\n",
    "Nous constatons que la courbe correspondant à la forêt aléatoire est plus haute que la courbe correspondant à la forêt aléatoire. Ce résultat est en adéquation avec ce que nous avons vu précédemment. En effet nous avions trouvé que ce modèle utilisant les arbres aléatoire avait plus de difficultés à trouver les personnes qui survivent que celui de la forêt aléatoire.\n",
    "Il en est de même lorsque nous comparons le modèle utilisant la forêt aléatoire aux modèles de régression logistique. Ainsi, la forêt donne globalement un meilleur résultat. Néanmoins, il faut signaler que les courbes ROC pour la régression logistique et pour la forêt aléatoire sont très proches. \n",
    "\n",
    "\n",
    "\n",
    "### C.2.3 Importance des variables "
   ]
  },
  {
   "cell_type": "code",
   "execution_count": 62,
   "metadata": {
    "colab": {
     "base_uri": "https://localhost:8080/",
     "height": 34
    },
    "colab_type": "code",
    "id": "lL73AWpGZZOG",
    "outputId": "5eafc999-60c3-4500-c430-aae130cf32c9"
   },
   "outputs": [
    {
     "data": {
      "text/html": [
       "<style>\n",
       ".dl-inline {width: auto; margin:0; padding: 0}\n",
       ".dl-inline>dt, .dl-inline>dd {float: none; width: auto; display: inline-block}\n",
       ".dl-inline>dt::after {content: \":\\0020\"; padding-right: .5ex}\n",
       ".dl-inline>dt:not(:first-of-type) {padding-left: .5ex}\n",
       "</style><dl class=dl-inline><dt>Sex</dt><dd>81.04</dd><dt>Age</dt><dd>69.35</dd><dt>Fare</dt><dd>67.05</dd><dt>Pclass</dt><dd>26.75</dd><dt>SibSp</dt><dd>14.81</dd><dt>Embarked</dt><dd>9.11</dd><dt>Parch</dt><dd>8.36</dd></dl>\n"
      ],
      "text/latex": [
       "\\begin{description*}\n",
       "\\item[Sex] 81.04\n",
       "\\item[Age] 69.35\n",
       "\\item[Fare] 67.05\n",
       "\\item[Pclass] 26.75\n",
       "\\item[SibSp] 14.81\n",
       "\\item[Embarked] 9.11\n",
       "\\item[Parch] 8.36\n",
       "\\end{description*}\n"
      ],
      "text/markdown": [
       "Sex\n",
       ":   81.04Age\n",
       ":   69.35Fare\n",
       ":   67.05Pclass\n",
       ":   26.75SibSp\n",
       ":   14.81Embarked\n",
       ":   9.11Parch\n",
       ":   8.36\n",
       "\n"
      ],
      "text/plain": [
       "     Sex      Age     Fare   Pclass    SibSp Embarked    Parch \n",
       "   81.04    69.35    67.05    26.75    14.81     9.11     8.36 "
      ]
     },
     "metadata": {},
     "output_type": "display_data"
    }
   ],
   "source": [
    "## Critère Gini\n",
    "sort(round(importance(rf.dis.naImp), 2)[,4], decreasing=TRUE)"
   ]
  },
  {
   "cell_type": "code",
   "execution_count": 63,
   "metadata": {},
   "outputs": [
    {
     "data": {
      "image/png": "[encoded data removed]",
      "text/plain": [
       "Plot with title \"Critère Gini\""
      ]
     },
     "metadata": {
      "image/png": {
       "height": 420,
       "width": 420
      }
     },
     "output_type": "display_data"
    }
   ],
   "source": [
    "barplot(sort(round(importance(rf.dis.naImp), 2)[,4], decreasing=TRUE), main=\"Critère Gini\")"
   ]
  },
  {
   "cell_type": "code",
   "execution_count": 64,
   "metadata": {},
   "outputs": [
    {
     "data": {
      "text/html": [
       "<style>\n",
       ".dl-inline {width: auto; margin:0; padding: 0}\n",
       ".dl-inline>dt, .dl-inline>dd {float: none; width: auto; display: inline-block}\n",
       ".dl-inline>dt::after {content: \":\\0020\"; padding-right: .5ex}\n",
       ".dl-inline>dt:not(:first-of-type) {padding-left: .5ex}\n",
       "</style><dl class=dl-inline><dt>Sex</dt><dd>426.13</dd><dt>Age</dt><dd>200.16</dd><dt>Pclass</dt><dd>198.89</dd><dt>Fare</dt><dd>178.98</dd><dt>SibSp</dt><dd>111.83</dd><dt>Embarked</dt><dd>62.32</dd><dt>Parch</dt><dd>40.9</dd></dl>\n"
      ],
      "text/latex": [
       "\\begin{description*}\n",
       "\\item[Sex] 426.13\n",
       "\\item[Age] 200.16\n",
       "\\item[Pclass] 198.89\n",
       "\\item[Fare] 178.98\n",
       "\\item[SibSp] 111.83\n",
       "\\item[Embarked] 62.32\n",
       "\\item[Parch] 40.9\n",
       "\\end{description*}\n"
      ],
      "text/markdown": [
       "Sex\n",
       ":   426.13Age\n",
       ":   200.16Pclass\n",
       ":   198.89Fare\n",
       ":   178.98SibSp\n",
       ":   111.83Embarked\n",
       ":   62.32Parch\n",
       ":   40.9\n",
       "\n"
      ],
      "text/plain": [
       "     Sex      Age   Pclass     Fare    SibSp Embarked    Parch \n",
       "  426.13   200.16   198.89   178.98   111.83    62.32    40.90 "
      ]
     },
     "metadata": {},
     "output_type": "display_data"
    }
   ],
   "source": [
    "## Critère Entropie\n",
    "sort(round(importance(rf.dis.naImp), 2)[,3], decreasing=TRUE)"
   ]
  },
  {
   "cell_type": "code",
   "execution_count": 65,
   "metadata": {},
   "outputs": [
    {
     "data": {
      "image/png": "[encoded data removed]",
      "text/plain": [
       "Plot with title \"Entropie\""
      ]
     },
     "metadata": {
      "image/png": {
       "height": 420,
       "width": 420
      }
     },
     "output_type": "display_data"
    }
   ],
   "source": [
    "barplot(sort(round(importance(rf.dis.naImp), 2)[,3], decreasing=TRUE), main=\"Entropie\")"
   ]
  },
  {
   "cell_type": "markdown",
   "metadata": {
    "colab_type": "text",
    "id": "eUUX9CoRZdKx"
   },
   "source": [
    "### Commentaire: \n",
    "Pour le critère Gini,nous constatons que les variables Sex, Age et Fare sont les plus importantes. Ce résultat est en adéquation avec l'arbre obtenu sur lequel nous voyons que les variables Sex, Age et Fare ont une forte influence. \n",
    "Donc dans la partie B, le fait d'ignorer la variable Age affecte légérement le résultat de la classification. \n",
    "Ce qui permet de rendre compte de l'importance de l'imputation des données manquantes dans l'analyse des données, car ignorer une variable peut amener à fausser la modélisation de notre problème. \n",
    "Il en est de même pour l'Entropie.\n",
    "\n",
    "\n",
    "## Conclusion de la partie C\n",
    "\n",
    "Dans cette partie, au lieu d'ignorer la variable Age au vu des valeurs manquantes, nous avons réalisé une imputation grâce aux forêts aléatoire. Nous avons ainsi pu intégrer cette variable dans notre analyse et nous avons par conséquent vu qu'elle est trés importante dans la construction de notre modèle ( elle est la deuxième plus importante). Ainsi, nous obtenons des résultats nettement meilleurs que ceux obtenus dans la partie B.  \n",
    "Nous pouvons aussi ajouter que dans cette analyse, les modèles obtenus grâce aux forêts aléatoires et à la régression logistique avec intéractions nous donnent de très bons résultats."
   ]
  },
  {
   "cell_type": "markdown",
   "metadata": {},
   "source": [
    "# D.Variable \"Name\""
   ]
  },
  {
   "cell_type": "code",
   "execution_count": 66,
   "metadata": {},
   "outputs": [
    {
     "data": {
      "text/html": [
       "<style>\n",
       ".dl-inline {width: auto; margin:0; padding: 0}\n",
       ".dl-inline>dt, .dl-inline>dd {float: none; width: auto; display: inline-block}\n",
       ".dl-inline>dt::after {content: \":\\0020\"; padding-right: .5ex}\n",
       ".dl-inline>dt:not(:first-of-type) {padding-left: .5ex}\n",
       "</style><dl class=dl-inline><dt>FALSE</dt><dd>849</dd><dt>TRUE</dt><dd>40</dd></dl>\n"
      ],
      "text/latex": [
       "\\begin{description*}\n",
       "\\item[FALSE] 849\n",
       "\\item[TRUE] 40\n",
       "\\end{description*}\n"
      ],
      "text/markdown": [
       "FALSE\n",
       ":   849TRUE\n",
       ":   40\n",
       "\n"
      ],
      "text/plain": [
       "FALSE  TRUE \n",
       "  849    40 "
      ]
     },
     "metadata": {},
     "output_type": "display_data"
    }
   ],
   "source": [
    "Master=grepl('Master',TitData$Name)\n",
    "Master=as.factor(Master)\n",
    "summary(Master)"
   ]
  },
  {
   "cell_type": "code",
   "execution_count": 67,
   "metadata": {},
   "outputs": [
    {
     "data": {
      "text/plain": [
       "  Survived       Pclass        Sex           Age            SibSp       \n",
       " FALSE:549   class 1:214   female:312   Min.   : 0.42   Min.   :0.0000  \n",
       " TRUE :340   class 2:184   male  :577   1st Qu.:21.00   1st Qu.:0.0000  \n",
       "             class 3:491                Median :28.78   Median :0.0000  \n",
       "                                        Mean   :29.53   Mean   :0.5242  \n",
       "                                        3rd Qu.:36.15   3rd Qu.:1.0000  \n",
       "                                        Max.   :80.00   Max.   :8.0000  \n",
       "     Parch             Fare         Embarked   Master   \n",
       " Min.   :0.0000   Min.   :  0.000    :  0    FALSE:849  \n",
       " 1st Qu.:0.0000   1st Qu.:  7.896   C:168    TRUE : 40  \n",
       " Median :0.0000   Median : 14.454   Q: 77               \n",
       " Mean   :0.3825   Mean   : 32.097   S:644               \n",
       " 3rd Qu.:0.0000   3rd Qu.: 31.000                       \n",
       " Max.   :6.0000   Max.   :512.329                       "
      ]
     },
     "metadata": {},
     "output_type": "display_data"
    }
   ],
   "source": [
    "Tit_name=cbind(TitDataImputation,Master)\n",
    "summary(Tit_name)"
   ]
  },
  {
   "cell_type": "code",
   "execution_count": 68,
   "metadata": {
    "collapsed": true
   },
   "outputs": [],
   "source": [
    "# construction de l'échantillon d'apprentissage\n",
    "datappr <- Tit_name[appri, ] \n",
    "# construction de l'échantillon test\n",
    "datestd <- Tit_name[testi, ] "
   ]
  },
  {
   "cell_type": "markdown",
   "metadata": {},
   "source": [
    "## D.1 Regression logistique avec interaction"
   ]
  },
  {
   "cell_type": "code",
   "execution_count": 69,
   "metadata": {},
   "outputs": [
    {
     "name": "stderr",
     "output_type": "stream",
     "text": [
      "Warning message:\n",
      "\"glm.fit: fitted probabilities numerically 0 or 1 occurred\"\n",
      "Warning message:\n",
      "\"glm.fit: fitted probabilities numerically 0 or 1 occurred\"\n",
      "Warning message:\n",
      "\"glm.fit: fitted probabilities numerically 0 or 1 occurred\"\n",
      "Warning message:\n",
      "\"glm.fit: fitted probabilities numerically 0 or 1 occurred\"\n",
      "Warning message:\n",
      "\"glm.fit: fitted probabilities numerically 0 or 1 occurred\"\n",
      "Warning message:\n",
      "\"glm.fit: fitted probabilities numerically 0 or 1 occurred\"\n",
      "Warning message:\n",
      "\"glm.fit: fitted probabilities numerically 0 or 1 occurred\"\n"
     ]
    },
    {
     "data": {
      "text/html": [
       "<table>\n",
       "<caption>A anova: 37 × 5</caption>\n",
       "<thead>\n",
       "\t<tr><th></th><th scope=col>Df</th><th scope=col>Deviance</th><th scope=col>Resid. Df</th><th scope=col>Resid. Dev</th><th scope=col>Pr(&gt;Chi)</th></tr>\n",
       "\t<tr><th></th><th scope=col>&lt;int&gt;</th><th scope=col>&lt;dbl&gt;</th><th scope=col>&lt;int&gt;</th><th scope=col>&lt;dbl&gt;</th><th scope=col>&lt;dbl&gt;</th></tr>\n",
       "</thead>\n",
       "<tbody>\n",
       "\t<tr><th scope=row>NULL</th><td>NA</td><td>          NA</td><td>621</td><td>822.7288</td><td>          NA</td></tr>\n",
       "\t<tr><th scope=row>Pclass</th><td> 2</td><td>6.839632e+01</td><td>619</td><td>754.3325</td><td>1.405811e-15</td></tr>\n",
       "\t<tr><th scope=row>Sex</th><td> 1</td><td>1.929841e+02</td><td>618</td><td>561.3484</td><td>7.095702e-44</td></tr>\n",
       "\t<tr><th scope=row>Age</th><td> 1</td><td>1.693740e+01</td><td>617</td><td>544.4110</td><td>3.863286e-05</td></tr>\n",
       "\t<tr><th scope=row>SibSp</th><td> 1</td><td>1.096777e+01</td><td>616</td><td>533.4432</td><td>9.271007e-04</td></tr>\n",
       "\t<tr><th scope=row>Parch</th><td> 1</td><td>4.596331e-01</td><td>615</td><td>532.9836</td><td>4.977955e-01</td></tr>\n",
       "\t<tr><th scope=row>Fare</th><td> 1</td><td>6.802161e-01</td><td>614</td><td>532.3034</td><td>4.095123e-01</td></tr>\n",
       "\t<tr><th scope=row>Embarked</th><td> 2</td><td>9.443109e-01</td><td>612</td><td>531.3591</td><td>6.236566e-01</td></tr>\n",
       "\t<tr><th scope=row>Master</th><td> 1</td><td>2.955601e+01</td><td>611</td><td>501.8031</td><td>5.432403e-08</td></tr>\n",
       "\t<tr><th scope=row>Pclass:Sex</th><td> 2</td><td>1.759183e+01</td><td>609</td><td>484.2112</td><td>1.513497e-04</td></tr>\n",
       "\t<tr><th scope=row>Pclass:Age</th><td> 2</td><td>1.681766e-01</td><td>607</td><td>484.0431</td><td>9.193501e-01</td></tr>\n",
       "\t<tr><th scope=row>Pclass:SibSp</th><td> 2</td><td>1.572644e+01</td><td>605</td><td>468.3166</td><td>3.846329e-04</td></tr>\n",
       "\t<tr><th scope=row>Pclass:Parch</th><td> 2</td><td>3.540865e+00</td><td>603</td><td>464.7758</td><td>1.702594e-01</td></tr>\n",
       "\t<tr><th scope=row>Pclass:Fare</th><td> 2</td><td>9.972986e+00</td><td>601</td><td>454.8028</td><td>6.829575e-03</td></tr>\n",
       "\t<tr><th scope=row>Pclass:Embarked</th><td> 4</td><td>2.847823e+00</td><td>597</td><td>451.9549</td><td>5.836062e-01</td></tr>\n",
       "\t<tr><th scope=row>Pclass:Master</th><td> 2</td><td>3.356462e+00</td><td>595</td><td>448.5985</td><td>1.867040e-01</td></tr>\n",
       "\t<tr><th scope=row>Sex:Age</th><td> 1</td><td>2.137904e-01</td><td>594</td><td>448.3847</td><td>6.438126e-01</td></tr>\n",
       "\t<tr><th scope=row>Sex:SibSp</th><td> 1</td><td>2.884841e+00</td><td>593</td><td>445.4999</td><td>8.941684e-02</td></tr>\n",
       "\t<tr><th scope=row>Sex:Parch</th><td> 1</td><td>1.181131e-02</td><td>592</td><td>445.4880</td><td>9.134564e-01</td></tr>\n",
       "\t<tr><th scope=row>Sex:Fare</th><td> 1</td><td>3.146104e-03</td><td>591</td><td>445.4849</td><td>9.552700e-01</td></tr>\n",
       "\t<tr><th scope=row>Sex:Embarked</th><td> 2</td><td>4.251267e+00</td><td>589</td><td>441.2336</td><td>1.193573e-01</td></tr>\n",
       "\t<tr><th scope=row>Sex:Master</th><td> 0</td><td>0.000000e+00</td><td>589</td><td>441.2336</td><td>          NA</td></tr>\n",
       "\t<tr><th scope=row>Age:SibSp</th><td> 1</td><td>3.649351e+00</td><td>588</td><td>437.5843</td><td>5.609106e-02</td></tr>\n",
       "\t<tr><th scope=row>Age:Parch</th><td> 1</td><td>7.743117e-01</td><td>587</td><td>436.8100</td><td>3.788865e-01</td></tr>\n",
       "\t<tr><th scope=row>Age:Fare</th><td> 1</td><td>3.574231e+00</td><td>586</td><td>433.2357</td><td>5.868260e-02</td></tr>\n",
       "\t<tr><th scope=row>Age:Embarked</th><td> 2</td><td>5.724990e+00</td><td>584</td><td>427.5107</td><td>5.712606e-02</td></tr>\n",
       "\t<tr><th scope=row>Age:Master</th><td> 1</td><td>1.132475e-01</td><td>583</td><td>427.3975</td><td>7.364767e-01</td></tr>\n",
       "\t<tr><th scope=row>SibSp:Parch</th><td> 1</td><td>5.935610e-04</td><td>582</td><td>427.3969</td><td>9.805630e-01</td></tr>\n",
       "\t<tr><th scope=row>SibSp:Fare</th><td> 1</td><td>2.042209e+00</td><td>581</td><td>425.3547</td><td>1.529873e-01</td></tr>\n",
       "\t<tr><th scope=row>SibSp:Embarked</th><td> 2</td><td>2.081339e+00</td><td>579</td><td>423.2734</td><td>3.532182e-01</td></tr>\n",
       "\t<tr><th scope=row>SibSp:Master</th><td> 1</td><td>2.069168e+01</td><td>578</td><td>402.5817</td><td>5.394983e-06</td></tr>\n",
       "\t<tr><th scope=row>Parch:Fare</th><td> 1</td><td>1.258631e+00</td><td>577</td><td>401.3230</td><td>2.619104e-01</td></tr>\n",
       "\t<tr><th scope=row>Parch:Embarked</th><td> 2</td><td>3.321336e+00</td><td>575</td><td>398.0017</td><td>1.900120e-01</td></tr>\n",
       "\t<tr><th scope=row>Parch:Master</th><td> 1</td><td>2.684868e-08</td><td>574</td><td>398.0017</td><td>9.998693e-01</td></tr>\n",
       "\t<tr><th scope=row>Fare:Embarked</th><td> 2</td><td>8.512917e+00</td><td>572</td><td>389.4888</td><td>1.417241e-02</td></tr>\n",
       "\t<tr><th scope=row>Fare:Master</th><td> 1</td><td>0.000000e+00</td><td>571</td><td>389.4888</td><td>1.000000e+00</td></tr>\n",
       "\t<tr><th scope=row>Embarked:Master</th><td> 2</td><td>0.000000e+00</td><td>569</td><td>389.4888</td><td>1.000000e+00</td></tr>\n",
       "</tbody>\n",
       "</table>\n"
      ],
      "text/latex": [
       "A anova: 37 × 5\n",
       "\\begin{tabular}{r|lllll}\n",
       "  & Df & Deviance & Resid. Df & Resid. Dev & Pr(>Chi)\\\\\n",
       "  & <int> & <dbl> & <int> & <dbl> & <dbl>\\\\\n",
       "\\hline\n",
       "\tNULL & NA &           NA & 621 & 822.7288 &           NA\\\\\n",
       "\tPclass &  2 & 6.839632e+01 & 619 & 754.3325 & 1.405811e-15\\\\\n",
       "\tSex &  1 & 1.929841e+02 & 618 & 561.3484 & 7.095702e-44\\\\\n",
       "\tAge &  1 & 1.693740e+01 & 617 & 544.4110 & 3.863286e-05\\\\\n",
       "\tSibSp &  1 & 1.096777e+01 & 616 & 533.4432 & 9.271007e-04\\\\\n",
       "\tParch &  1 & 4.596331e-01 & 615 & 532.9836 & 4.977955e-01\\\\\n",
       "\tFare &  1 & 6.802161e-01 & 614 & 532.3034 & 4.095123e-01\\\\\n",
       "\tEmbarked &  2 & 9.443109e-01 & 612 & 531.3591 & 6.236566e-01\\\\\n",
       "\tMaster &  1 & 2.955601e+01 & 611 & 501.8031 & 5.432403e-08\\\\\n",
       "\tPclass:Sex &  2 & 1.759183e+01 & 609 & 484.2112 & 1.513497e-04\\\\\n",
       "\tPclass:Age &  2 & 1.681766e-01 & 607 & 484.0431 & 9.193501e-01\\\\\n",
       "\tPclass:SibSp &  2 & 1.572644e+01 & 605 & 468.3166 & 3.846329e-04\\\\\n",
       "\tPclass:Parch &  2 & 3.540865e+00 & 603 & 464.7758 & 1.702594e-01\\\\\n",
       "\tPclass:Fare &  2 & 9.972986e+00 & 601 & 454.8028 & 6.829575e-03\\\\\n",
       "\tPclass:Embarked &  4 & 2.847823e+00 & 597 & 451.9549 & 5.836062e-01\\\\\n",
       "\tPclass:Master &  2 & 3.356462e+00 & 595 & 448.5985 & 1.867040e-01\\\\\n",
       "\tSex:Age &  1 & 2.137904e-01 & 594 & 448.3847 & 6.438126e-01\\\\\n",
       "\tSex:SibSp &  1 & 2.884841e+00 & 593 & 445.4999 & 8.941684e-02\\\\\n",
       "\tSex:Parch &  1 & 1.181131e-02 & 592 & 445.4880 & 9.134564e-01\\\\\n",
       "\tSex:Fare &  1 & 3.146104e-03 & 591 & 445.4849 & 9.552700e-01\\\\\n",
       "\tSex:Embarked &  2 & 4.251267e+00 & 589 & 441.2336 & 1.193573e-01\\\\\n",
       "\tSex:Master &  0 & 0.000000e+00 & 589 & 441.2336 &           NA\\\\\n",
       "\tAge:SibSp &  1 & 3.649351e+00 & 588 & 437.5843 & 5.609106e-02\\\\\n",
       "\tAge:Parch &  1 & 7.743117e-01 & 587 & 436.8100 & 3.788865e-01\\\\\n",
       "\tAge:Fare &  1 & 3.574231e+00 & 586 & 433.2357 & 5.868260e-02\\\\\n",
       "\tAge:Embarked &  2 & 5.724990e+00 & 584 & 427.5107 & 5.712606e-02\\\\\n",
       "\tAge:Master &  1 & 1.132475e-01 & 583 & 427.3975 & 7.364767e-01\\\\\n",
       "\tSibSp:Parch &  1 & 5.935610e-04 & 582 & 427.3969 & 9.805630e-01\\\\\n",
       "\tSibSp:Fare &  1 & 2.042209e+00 & 581 & 425.3547 & 1.529873e-01\\\\\n",
       "\tSibSp:Embarked &  2 & 2.081339e+00 & 579 & 423.2734 & 3.532182e-01\\\\\n",
       "\tSibSp:Master &  1 & 2.069168e+01 & 578 & 402.5817 & 5.394983e-06\\\\\n",
       "\tParch:Fare &  1 & 1.258631e+00 & 577 & 401.3230 & 2.619104e-01\\\\\n",
       "\tParch:Embarked &  2 & 3.321336e+00 & 575 & 398.0017 & 1.900120e-01\\\\\n",
       "\tParch:Master &  1 & 2.684868e-08 & 574 & 398.0017 & 9.998693e-01\\\\\n",
       "\tFare:Embarked &  2 & 8.512917e+00 & 572 & 389.4888 & 1.417241e-02\\\\\n",
       "\tFare:Master &  1 & 0.000000e+00 & 571 & 389.4888 & 1.000000e+00\\\\\n",
       "\tEmbarked:Master &  2 & 0.000000e+00 & 569 & 389.4888 & 1.000000e+00\\\\\n",
       "\\end{tabular}\n"
      ],
      "text/markdown": [
       "\n",
       "A anova: 37 × 5\n",
       "\n",
       "| <!--/--> | Df &lt;int&gt; | Deviance &lt;dbl&gt; | Resid. Df &lt;int&gt; | Resid. Dev &lt;dbl&gt; | Pr(&gt;Chi) &lt;dbl&gt; |\n",
       "|---|---|---|---|---|---|\n",
       "| NULL | NA |           NA | 621 | 822.7288 |           NA |\n",
       "| Pclass |  2 | 6.839632e+01 | 619 | 754.3325 | 1.405811e-15 |\n",
       "| Sex |  1 | 1.929841e+02 | 618 | 561.3484 | 7.095702e-44 |\n",
       "| Age |  1 | 1.693740e+01 | 617 | 544.4110 | 3.863286e-05 |\n",
       "| SibSp |  1 | 1.096777e+01 | 616 | 533.4432 | 9.271007e-04 |\n",
       "| Parch |  1 | 4.596331e-01 | 615 | 532.9836 | 4.977955e-01 |\n",
       "| Fare |  1 | 6.802161e-01 | 614 | 532.3034 | 4.095123e-01 |\n",
       "| Embarked |  2 | 9.443109e-01 | 612 | 531.3591 | 6.236566e-01 |\n",
       "| Master |  1 | 2.955601e+01 | 611 | 501.8031 | 5.432403e-08 |\n",
       "| Pclass:Sex |  2 | 1.759183e+01 | 609 | 484.2112 | 1.513497e-04 |\n",
       "| Pclass:Age |  2 | 1.681766e-01 | 607 | 484.0431 | 9.193501e-01 |\n",
       "| Pclass:SibSp |  2 | 1.572644e+01 | 605 | 468.3166 | 3.846329e-04 |\n",
       "| Pclass:Parch |  2 | 3.540865e+00 | 603 | 464.7758 | 1.702594e-01 |\n",
       "| Pclass:Fare |  2 | 9.972986e+00 | 601 | 454.8028 | 6.829575e-03 |\n",
       "| Pclass:Embarked |  4 | 2.847823e+00 | 597 | 451.9549 | 5.836062e-01 |\n",
       "| Pclass:Master |  2 | 3.356462e+00 | 595 | 448.5985 | 1.867040e-01 |\n",
       "| Sex:Age |  1 | 2.137904e-01 | 594 | 448.3847 | 6.438126e-01 |\n",
       "| Sex:SibSp |  1 | 2.884841e+00 | 593 | 445.4999 | 8.941684e-02 |\n",
       "| Sex:Parch |  1 | 1.181131e-02 | 592 | 445.4880 | 9.134564e-01 |\n",
       "| Sex:Fare |  1 | 3.146104e-03 | 591 | 445.4849 | 9.552700e-01 |\n",
       "| Sex:Embarked |  2 | 4.251267e+00 | 589 | 441.2336 | 1.193573e-01 |\n",
       "| Sex:Master |  0 | 0.000000e+00 | 589 | 441.2336 |           NA |\n",
       "| Age:SibSp |  1 | 3.649351e+00 | 588 | 437.5843 | 5.609106e-02 |\n",
       "| Age:Parch |  1 | 7.743117e-01 | 587 | 436.8100 | 3.788865e-01 |\n",
       "| Age:Fare |  1 | 3.574231e+00 | 586 | 433.2357 | 5.868260e-02 |\n",
       "| Age:Embarked |  2 | 5.724990e+00 | 584 | 427.5107 | 5.712606e-02 |\n",
       "| Age:Master |  1 | 1.132475e-01 | 583 | 427.3975 | 7.364767e-01 |\n",
       "| SibSp:Parch |  1 | 5.935610e-04 | 582 | 427.3969 | 9.805630e-01 |\n",
       "| SibSp:Fare |  1 | 2.042209e+00 | 581 | 425.3547 | 1.529873e-01 |\n",
       "| SibSp:Embarked |  2 | 2.081339e+00 | 579 | 423.2734 | 3.532182e-01 |\n",
       "| SibSp:Master |  1 | 2.069168e+01 | 578 | 402.5817 | 5.394983e-06 |\n",
       "| Parch:Fare |  1 | 1.258631e+00 | 577 | 401.3230 | 2.619104e-01 |\n",
       "| Parch:Embarked |  2 | 3.321336e+00 | 575 | 398.0017 | 1.900120e-01 |\n",
       "| Parch:Master |  1 | 2.684868e-08 | 574 | 398.0017 | 9.998693e-01 |\n",
       "| Fare:Embarked |  2 | 8.512917e+00 | 572 | 389.4888 | 1.417241e-02 |\n",
       "| Fare:Master |  1 | 0.000000e+00 | 571 | 389.4888 | 1.000000e+00 |\n",
       "| Embarked:Master |  2 | 0.000000e+00 | 569 | 389.4888 | 1.000000e+00 |\n",
       "\n"
      ],
      "text/plain": [
       "                Df Deviance     Resid. Df Resid. Dev Pr(>Chi)    \n",
       "NULL            NA           NA 621       822.7288             NA\n",
       "Pclass           2 6.839632e+01 619       754.3325   1.405811e-15\n",
       "Sex              1 1.929841e+02 618       561.3484   7.095702e-44\n",
       "Age              1 1.693740e+01 617       544.4110   3.863286e-05\n",
       "SibSp            1 1.096777e+01 616       533.4432   9.271007e-04\n",
       "Parch            1 4.596331e-01 615       532.9836   4.977955e-01\n",
       "Fare             1 6.802161e-01 614       532.3034   4.095123e-01\n",
       "Embarked         2 9.443109e-01 612       531.3591   6.236566e-01\n",
       "Master           1 2.955601e+01 611       501.8031   5.432403e-08\n",
       "Pclass:Sex       2 1.759183e+01 609       484.2112   1.513497e-04\n",
       "Pclass:Age       2 1.681766e-01 607       484.0431   9.193501e-01\n",
       "Pclass:SibSp     2 1.572644e+01 605       468.3166   3.846329e-04\n",
       "Pclass:Parch     2 3.540865e+00 603       464.7758   1.702594e-01\n",
       "Pclass:Fare      2 9.972986e+00 601       454.8028   6.829575e-03\n",
       "Pclass:Embarked  4 2.847823e+00 597       451.9549   5.836062e-01\n",
       "Pclass:Master    2 3.356462e+00 595       448.5985   1.867040e-01\n",
       "Sex:Age          1 2.137904e-01 594       448.3847   6.438126e-01\n",
       "Sex:SibSp        1 2.884841e+00 593       445.4999   8.941684e-02\n",
       "Sex:Parch        1 1.181131e-02 592       445.4880   9.134564e-01\n",
       "Sex:Fare         1 3.146104e-03 591       445.4849   9.552700e-01\n",
       "Sex:Embarked     2 4.251267e+00 589       441.2336   1.193573e-01\n",
       "Sex:Master       0 0.000000e+00 589       441.2336             NA\n",
       "Age:SibSp        1 3.649351e+00 588       437.5843   5.609106e-02\n",
       "Age:Parch        1 7.743117e-01 587       436.8100   3.788865e-01\n",
       "Age:Fare         1 3.574231e+00 586       433.2357   5.868260e-02\n",
       "Age:Embarked     2 5.724990e+00 584       427.5107   5.712606e-02\n",
       "Age:Master       1 1.132475e-01 583       427.3975   7.364767e-01\n",
       "SibSp:Parch      1 5.935610e-04 582       427.3969   9.805630e-01\n",
       "SibSp:Fare       1 2.042209e+00 581       425.3547   1.529873e-01\n",
       "SibSp:Embarked   2 2.081339e+00 579       423.2734   3.532182e-01\n",
       "SibSp:Master     1 2.069168e+01 578       402.5817   5.394983e-06\n",
       "Parch:Fare       1 1.258631e+00 577       401.3230   2.619104e-01\n",
       "Parch:Embarked   2 3.321336e+00 575       398.0017   1.900120e-01\n",
       "Parch:Master     1 2.684868e-08 574       398.0017   9.998693e-01\n",
       "Fare:Embarked    2 8.512917e+00 572       389.4888   1.417241e-02\n",
       "Fare:Master      1 0.000000e+00 571       389.4888   1.000000e+00\n",
       "Embarked:Master  2 0.000000e+00 569       389.4888   1.000000e+00"
      ]
     },
     "metadata": {},
     "output_type": "display_data"
    },
    {
     "name": "stdout",
     "output_type": "stream",
     "text": [
      "Start:  AIC=495.49\n",
      "Survived ~ (Pclass + Sex + Age + SibSp + Parch + Fare + Embarked + \n",
      "    Master)^2\n",
      "\n"
     ]
    },
    {
     "name": "stderr",
     "output_type": "stream",
     "text": [
      "Warning message:\n",
      "\"glm.fit: fitted probabilities numerically 0 or 1 occurred\"\n",
      "Warning message:\n",
      "\"glm.fit: fitted probabilities numerically 0 or 1 occurred\"\n",
      "Warning message:\n",
      "\"glm.fit: fitted probabilities numerically 0 or 1 occurred\"\n",
      "Warning message:\n",
      "\"glm.fit: fitted probabilities numerically 0 or 1 occurred\"\n",
      "Warning message:\n",
      "\"glm.fit: fitted probabilities numerically 0 or 1 occurred\"\n",
      "Warning message:\n",
      "\"glm.fit: fitted probabilities numerically 0 or 1 occurred\"\n",
      "Warning message:\n",
      "\"glm.fit: fitted probabilities numerically 0 or 1 occurred\"\n",
      "Warning message:\n",
      "\"glm.fit: fitted probabilities numerically 0 or 1 occurred\"\n",
      "Warning message:\n",
      "\"glm.fit: fitted probabilities numerically 0 or 1 occurred\"\n",
      "Warning message:\n",
      "\"glm.fit: fitted probabilities numerically 0 or 1 occurred\"\n",
      "Warning message:\n",
      "\"glm.fit: fitted probabilities numerically 0 or 1 occurred\"\n",
      "Warning message:\n",
      "\"glm.fit: fitted probabilities numerically 0 or 1 occurred\"\n",
      "Warning message:\n",
      "\"glm.fit: fitted probabilities numerically 0 or 1 occurred\"\n",
      "Warning message:\n",
      "\"glm.fit: fitted probabilities numerically 0 or 1 occurred\"\n",
      "Warning message:\n",
      "\"glm.fit: fitted probabilities numerically 0 or 1 occurred\"\n",
      "Warning message:\n",
      "\"glm.fit: fitted probabilities numerically 0 or 1 occurred\"\n",
      "Warning message:\n",
      "\"glm.fit: fitted probabilities numerically 0 or 1 occurred\"\n",
      "Warning message:\n",
      "\"glm.fit: fitted probabilities numerically 0 or 1 occurred\"\n",
      "Warning message:\n",
      "\"glm.fit: fitted probabilities numerically 0 or 1 occurred\"\n",
      "Warning message:\n",
      "\"glm.fit: fitted probabilities numerically 0 or 1 occurred\"\n",
      "Warning message:\n",
      "\"glm.fit: fitted probabilities numerically 0 or 1 occurred\"\n",
      "Warning message:\n",
      "\"glm.fit: fitted probabilities numerically 0 or 1 occurred\"\n",
      "Warning message:\n",
      "\"glm.fit: fitted probabilities numerically 0 or 1 occurred\"\n",
      "Warning message:\n",
      "\"glm.fit: fitted probabilities numerically 0 or 1 occurred\"\n",
      "Warning message:\n",
      "\"glm.fit: fitted probabilities numerically 0 or 1 occurred\"\n",
      "Warning message:\n",
      "\"glm.fit: fitted probabilities numerically 0 or 1 occurred\"\n",
      "Warning message:\n",
      "\"glm.fit: fitted probabilities numerically 0 or 1 occurred\"\n",
      "Warning message:\n",
      "\"glm.fit: fitted probabilities numerically 0 or 1 occurred\"\n",
      "Warning message:\n",
      "\"glm.fit: fitted probabilities numerically 0 or 1 occurred\"\n"
     ]
    },
    {
     "name": "stdout",
     "output_type": "stream",
     "text": [
      "\n",
      "Step:  AIC=495.49\n",
      "Survived ~ Pclass + Sex + Age + SibSp + Parch + Fare + Embarked + \n",
      "    Master + Pclass:Sex + Pclass:Age + Pclass:SibSp + Pclass:Parch + \n",
      "    Pclass:Fare + Pclass:Embarked + Pclass:Master + Sex:Age + \n",
      "    Sex:SibSp + Sex:Parch + Sex:Fare + Sex:Embarked + Age:SibSp + \n",
      "    Age:Parch + Age:Fare + Age:Embarked + Age:Master + SibSp:Parch + \n",
      "    SibSp:Fare + SibSp:Embarked + SibSp:Master + Parch:Fare + \n",
      "    Parch:Embarked + Parch:Master + Fare:Embarked + Fare:Master + \n",
      "    Embarked:Master\n",
      "\n"
     ]
    },
    {
     "name": "stderr",
     "output_type": "stream",
     "text": [
      "Warning message:\n",
      "\"glm.fit: fitted probabilities numerically 0 or 1 occurred\"\n",
      "Warning message:\n",
      "\"glm.fit: fitted probabilities numerically 0 or 1 occurred\"\n",
      "Warning message:\n",
      "\"glm.fit: fitted probabilities numerically 0 or 1 occurred\"\n",
      "Warning message:\n",
      "\"glm.fit: fitted probabilities numerically 0 or 1 occurred\"\n",
      "Warning message:\n",
      "\"glm.fit: fitted probabilities numerically 0 or 1 occurred\"\n",
      "Warning message:\n",
      "\"glm.fit: fitted probabilities numerically 0 or 1 occurred\"\n",
      "Warning message:\n",
      "\"glm.fit: fitted probabilities numerically 0 or 1 occurred\"\n",
      "Warning message:\n",
      "\"glm.fit: fitted probabilities numerically 0 or 1 occurred\"\n",
      "Warning message:\n",
      "\"glm.fit: fitted probabilities numerically 0 or 1 occurred\"\n",
      "Warning message:\n",
      "\"glm.fit: fitted probabilities numerically 0 or 1 occurred\"\n",
      "Warning message:\n",
      "\"glm.fit: fitted probabilities numerically 0 or 1 occurred\"\n",
      "Warning message:\n",
      "\"glm.fit: fitted probabilities numerically 0 or 1 occurred\"\n",
      "Warning message:\n",
      "\"glm.fit: fitted probabilities numerically 0 or 1 occurred\"\n",
      "Warning message:\n",
      "\"glm.fit: fitted probabilities numerically 0 or 1 occurred\"\n",
      "Warning message:\n",
      "\"glm.fit: fitted probabilities numerically 0 or 1 occurred\"\n",
      "Warning message:\n",
      "\"glm.fit: fitted probabilities numerically 0 or 1 occurred\"\n",
      "Warning message:\n",
      "\"glm.fit: fitted probabilities numerically 0 or 1 occurred\"\n",
      "Warning message:\n",
      "\"glm.fit: fitted probabilities numerically 0 or 1 occurred\"\n",
      "Warning message:\n",
      "\"glm.fit: fitted probabilities numerically 0 or 1 occurred\"\n",
      "Warning message:\n",
      "\"glm.fit: fitted probabilities numerically 0 or 1 occurred\"\n",
      "Warning message:\n",
      "\"glm.fit: fitted probabilities numerically 0 or 1 occurred\"\n",
      "Warning message:\n",
      "\"glm.fit: fitted probabilities numerically 0 or 1 occurred\"\n",
      "Warning message:\n",
      "\"glm.fit: fitted probabilities numerically 0 or 1 occurred\"\n",
      "Warning message:\n",
      "\"glm.fit: fitted probabilities numerically 0 or 1 occurred\"\n",
      "Warning message:\n",
      "\"glm.fit: fitted probabilities numerically 0 or 1 occurred\"\n",
      "Warning message:\n",
      "\"glm.fit: fitted probabilities numerically 0 or 1 occurred\"\n",
      "Warning message:\n",
      "\"glm.fit: fitted probabilities numerically 0 or 1 occurred\"\n"
     ]
    },
    {
     "name": "stdout",
     "output_type": "stream",
     "text": [
      "                  Df Deviance    AIC\n",
      "- Pclass:Embarked  4   390.31 488.31\n",
      "- Embarked:Master  2   389.49 491.49\n",
      "- Pclass:Master    2   389.49 491.49\n",
      "- SibSp:Embarked   2   390.68 492.68\n",
      "- Pclass:Parch     2   390.80 492.80\n",
      "- Age:Master       1   389.49 493.49\n",
      "- Fare:Master      1   389.49 493.49\n",
      "- Parch:Master     1   389.49 493.49\n",
      "- SibSp:Master     1   389.49 493.49\n",
      "- Sex:SibSp        1   389.62 493.62\n",
      "- Sex:Age          1   389.69 493.69\n",
      "- Sex:Parch        1   389.74 493.74\n",
      "- Age:SibSp        1   389.88 493.88\n",
      "- Parch:Fare       1   389.93 493.93\n",
      "- Sex:Fare         1   390.29 494.29\n",
      "- Pclass:Age       2   392.55 494.55\n",
      "- Age:Parch        1   391.10 495.10\n",
      "<none>                 389.49 495.49\n",
      "- SibSp:Fare       1   392.66 496.66\n",
      "- SibSp:Parch      1   393.00 497.00\n",
      "- Age:Fare         1   393.93 497.93\n",
      "- Fare:Embarked    2   398.00 500.00\n",
      "- Pclass:SibSp     2   398.05 500.05\n",
      "- Parch:Embarked   2   399.03 501.03\n",
      "- Sex:Embarked     2   400.33 502.33\n",
      "- Age:Embarked     2   400.79 502.79\n",
      "- Pclass:Sex       2   401.00 503.00\n",
      "- Pclass:Fare      2   401.05 503.05\n"
     ]
    },
    {
     "name": "stderr",
     "output_type": "stream",
     "text": [
      "Warning message:\n",
      "\"glm.fit: fitted probabilities numerically 0 or 1 occurred\"\n"
     ]
    },
    {
     "name": "stdout",
     "output_type": "stream",
     "text": [
      "\n",
      "Step:  AIC=488.31\n",
      "Survived ~ Pclass + Sex + Age + SibSp + Parch + Fare + Embarked + \n",
      "    Master + Pclass:Sex + Pclass:Age + Pclass:SibSp + Pclass:Parch + \n",
      "    Pclass:Fare + Pclass:Master + Sex:Age + Sex:SibSp + Sex:Parch + \n",
      "    Sex:Fare + Sex:Embarked + Age:SibSp + Age:Parch + Age:Fare + \n",
      "    Age:Embarked + Age:Master + SibSp:Parch + SibSp:Fare + SibSp:Embarked + \n",
      "    SibSp:Master + Parch:Fare + Parch:Embarked + Parch:Master + \n",
      "    Fare:Embarked + Fare:Master + Embarked:Master\n",
      "\n"
     ]
    },
    {
     "name": "stderr",
     "output_type": "stream",
     "text": [
      "Warning message:\n",
      "\"glm.fit: fitted probabilities numerically 0 or 1 occurred\"\n",
      "Warning message:\n",
      "\"glm.fit: fitted probabilities numerically 0 or 1 occurred\"\n",
      "Warning message:\n",
      "\"glm.fit: fitted probabilities numerically 0 or 1 occurred\"\n",
      "Warning message:\n",
      "\"glm.fit: fitted probabilities numerically 0 or 1 occurred\"\n",
      "Warning message:\n",
      "\"glm.fit: fitted probabilities numerically 0 or 1 occurred\"\n",
      "Warning message:\n",
      "\"glm.fit: fitted probabilities numerically 0 or 1 occurred\"\n",
      "Warning message:\n",
      "\"glm.fit: fitted probabilities numerically 0 or 1 occurred\"\n",
      "Warning message:\n",
      "\"glm.fit: fitted probabilities numerically 0 or 1 occurred\"\n",
      "Warning message:\n",
      "\"glm.fit: fitted probabilities numerically 0 or 1 occurred\"\n",
      "Warning message:\n",
      "\"glm.fit: fitted probabilities numerically 0 or 1 occurred\"\n",
      "Warning message:\n",
      "\"glm.fit: fitted probabilities numerically 0 or 1 occurred\"\n",
      "Warning message:\n",
      "\"glm.fit: fitted probabilities numerically 0 or 1 occurred\"\n",
      "Warning message:\n",
      "\"glm.fit: fitted probabilities numerically 0 or 1 occurred\"\n",
      "Warning message:\n",
      "\"glm.fit: fitted probabilities numerically 0 or 1 occurred\"\n",
      "Warning message:\n",
      "\"glm.fit: fitted probabilities numerically 0 or 1 occurred\"\n",
      "Warning message:\n",
      "\"glm.fit: fitted probabilities numerically 0 or 1 occurred\"\n",
      "Warning message:\n",
      "\"glm.fit: fitted probabilities numerically 0 or 1 occurred\"\n",
      "Warning message:\n",
      "\"glm.fit: fitted probabilities numerically 0 or 1 occurred\"\n",
      "Warning message:\n",
      "\"glm.fit: fitted probabilities numerically 0 or 1 occurred\"\n",
      "Warning message:\n",
      "\"glm.fit: fitted probabilities numerically 0 or 1 occurred\"\n",
      "Warning message:\n",
      "\"glm.fit: fitted probabilities numerically 0 or 1 occurred\"\n",
      "Warning message:\n",
      "\"glm.fit: fitted probabilities numerically 0 or 1 occurred\"\n",
      "Warning message:\n",
      "\"glm.fit: fitted probabilities numerically 0 or 1 occurred\"\n",
      "Warning message:\n",
      "\"glm.fit: fitted probabilities numerically 0 or 1 occurred\"\n",
      "Warning message:\n",
      "\"glm.fit: fitted probabilities numerically 0 or 1 occurred\"\n",
      "Warning message:\n",
      "\"glm.fit: fitted probabilities numerically 0 or 1 occurred\"\n"
     ]
    },
    {
     "name": "stdout",
     "output_type": "stream",
     "text": [
      "                  Df Deviance    AIC\n",
      "- Embarked:Master  2   390.31 484.31\n",
      "- Pclass:Master    2   390.31 484.31\n",
      "- SibSp:Embarked   2   391.29 485.29\n",
      "- Pclass:Parch     2   391.82 485.82\n",
      "- SibSp:Master     1   390.31 486.31\n",
      "- Age:Master       1   390.31 486.31\n",
      "- Fare:Master      1   390.31 486.31\n",
      "- Parch:Master     1   390.31 486.31\n",
      "- Sex:SibSp        1   390.41 486.41\n",
      "- Sex:Age          1   390.53 486.53\n",
      "- Age:SibSp        1   390.68 486.68\n",
      "- Sex:Parch        1   390.68 486.68\n",
      "- Parch:Fare       1   391.02 487.02\n",
      "- Sex:Fare         1   391.24 487.24\n",
      "- Pclass:Age       2   393.49 487.49\n",
      "- Age:Parch        1   391.98 487.98\n",
      "<none>                 390.31 488.31\n",
      "- SibSp:Fare       1   393.71 489.71\n",
      "- SibSp:Parch      1   393.71 489.71\n",
      "- Age:Fare         1   395.43 491.43\n",
      "- Pclass:SibSp     2   398.75 492.75\n",
      "- Fare:Embarked    2   399.90 493.90\n",
      "- Pclass:Fare      2   401.60 495.60\n",
      "- Pclass:Sex       2   401.86 495.86\n",
      "- Parch:Embarked   2   402.57 496.57\n",
      "- Sex:Embarked     2   403.05 497.05\n",
      "- Age:Embarked     2   404.42 498.42\n"
     ]
    },
    {
     "name": "stderr",
     "output_type": "stream",
     "text": [
      "Warning message:\n",
      "\"glm.fit: fitted probabilities numerically 0 or 1 occurred\"\n"
     ]
    },
    {
     "name": "stdout",
     "output_type": "stream",
     "text": [
      "\n",
      "Step:  AIC=484.31\n",
      "Survived ~ Pclass + Sex + Age + SibSp + Parch + Fare + Embarked + \n",
      "    Master + Pclass:Sex + Pclass:Age + Pclass:SibSp + Pclass:Parch + \n",
      "    Pclass:Fare + Pclass:Master + Sex:Age + Sex:SibSp + Sex:Parch + \n",
      "    Sex:Fare + Sex:Embarked + Age:SibSp + Age:Parch + Age:Fare + \n",
      "    Age:Embarked + Age:Master + SibSp:Parch + SibSp:Fare + SibSp:Embarked + \n",
      "    SibSp:Master + Parch:Fare + Parch:Embarked + Parch:Master + \n",
      "    Fare:Embarked + Fare:Master\n",
      "\n"
     ]
    },
    {
     "name": "stderr",
     "output_type": "stream",
     "text": [
      "Warning message:\n",
      "\"glm.fit: fitted probabilities numerically 0 or 1 occurred\"\n",
      "Warning message:\n",
      "\"glm.fit: fitted probabilities numerically 0 or 1 occurred\"\n",
      "Warning message:\n",
      "\"glm.fit: fitted probabilities numerically 0 or 1 occurred\"\n",
      "Warning message:\n",
      "\"glm.fit: fitted probabilities numerically 0 or 1 occurred\"\n",
      "Warning message:\n",
      "\"glm.fit: fitted probabilities numerically 0 or 1 occurred\"\n",
      "Warning message:\n",
      "\"glm.fit: fitted probabilities numerically 0 or 1 occurred\"\n",
      "Warning message:\n",
      "\"glm.fit: fitted probabilities numerically 0 or 1 occurred\"\n",
      "Warning message:\n",
      "\"glm.fit: fitted probabilities numerically 0 or 1 occurred\"\n",
      "Warning message:\n",
      "\"glm.fit: fitted probabilities numerically 0 or 1 occurred\"\n",
      "Warning message:\n",
      "\"glm.fit: fitted probabilities numerically 0 or 1 occurred\"\n",
      "Warning message:\n",
      "\"glm.fit: fitted probabilities numerically 0 or 1 occurred\"\n",
      "Warning message:\n",
      "\"glm.fit: fitted probabilities numerically 0 or 1 occurred\"\n",
      "Warning message:\n",
      "\"glm.fit: fitted probabilities numerically 0 or 1 occurred\"\n",
      "Warning message:\n",
      "\"glm.fit: fitted probabilities numerically 0 or 1 occurred\"\n",
      "Warning message:\n",
      "\"glm.fit: fitted probabilities numerically 0 or 1 occurred\"\n",
      "Warning message:\n",
      "\"glm.fit: fitted probabilities numerically 0 or 1 occurred\"\n",
      "Warning message:\n",
      "\"glm.fit: fitted probabilities numerically 0 or 1 occurred\"\n",
      "Warning message:\n",
      "\"glm.fit: fitted probabilities numerically 0 or 1 occurred\"\n",
      "Warning message:\n",
      "\"glm.fit: fitted probabilities numerically 0 or 1 occurred\"\n",
      "Warning message:\n",
      "\"glm.fit: fitted probabilities numerically 0 or 1 occurred\"\n",
      "Warning message:\n",
      "\"glm.fit: fitted probabilities numerically 0 or 1 occurred\"\n",
      "Warning message:\n",
      "\"glm.fit: fitted probabilities numerically 0 or 1 occurred\"\n",
      "Warning message:\n",
      "\"glm.fit: fitted probabilities numerically 0 or 1 occurred\"\n",
      "Warning message:\n",
      "\"glm.fit: fitted probabilities numerically 0 or 1 occurred\"\n",
      "Warning message:\n",
      "\"glm.fit: fitted probabilities numerically 0 or 1 occurred\"\n"
     ]
    },
    {
     "name": "stdout",
     "output_type": "stream",
     "text": [
      "                 Df Deviance    AIC\n",
      "- Pclass:Master   2   390.31 480.31\n",
      "- SibSp:Embarked  2   391.29 481.29\n",
      "- Pclass:Parch    2   391.82 481.82\n",
      "- Parch:Master    1   390.31 482.31\n",
      "- Age:Master      1   390.31 482.31\n",
      "- Fare:Master     1   390.31 482.31\n",
      "- SibSp:Master    1   390.31 482.31\n",
      "- Sex:SibSp       1   390.41 482.41\n",
      "- Sex:Age         1   390.53 482.53\n",
      "- Age:SibSp       1   390.68 482.68\n",
      "- Sex:Parch       1   390.68 482.68\n",
      "- Parch:Fare      1   391.02 483.02\n",
      "- Sex:Fare        1   391.24 483.24\n",
      "- Pclass:Age      2   393.49 483.49\n",
      "- Age:Parch       1   391.98 483.98\n",
      "<none>                390.31 484.31\n",
      "- SibSp:Fare      1   393.71 485.71\n",
      "- SibSp:Parch     1   393.71 485.71\n",
      "- Age:Fare        1   395.43 487.43\n",
      "- Pclass:SibSp    2   398.75 488.75\n",
      "- Fare:Embarked   2   399.90 489.90\n",
      "- Pclass:Fare     2   401.60 491.60\n",
      "- Pclass:Sex      2   401.86 491.86\n",
      "- Parch:Embarked  2   402.57 492.57\n",
      "- Sex:Embarked    2   403.05 493.05\n",
      "- Age:Embarked    2   404.42 494.42\n"
     ]
    },
    {
     "name": "stderr",
     "output_type": "stream",
     "text": [
      "Warning message:\n",
      "\"glm.fit: fitted probabilities numerically 0 or 1 occurred\"\n"
     ]
    },
    {
     "name": "stdout",
     "output_type": "stream",
     "text": [
      "\n",
      "Step:  AIC=480.31\n",
      "Survived ~ Pclass + Sex + Age + SibSp + Parch + Fare + Embarked + \n",
      "    Master + Pclass:Sex + Pclass:Age + Pclass:SibSp + Pclass:Parch + \n",
      "    Pclass:Fare + Sex:Age + Sex:SibSp + Sex:Parch + Sex:Fare + \n",
      "    Sex:Embarked + Age:SibSp + Age:Parch + Age:Fare + Age:Embarked + \n",
      "    Age:Master + SibSp:Parch + SibSp:Fare + SibSp:Embarked + \n",
      "    SibSp:Master + Parch:Fare + Parch:Embarked + Parch:Master + \n",
      "    Fare:Embarked + Fare:Master\n",
      "\n"
     ]
    },
    {
     "name": "stderr",
     "output_type": "stream",
     "text": [
      "Warning message:\n",
      "\"glm.fit: fitted probabilities numerically 0 or 1 occurred\"\n",
      "Warning message:\n",
      "\"glm.fit: fitted probabilities numerically 0 or 1 occurred\"\n",
      "Warning message:\n",
      "\"glm.fit: fitted probabilities numerically 0 or 1 occurred\"\n",
      "Warning message:\n",
      "\"glm.fit: fitted probabilities numerically 0 or 1 occurred\"\n",
      "Warning message:\n",
      "\"glm.fit: fitted probabilities numerically 0 or 1 occurred\"\n",
      "Warning message:\n",
      "\"glm.fit: fitted probabilities numerically 0 or 1 occurred\"\n",
      "Warning message:\n",
      "\"glm.fit: fitted probabilities numerically 0 or 1 occurred\"\n",
      "Warning message:\n",
      "\"glm.fit: fitted probabilities numerically 0 or 1 occurred\"\n",
      "Warning message:\n",
      "\"glm.fit: fitted probabilities numerically 0 or 1 occurred\"\n",
      "Warning message:\n",
      "\"glm.fit: fitted probabilities numerically 0 or 1 occurred\"\n",
      "Warning message:\n",
      "\"glm.fit: fitted probabilities numerically 0 or 1 occurred\"\n",
      "Warning message:\n",
      "\"glm.fit: fitted probabilities numerically 0 or 1 occurred\"\n",
      "Warning message:\n",
      "\"glm.fit: fitted probabilities numerically 0 or 1 occurred\"\n",
      "Warning message:\n",
      "\"glm.fit: fitted probabilities numerically 0 or 1 occurred\"\n",
      "Warning message:\n",
      "\"glm.fit: fitted probabilities numerically 0 or 1 occurred\"\n",
      "Warning message:\n",
      "\"glm.fit: fitted probabilities numerically 0 or 1 occurred\"\n",
      "Warning message:\n",
      "\"glm.fit: fitted probabilities numerically 0 or 1 occurred\"\n",
      "Warning message:\n",
      "\"glm.fit: fitted probabilities numerically 0 or 1 occurred\"\n",
      "Warning message:\n",
      "\"glm.fit: fitted probabilities numerically 0 or 1 occurred\"\n",
      "Warning message:\n",
      "\"glm.fit: fitted probabilities numerically 0 or 1 occurred\"\n",
      "Warning message:\n",
      "\"glm.fit: fitted probabilities numerically 0 or 1 occurred\"\n",
      "Warning message:\n",
      "\"glm.fit: fitted probabilities numerically 0 or 1 occurred\"\n",
      "Warning message:\n",
      "\"glm.fit: fitted probabilities numerically 0 or 1 occurred\"\n",
      "Warning message:\n",
      "\"glm.fit: fitted probabilities numerically 0 or 1 occurred\"\n"
     ]
    },
    {
     "name": "stdout",
     "output_type": "stream",
     "text": [
      "                 Df Deviance    AIC\n",
      "- SibSp:Embarked  2   391.29 477.29\n",
      "- Pclass:Parch    2   391.82 477.82\n",
      "- Parch:Master    1   390.31 478.31\n",
      "- Fare:Master     1   390.31 478.31\n",
      "- Age:Master      1   390.31 478.31\n",
      "- Sex:SibSp       1   390.41 478.41\n",
      "- Sex:Age         1   390.53 478.53\n",
      "- Age:SibSp       1   390.68 478.68\n",
      "- Sex:Parch       1   390.68 478.68\n",
      "- Parch:Fare      1   391.02 479.02\n",
      "- Sex:Fare        1   391.24 479.24\n",
      "- Pclass:Age      2   393.49 479.49\n",
      "- Age:Parch       1   391.98 479.98\n",
      "<none>                390.31 480.31\n",
      "- SibSp:Master    1   392.72 480.72\n",
      "- SibSp:Fare      1   393.71 481.71\n",
      "- SibSp:Parch     1   393.71 481.71\n",
      "- Age:Fare        1   395.43 483.43\n",
      "- Pclass:SibSp    2   398.75 484.75\n",
      "- Fare:Embarked   2   399.90 485.90\n",
      "- Pclass:Fare     2   401.60 487.60\n",
      "- Pclass:Sex      2   401.86 487.86\n",
      "- Parch:Embarked  2   402.57 488.57\n",
      "- Sex:Embarked    2   403.05 489.05\n",
      "- Age:Embarked    2   404.42 490.42\n"
     ]
    },
    {
     "name": "stderr",
     "output_type": "stream",
     "text": [
      "Warning message:\n",
      "\"glm.fit: fitted probabilities numerically 0 or 1 occurred\"\n"
     ]
    },
    {
     "name": "stdout",
     "output_type": "stream",
     "text": [
      "\n",
      "Step:  AIC=477.29\n",
      "Survived ~ Pclass + Sex + Age + SibSp + Parch + Fare + Embarked + \n",
      "    Master + Pclass:Sex + Pclass:Age + Pclass:SibSp + Pclass:Parch + \n",
      "    Pclass:Fare + Sex:Age + Sex:SibSp + Sex:Parch + Sex:Fare + \n",
      "    Sex:Embarked + Age:SibSp + Age:Parch + Age:Fare + Age:Embarked + \n",
      "    Age:Master + SibSp:Parch + SibSp:Fare + SibSp:Master + Parch:Fare + \n",
      "    Parch:Embarked + Parch:Master + Fare:Embarked + Fare:Master\n",
      "\n"
     ]
    },
    {
     "name": "stderr",
     "output_type": "stream",
     "text": [
      "Warning message:\n",
      "\"glm.fit: fitted probabilities numerically 0 or 1 occurred\"\n",
      "Warning message:\n",
      "\"glm.fit: fitted probabilities numerically 0 or 1 occurred\"\n",
      "Warning message:\n",
      "\"glm.fit: fitted probabilities numerically 0 or 1 occurred\"\n",
      "Warning message:\n",
      "\"glm.fit: fitted probabilities numerically 0 or 1 occurred\"\n",
      "Warning message:\n",
      "\"glm.fit: fitted probabilities numerically 0 or 1 occurred\"\n",
      "Warning message:\n",
      "\"glm.fit: fitted probabilities numerically 0 or 1 occurred\"\n",
      "Warning message:\n",
      "\"glm.fit: fitted probabilities numerically 0 or 1 occurred\"\n",
      "Warning message:\n",
      "\"glm.fit: fitted probabilities numerically 0 or 1 occurred\"\n",
      "Warning message:\n",
      "\"glm.fit: fitted probabilities numerically 0 or 1 occurred\"\n",
      "Warning message:\n",
      "\"glm.fit: fitted probabilities numerically 0 or 1 occurred\"\n",
      "Warning message:\n",
      "\"glm.fit: fitted probabilities numerically 0 or 1 occurred\"\n",
      "Warning message:\n",
      "\"glm.fit: fitted probabilities numerically 0 or 1 occurred\"\n",
      "Warning message:\n",
      "\"glm.fit: fitted probabilities numerically 0 or 1 occurred\"\n",
      "Warning message:\n",
      "\"glm.fit: fitted probabilities numerically 0 or 1 occurred\"\n",
      "Warning message:\n",
      "\"glm.fit: fitted probabilities numerically 0 or 1 occurred\"\n",
      "Warning message:\n",
      "\"glm.fit: fitted probabilities numerically 0 or 1 occurred\"\n",
      "Warning message:\n",
      "\"glm.fit: fitted probabilities numerically 0 or 1 occurred\"\n",
      "Warning message:\n",
      "\"glm.fit: fitted probabilities numerically 0 or 1 occurred\"\n",
      "Warning message:\n",
      "\"glm.fit: fitted probabilities numerically 0 or 1 occurred\"\n",
      "Warning message:\n",
      "\"glm.fit: fitted probabilities numerically 0 or 1 occurred\"\n",
      "Warning message:\n",
      "\"glm.fit: fitted probabilities numerically 0 or 1 occurred\"\n",
      "Warning message:\n",
      "\"glm.fit: fitted probabilities numerically 0 or 1 occurred\"\n",
      "Warning message:\n",
      "\"glm.fit: fitted probabilities numerically 0 or 1 occurred\"\n"
     ]
    },
    {
     "name": "stdout",
     "output_type": "stream",
     "text": [
      "                 Df Deviance    AIC\n",
      "- Pclass:Parch    2   392.81 474.81\n",
      "- Parch:Master    1   391.29 475.29\n",
      "- Age:Master      1   391.29 475.29\n",
      "- Fare:Master     1   391.29 475.29\n",
      "- Sex:SibSp       1   391.33 475.33\n",
      "- Sex:Age         1   391.54 475.54\n",
      "- Sex:Parch       1   391.60 475.60\n",
      "- Age:SibSp       1   391.63 475.63\n",
      "- Parch:Fare      1   391.90 475.90\n",
      "- Pclass:Age      2   394.43 476.43\n",
      "- Sex:Fare        1   392.57 476.57\n",
      "- Age:Parch       1   392.94 476.94\n",
      "<none>                391.29 477.29\n",
      "- SibSp:Master    1   394.13 478.13\n",
      "- SibSp:Parch     1   394.25 478.25\n",
      "- SibSp:Fare      1   394.70 478.70\n",
      "- Age:Fare        1   396.83 480.83\n",
      "- Pclass:SibSp    2   399.83 481.83\n",
      "- Pclass:Sex      2   402.94 484.94\n",
      "- Pclass:Fare     2   403.14 485.14\n",
      "- Parch:Embarked  2   403.81 485.81\n",
      "- Sex:Embarked    2   404.58 486.58\n",
      "- Fare:Embarked   2   413.40 495.40\n",
      "- Age:Embarked    2   414.03 496.03\n"
     ]
    },
    {
     "name": "stderr",
     "output_type": "stream",
     "text": [
      "Warning message:\n",
      "\"glm.fit: fitted probabilities numerically 0 or 1 occurred\"\n"
     ]
    },
    {
     "name": "stdout",
     "output_type": "stream",
     "text": [
      "\n",
      "Step:  AIC=474.81\n",
      "Survived ~ Pclass + Sex + Age + SibSp + Parch + Fare + Embarked + \n",
      "    Master + Pclass:Sex + Pclass:Age + Pclass:SibSp + Pclass:Fare + \n",
      "    Sex:Age + Sex:SibSp + Sex:Parch + Sex:Fare + Sex:Embarked + \n",
      "    Age:SibSp + Age:Parch + Age:Fare + Age:Embarked + Age:Master + \n",
      "    SibSp:Parch + SibSp:Fare + SibSp:Master + Parch:Fare + Parch:Embarked + \n",
      "    Parch:Master + Fare:Embarked + Fare:Master\n",
      "\n"
     ]
    },
    {
     "name": "stderr",
     "output_type": "stream",
     "text": [
      "Warning message:\n",
      "\"glm.fit: fitted probabilities numerically 0 or 1 occurred\"\n",
      "Warning message:\n",
      "\"glm.fit: fitted probabilities numerically 0 or 1 occurred\"\n",
      "Warning message:\n",
      "\"glm.fit: fitted probabilities numerically 0 or 1 occurred\"\n",
      "Warning message:\n",
      "\"glm.fit: fitted probabilities numerically 0 or 1 occurred\"\n",
      "Warning message:\n",
      "\"glm.fit: fitted probabilities numerically 0 or 1 occurred\"\n",
      "Warning message:\n",
      "\"glm.fit: fitted probabilities numerically 0 or 1 occurred\"\n",
      "Warning message:\n",
      "\"glm.fit: fitted probabilities numerically 0 or 1 occurred\"\n",
      "Warning message:\n",
      "\"glm.fit: fitted probabilities numerically 0 or 1 occurred\"\n",
      "Warning message:\n",
      "\"glm.fit: fitted probabilities numerically 0 or 1 occurred\"\n",
      "Warning message:\n",
      "\"glm.fit: fitted probabilities numerically 0 or 1 occurred\"\n",
      "Warning message:\n",
      "\"glm.fit: fitted probabilities numerically 0 or 1 occurred\"\n",
      "Warning message:\n",
      "\"glm.fit: fitted probabilities numerically 0 or 1 occurred\"\n",
      "Warning message:\n",
      "\"glm.fit: fitted probabilities numerically 0 or 1 occurred\"\n",
      "Warning message:\n",
      "\"glm.fit: fitted probabilities numerically 0 or 1 occurred\"\n",
      "Warning message:\n",
      "\"glm.fit: fitted probabilities numerically 0 or 1 occurred\"\n",
      "Warning message:\n",
      "\"glm.fit: fitted probabilities numerically 0 or 1 occurred\"\n",
      "Warning message:\n",
      "\"glm.fit: fitted probabilities numerically 0 or 1 occurred\"\n",
      "Warning message:\n",
      "\"glm.fit: fitted probabilities numerically 0 or 1 occurred\"\n",
      "Warning message:\n",
      "\"glm.fit: fitted probabilities numerically 0 or 1 occurred\"\n",
      "Warning message:\n",
      "\"glm.fit: fitted probabilities numerically 0 or 1 occurred\"\n",
      "Warning message:\n",
      "\"glm.fit: fitted probabilities numerically 0 or 1 occurred\"\n",
      "Warning message:\n",
      "\"glm.fit: fitted probabilities numerically 0 or 1 occurred\"\n"
     ]
    },
    {
     "name": "stdout",
     "output_type": "stream",
     "text": [
      "                 Df Deviance    AIC\n",
      "- Parch:Master    1   392.81 472.81\n",
      "- Age:Master      1   392.81 472.81\n",
      "- Fare:Master     1   392.81 472.81\n",
      "- Sex:SibSp       1   392.83 472.83\n",
      "- Sex:Age         1   392.93 472.93\n",
      "- Parch:Fare      1   392.95 472.95\n",
      "- Age:SibSp       1   393.11 473.11\n",
      "- Sex:Parch       1   393.42 473.42\n",
      "- Pclass:Age      2   395.78 473.78\n",
      "- Sex:Fare        1   394.11 474.11\n",
      "- Age:Parch       1   394.74 474.74\n",
      "<none>                392.81 474.81\n",
      "- SibSp:Master    1   395.88 475.88\n",
      "- SibSp:Parch     1   395.93 475.93\n",
      "- SibSp:Fare      1   396.05 476.05\n",
      "- Age:Fare        1   398.10 478.10\n",
      "- Pclass:SibSp    2   401.34 479.34\n",
      "- Pclass:Fare     2   404.54 482.54\n",
      "- Parch:Embarked  2   404.68 482.68\n",
      "- Sex:Embarked    2   405.73 483.73\n",
      "- Pclass:Sex      2   407.91 485.91\n",
      "- Fare:Embarked   2   415.49 493.49\n",
      "- Age:Embarked    2   415.99 493.99\n"
     ]
    },
    {
     "name": "stderr",
     "output_type": "stream",
     "text": [
      "Warning message:\n",
      "\"glm.fit: fitted probabilities numerically 0 or 1 occurred\"\n"
     ]
    },
    {
     "name": "stdout",
     "output_type": "stream",
     "text": [
      "\n",
      "Step:  AIC=472.81\n",
      "Survived ~ Pclass + Sex + Age + SibSp + Parch + Fare + Embarked + \n",
      "    Master + Pclass:Sex + Pclass:Age + Pclass:SibSp + Pclass:Fare + \n",
      "    Sex:Age + Sex:SibSp + Sex:Parch + Sex:Fare + Sex:Embarked + \n",
      "    Age:SibSp + Age:Parch + Age:Fare + Age:Embarked + Age:Master + \n",
      "    SibSp:Parch + SibSp:Fare + SibSp:Master + Parch:Fare + Parch:Embarked + \n",
      "    Fare:Embarked + Fare:Master\n",
      "\n"
     ]
    },
    {
     "name": "stderr",
     "output_type": "stream",
     "text": [
      "Warning message:\n",
      "\"glm.fit: fitted probabilities numerically 0 or 1 occurred\"\n",
      "Warning message:\n",
      "\"glm.fit: fitted probabilities numerically 0 or 1 occurred\"\n",
      "Warning message:\n",
      "\"glm.fit: fitted probabilities numerically 0 or 1 occurred\"\n",
      "Warning message:\n",
      "\"glm.fit: fitted probabilities numerically 0 or 1 occurred\"\n",
      "Warning message:\n",
      "\"glm.fit: fitted probabilities numerically 0 or 1 occurred\"\n",
      "Warning message:\n",
      "\"glm.fit: fitted probabilities numerically 0 or 1 occurred\"\n",
      "Warning message:\n",
      "\"glm.fit: fitted probabilities numerically 0 or 1 occurred\"\n",
      "Warning message:\n",
      "\"glm.fit: fitted probabilities numerically 0 or 1 occurred\"\n",
      "Warning message:\n",
      "\"glm.fit: fitted probabilities numerically 0 or 1 occurred\"\n",
      "Warning message:\n",
      "\"glm.fit: fitted probabilities numerically 0 or 1 occurred\"\n",
      "Warning message:\n",
      "\"glm.fit: fitted probabilities numerically 0 or 1 occurred\"\n",
      "Warning message:\n",
      "\"glm.fit: fitted probabilities numerically 0 or 1 occurred\"\n",
      "Warning message:\n",
      "\"glm.fit: fitted probabilities numerically 0 or 1 occurred\"\n",
      "Warning message:\n",
      "\"glm.fit: fitted probabilities numerically 0 or 1 occurred\"\n",
      "Warning message:\n",
      "\"glm.fit: fitted probabilities numerically 0 or 1 occurred\"\n",
      "Warning message:\n",
      "\"glm.fit: fitted probabilities numerically 0 or 1 occurred\"\n",
      "Warning message:\n",
      "\"glm.fit: fitted probabilities numerically 0 or 1 occurred\"\n",
      "Warning message:\n",
      "\"glm.fit: fitted probabilities numerically 0 or 1 occurred\"\n",
      "Warning message:\n",
      "\"glm.fit: fitted probabilities numerically 0 or 1 occurred\"\n",
      "Warning message:\n",
      "\"glm.fit: fitted probabilities numerically 0 or 1 occurred\"\n",
      "Warning message:\n",
      "\"glm.fit: fitted probabilities numerically 0 or 1 occurred\"\n"
     ]
    },
    {
     "name": "stdout",
     "output_type": "stream",
     "text": [
      "                 Df Deviance    AIC\n",
      "- Age:Master      1   392.81 470.81\n",
      "- Fare:Master     1   392.81 470.81\n",
      "- Sex:SibSp       1   392.83 470.83\n",
      "- Sex:Age         1   392.93 470.93\n",
      "- Parch:Fare      1   392.95 470.95\n",
      "- Age:SibSp       1   393.11 471.11\n",
      "- Sex:Parch       1   393.42 471.42\n",
      "- Pclass:Age      2   395.78 471.78\n",
      "- Sex:Fare        1   394.11 472.11\n",
      "- Age:Parch       1   394.74 472.74\n",
      "<none>                392.81 472.81\n",
      "- SibSp:Parch     1   395.93 473.93\n",
      "- SibSp:Fare      1   396.05 474.05\n",
      "- SibSp:Master    1   396.74 474.74\n",
      "- Age:Fare        1   398.10 476.10\n",
      "- Pclass:SibSp    2   401.34 477.34\n",
      "- Pclass:Fare     2   404.54 480.54\n",
      "- Parch:Embarked  2   404.68 480.68\n",
      "- Sex:Embarked    2   405.73 481.73\n",
      "- Pclass:Sex      2   407.91 483.91\n",
      "- Fare:Embarked   2   415.49 491.49\n",
      "- Age:Embarked    2   415.99 491.99\n"
     ]
    },
    {
     "name": "stderr",
     "output_type": "stream",
     "text": [
      "Warning message:\n",
      "\"glm.fit: fitted probabilities numerically 0 or 1 occurred\"\n"
     ]
    },
    {
     "name": "stdout",
     "output_type": "stream",
     "text": [
      "\n",
      "Step:  AIC=470.81\n",
      "Survived ~ Pclass + Sex + Age + SibSp + Parch + Fare + Embarked + \n",
      "    Master + Pclass:Sex + Pclass:Age + Pclass:SibSp + Pclass:Fare + \n",
      "    Sex:Age + Sex:SibSp + Sex:Parch + Sex:Fare + Sex:Embarked + \n",
      "    Age:SibSp + Age:Parch + Age:Fare + Age:Embarked + SibSp:Parch + \n",
      "    SibSp:Fare + SibSp:Master + Parch:Fare + Parch:Embarked + \n",
      "    Fare:Embarked + Fare:Master\n",
      "\n"
     ]
    },
    {
     "name": "stderr",
     "output_type": "stream",
     "text": [
      "Warning message:\n",
      "\"glm.fit: fitted probabilities numerically 0 or 1 occurred\"\n",
      "Warning message:\n",
      "\"glm.fit: fitted probabilities numerically 0 or 1 occurred\"\n",
      "Warning message:\n",
      "\"glm.fit: fitted probabilities numerically 0 or 1 occurred\"\n",
      "Warning message:\n",
      "\"glm.fit: fitted probabilities numerically 0 or 1 occurred\"\n",
      "Warning message:\n",
      "\"glm.fit: fitted probabilities numerically 0 or 1 occurred\"\n",
      "Warning message:\n",
      "\"glm.fit: fitted probabilities numerically 0 or 1 occurred\"\n",
      "Warning message:\n",
      "\"glm.fit: fitted probabilities numerically 0 or 1 occurred\"\n",
      "Warning message:\n",
      "\"glm.fit: fitted probabilities numerically 0 or 1 occurred\"\n",
      "Warning message:\n",
      "\"glm.fit: fitted probabilities numerically 0 or 1 occurred\"\n",
      "Warning message:\n",
      "\"glm.fit: fitted probabilities numerically 0 or 1 occurred\"\n",
      "Warning message:\n",
      "\"glm.fit: fitted probabilities numerically 0 or 1 occurred\"\n",
      "Warning message:\n",
      "\"glm.fit: fitted probabilities numerically 0 or 1 occurred\"\n",
      "Warning message:\n",
      "\"glm.fit: fitted probabilities numerically 0 or 1 occurred\"\n",
      "Warning message:\n",
      "\"glm.fit: fitted probabilities numerically 0 or 1 occurred\"\n",
      "Warning message:\n",
      "\"glm.fit: fitted probabilities numerically 0 or 1 occurred\"\n",
      "Warning message:\n",
      "\"glm.fit: fitted probabilities numerically 0 or 1 occurred\"\n",
      "Warning message:\n",
      "\"glm.fit: fitted probabilities numerically 0 or 1 occurred\"\n",
      "Warning message:\n",
      "\"glm.fit: fitted probabilities numerically 0 or 1 occurred\"\n",
      "Warning message:\n",
      "\"glm.fit: fitted probabilities numerically 0 or 1 occurred\"\n",
      "Warning message:\n",
      "\"glm.fit: fitted probabilities numerically 0 or 1 occurred\"\n"
     ]
    },
    {
     "name": "stdout",
     "output_type": "stream",
     "text": [
      "                 Df Deviance    AIC\n",
      "- Fare:Master     1   392.81 468.81\n",
      "- Sex:SibSp       1   392.83 468.83\n",
      "- Sex:Age         1   392.93 468.93\n",
      "- Parch:Fare      1   392.95 468.95\n",
      "- Age:SibSp       1   393.11 469.11\n",
      "- Sex:Parch       1   393.42 469.42\n",
      "- Pclass:Age      2   395.78 469.78\n",
      "- Sex:Fare        1   394.11 470.11\n",
      "- Age:Parch       1   394.74 470.74\n",
      "<none>                392.81 470.81\n",
      "- SibSp:Parch     1   395.93 471.93\n",
      "- SibSp:Fare      1   396.05 472.05\n",
      "- SibSp:Master    1   396.78 472.78\n",
      "- Age:Fare        1   398.10 474.10\n",
      "- Pclass:SibSp    2   401.34 475.34\n",
      "- Pclass:Fare     2   404.54 478.54\n",
      "- Parch:Embarked  2   404.68 478.68\n",
      "- Sex:Embarked    2   405.73 479.73\n",
      "- Pclass:Sex      2   407.91 481.91\n",
      "- Fare:Embarked   2   415.49 489.49\n",
      "- Age:Embarked    2   415.99 489.99\n"
     ]
    },
    {
     "name": "stderr",
     "output_type": "stream",
     "text": [
      "Warning message:\n",
      "\"glm.fit: fitted probabilities numerically 0 or 1 occurred\"\n"
     ]
    },
    {
     "name": "stdout",
     "output_type": "stream",
     "text": [
      "\n",
      "Step:  AIC=468.81\n",
      "Survived ~ Pclass + Sex + Age + SibSp + Parch + Fare + Embarked + \n",
      "    Master + Pclass:Sex + Pclass:Age + Pclass:SibSp + Pclass:Fare + \n",
      "    Sex:Age + Sex:SibSp + Sex:Parch + Sex:Fare + Sex:Embarked + \n",
      "    Age:SibSp + Age:Parch + Age:Fare + Age:Embarked + SibSp:Parch + \n",
      "    SibSp:Fare + SibSp:Master + Parch:Fare + Parch:Embarked + \n",
      "    Fare:Embarked\n",
      "\n"
     ]
    },
    {
     "name": "stderr",
     "output_type": "stream",
     "text": [
      "Warning message:\n",
      "\"glm.fit: fitted probabilities numerically 0 or 1 occurred\"\n",
      "Warning message:\n",
      "\"glm.fit: fitted probabilities numerically 0 or 1 occurred\"\n",
      "Warning message:\n",
      "\"glm.fit: fitted probabilities numerically 0 or 1 occurred\"\n",
      "Warning message:\n",
      "\"glm.fit: fitted probabilities numerically 0 or 1 occurred\"\n",
      "Warning message:\n",
      "\"glm.fit: fitted probabilities numerically 0 or 1 occurred\"\n",
      "Warning message:\n",
      "\"glm.fit: fitted probabilities numerically 0 or 1 occurred\"\n",
      "Warning message:\n",
      "\"glm.fit: fitted probabilities numerically 0 or 1 occurred\"\n",
      "Warning message:\n",
      "\"glm.fit: fitted probabilities numerically 0 or 1 occurred\"\n",
      "Warning message:\n",
      "\"glm.fit: fitted probabilities numerically 0 or 1 occurred\"\n",
      "Warning message:\n",
      "\"glm.fit: fitted probabilities numerically 0 or 1 occurred\"\n",
      "Warning message:\n",
      "\"glm.fit: fitted probabilities numerically 0 or 1 occurred\"\n",
      "Warning message:\n",
      "\"glm.fit: fitted probabilities numerically 0 or 1 occurred\"\n",
      "Warning message:\n",
      "\"glm.fit: fitted probabilities numerically 0 or 1 occurred\"\n",
      "Warning message:\n",
      "\"glm.fit: fitted probabilities numerically 0 or 1 occurred\"\n",
      "Warning message:\n",
      "\"glm.fit: fitted probabilities numerically 0 or 1 occurred\"\n",
      "Warning message:\n",
      "\"glm.fit: fitted probabilities numerically 0 or 1 occurred\"\n",
      "Warning message:\n",
      "\"glm.fit: fitted probabilities numerically 0 or 1 occurred\"\n",
      "Warning message:\n",
      "\"glm.fit: fitted probabilities numerically 0 or 1 occurred\"\n",
      "Warning message:\n",
      "\"glm.fit: fitted probabilities numerically 0 or 1 occurred\"\n"
     ]
    },
    {
     "name": "stdout",
     "output_type": "stream",
     "text": [
      "                 Df Deviance    AIC\n",
      "- Sex:SibSp       1   392.83 466.83\n",
      "- Sex:Age         1   392.93 466.93\n",
      "- Parch:Fare      1   392.95 466.95\n",
      "- Age:SibSp       1   393.11 467.11\n",
      "- Sex:Parch       1   393.42 467.42\n",
      "- Pclass:Age      2   395.78 467.78\n",
      "- Sex:Fare        1   394.11 468.11\n",
      "- Age:Parch       1   394.74 468.74\n",
      "<none>                392.81 468.81\n",
      "- SibSp:Parch     1   395.93 469.93\n",
      "- SibSp:Fare      1   396.05 470.05\n",
      "- SibSp:Master    1   397.11 471.11\n",
      "- Age:Fare        1   398.10 472.10\n",
      "- Pclass:SibSp    2   401.34 473.34\n",
      "- Pclass:Fare     2   404.54 476.54\n",
      "- Parch:Embarked  2   404.68 476.68\n",
      "- Sex:Embarked    2   405.73 477.73\n",
      "- Pclass:Sex      2   407.91 479.91\n",
      "- Fare:Embarked   2   415.49 487.49\n",
      "- Age:Embarked    2   415.99 487.99\n"
     ]
    },
    {
     "name": "stderr",
     "output_type": "stream",
     "text": [
      "Warning message:\n",
      "\"glm.fit: fitted probabilities numerically 0 or 1 occurred\"\n"
     ]
    },
    {
     "name": "stdout",
     "output_type": "stream",
     "text": [
      "\n",
      "Step:  AIC=466.83\n",
      "Survived ~ Pclass + Sex + Age + SibSp + Parch + Fare + Embarked + \n",
      "    Master + Pclass:Sex + Pclass:Age + Pclass:SibSp + Pclass:Fare + \n",
      "    Sex:Age + Sex:Parch + Sex:Fare + Sex:Embarked + Age:SibSp + \n",
      "    Age:Parch + Age:Fare + Age:Embarked + SibSp:Parch + SibSp:Fare + \n",
      "    SibSp:Master + Parch:Fare + Parch:Embarked + Fare:Embarked\n",
      "\n"
     ]
    },
    {
     "name": "stderr",
     "output_type": "stream",
     "text": [
      "Warning message:\n",
      "\"glm.fit: fitted probabilities numerically 0 or 1 occurred\"\n",
      "Warning message:\n",
      "\"glm.fit: fitted probabilities numerically 0 or 1 occurred\"\n",
      "Warning message:\n",
      "\"glm.fit: fitted probabilities numerically 0 or 1 occurred\"\n",
      "Warning message:\n",
      "\"glm.fit: fitted probabilities numerically 0 or 1 occurred\"\n",
      "Warning message:\n",
      "\"glm.fit: fitted probabilities numerically 0 or 1 occurred\"\n",
      "Warning message:\n",
      "\"glm.fit: fitted probabilities numerically 0 or 1 occurred\"\n",
      "Warning message:\n",
      "\"glm.fit: fitted probabilities numerically 0 or 1 occurred\"\n",
      "Warning message:\n",
      "\"glm.fit: fitted probabilities numerically 0 or 1 occurred\"\n",
      "Warning message:\n",
      "\"glm.fit: fitted probabilities numerically 0 or 1 occurred\"\n",
      "Warning message:\n",
      "\"glm.fit: fitted probabilities numerically 0 or 1 occurred\"\n",
      "Warning message:\n",
      "\"glm.fit: fitted probabilities numerically 0 or 1 occurred\"\n",
      "Warning message:\n",
      "\"glm.fit: fitted probabilities numerically 0 or 1 occurred\"\n",
      "Warning message:\n",
      "\"glm.fit: fitted probabilities numerically 0 or 1 occurred\"\n",
      "Warning message:\n",
      "\"glm.fit: fitted probabilities numerically 0 or 1 occurred\"\n",
      "Warning message:\n",
      "\"glm.fit: fitted probabilities numerically 0 or 1 occurred\"\n",
      "Warning message:\n",
      "\"glm.fit: fitted probabilities numerically 0 or 1 occurred\"\n",
      "Warning message:\n",
      "\"glm.fit: fitted probabilities numerically 0 or 1 occurred\"\n",
      "Warning message:\n",
      "\"glm.fit: fitted probabilities numerically 0 or 1 occurred\"\n"
     ]
    },
    {
     "name": "stdout",
     "output_type": "stream",
     "text": [
      "                 Df Deviance    AIC\n",
      "- Sex:Age         1   392.96 464.96\n",
      "- Parch:Fare      1   392.99 464.99\n",
      "- Age:SibSp       1   393.11 465.11\n",
      "- Sex:Parch       1   393.59 465.59\n",
      "- Pclass:Age      2   395.80 465.80\n",
      "- Sex:Fare        1   394.18 466.18\n",
      "- Age:Parch       1   394.74 466.74\n",
      "<none>                392.83 466.83\n",
      "- SibSp:Fare      1   396.05 468.05\n",
      "- SibSp:Parch     1   396.45 468.45\n",
      "- Age:Fare        1   398.10 470.10\n",
      "- Pclass:SibSp    2   401.67 471.67\n",
      "- SibSp:Master    1   401.30 473.30\n",
      "- Pclass:Fare     2   404.60 474.60\n",
      "- Parch:Embarked  2   404.72 474.72\n",
      "- Sex:Embarked    2   405.75 475.75\n",
      "- Pclass:Sex      2   408.45 478.45\n",
      "- Fare:Embarked   2   415.56 485.56\n",
      "- Age:Embarked    2   416.24 486.24\n"
     ]
    },
    {
     "name": "stderr",
     "output_type": "stream",
     "text": [
      "Warning message:\n",
      "\"glm.fit: fitted probabilities numerically 0 or 1 occurred\"\n"
     ]
    },
    {
     "name": "stdout",
     "output_type": "stream",
     "text": [
      "\n",
      "Step:  AIC=464.96\n",
      "Survived ~ Pclass + Sex + Age + SibSp + Parch + Fare + Embarked + \n",
      "    Master + Pclass:Sex + Pclass:Age + Pclass:SibSp + Pclass:Fare + \n",
      "    Sex:Parch + Sex:Fare + Sex:Embarked + Age:SibSp + Age:Parch + \n",
      "    Age:Fare + Age:Embarked + SibSp:Parch + SibSp:Fare + SibSp:Master + \n",
      "    Parch:Fare + Parch:Embarked + Fare:Embarked\n",
      "\n"
     ]
    },
    {
     "name": "stderr",
     "output_type": "stream",
     "text": [
      "Warning message:\n",
      "\"glm.fit: fitted probabilities numerically 0 or 1 occurred\"\n",
      "Warning message:\n",
      "\"glm.fit: fitted probabilities numerically 0 or 1 occurred\"\n",
      "Warning message:\n",
      "\"glm.fit: fitted probabilities numerically 0 or 1 occurred\"\n",
      "Warning message:\n",
      "\"glm.fit: fitted probabilities numerically 0 or 1 occurred\"\n",
      "Warning message:\n",
      "\"glm.fit: fitted probabilities numerically 0 or 1 occurred\"\n",
      "Warning message:\n",
      "\"glm.fit: fitted probabilities numerically 0 or 1 occurred\"\n",
      "Warning message:\n",
      "\"glm.fit: fitted probabilities numerically 0 or 1 occurred\"\n",
      "Warning message:\n",
      "\"glm.fit: fitted probabilities numerically 0 or 1 occurred\"\n",
      "Warning message:\n",
      "\"glm.fit: fitted probabilities numerically 0 or 1 occurred\"\n",
      "Warning message:\n",
      "\"glm.fit: fitted probabilities numerically 0 or 1 occurred\"\n",
      "Warning message:\n",
      "\"glm.fit: fitted probabilities numerically 0 or 1 occurred\"\n",
      "Warning message:\n",
      "\"glm.fit: fitted probabilities numerically 0 or 1 occurred\"\n",
      "Warning message:\n",
      "\"glm.fit: fitted probabilities numerically 0 or 1 occurred\"\n",
      "Warning message:\n",
      "\"glm.fit: fitted probabilities numerically 0 or 1 occurred\"\n",
      "Warning message:\n",
      "\"glm.fit: fitted probabilities numerically 0 or 1 occurred\"\n",
      "Warning message:\n",
      "\"glm.fit: fitted probabilities numerically 0 or 1 occurred\"\n",
      "Warning message:\n",
      "\"glm.fit: fitted probabilities numerically 0 or 1 occurred\"\n"
     ]
    },
    {
     "name": "stdout",
     "output_type": "stream",
     "text": [
      "                 Df Deviance    AIC\n",
      "- Parch:Fare      1   393.12 463.12\n",
      "- Age:SibSp       1   393.19 463.19\n",
      "- Sex:Parch       1   393.66 463.66\n",
      "- Pclass:Age      2   395.83 463.83\n",
      "- Sex:Fare        1   394.63 464.63\n",
      "<none>                392.96 464.96\n",
      "- Age:Parch       1   395.67 465.67\n",
      "- SibSp:Fare      1   396.34 466.34\n",
      "- SibSp:Parch     1   396.53 466.53\n",
      "- Age:Fare        1   398.25 468.25\n",
      "- Pclass:SibSp    2   402.27 470.27\n",
      "- SibSp:Master    1   401.64 471.64\n",
      "- Pclass:Fare     2   404.68 472.68\n",
      "- Parch:Embarked  2   404.75 472.75\n",
      "- Sex:Embarked    2   405.85 473.85\n",
      "- Pclass:Sex      2   408.76 476.76\n",
      "- Fare:Embarked   2   415.72 483.72\n",
      "- Age:Embarked    2   416.43 484.43\n"
     ]
    },
    {
     "name": "stderr",
     "output_type": "stream",
     "text": [
      "Warning message:\n",
      "\"glm.fit: fitted probabilities numerically 0 or 1 occurred\"\n"
     ]
    },
    {
     "name": "stdout",
     "output_type": "stream",
     "text": [
      "\n",
      "Step:  AIC=463.12\n",
      "Survived ~ Pclass + Sex + Age + SibSp + Parch + Fare + Embarked + \n",
      "    Master + Pclass:Sex + Pclass:Age + Pclass:SibSp + Pclass:Fare + \n",
      "    Sex:Parch + Sex:Fare + Sex:Embarked + Age:SibSp + Age:Parch + \n",
      "    Age:Fare + Age:Embarked + SibSp:Parch + SibSp:Fare + SibSp:Master + \n",
      "    Parch:Embarked + Fare:Embarked\n",
      "\n"
     ]
    },
    {
     "name": "stderr",
     "output_type": "stream",
     "text": [
      "Warning message:\n",
      "\"glm.fit: fitted probabilities numerically 0 or 1 occurred\"\n",
      "Warning message:\n",
      "\"glm.fit: fitted probabilities numerically 0 or 1 occurred\"\n",
      "Warning message:\n",
      "\"glm.fit: fitted probabilities numerically 0 or 1 occurred\"\n",
      "Warning message:\n",
      "\"glm.fit: fitted probabilities numerically 0 or 1 occurred\"\n",
      "Warning message:\n",
      "\"glm.fit: fitted probabilities numerically 0 or 1 occurred\"\n",
      "Warning message:\n",
      "\"glm.fit: fitted probabilities numerically 0 or 1 occurred\"\n",
      "Warning message:\n",
      "\"glm.fit: fitted probabilities numerically 0 or 1 occurred\"\n",
      "Warning message:\n",
      "\"glm.fit: fitted probabilities numerically 0 or 1 occurred\"\n",
      "Warning message:\n",
      "\"glm.fit: fitted probabilities numerically 0 or 1 occurred\"\n",
      "Warning message:\n",
      "\"glm.fit: fitted probabilities numerically 0 or 1 occurred\"\n",
      "Warning message:\n",
      "\"glm.fit: fitted probabilities numerically 0 or 1 occurred\"\n",
      "Warning message:\n",
      "\"glm.fit: fitted probabilities numerically 0 or 1 occurred\"\n",
      "Warning message:\n",
      "\"glm.fit: fitted probabilities numerically 0 or 1 occurred\"\n",
      "Warning message:\n",
      "\"glm.fit: fitted probabilities numerically 0 or 1 occurred\"\n",
      "Warning message:\n",
      "\"glm.fit: fitted probabilities numerically 0 or 1 occurred\"\n",
      "Warning message:\n",
      "\"glm.fit: fitted probabilities numerically 0 or 1 occurred\"\n"
     ]
    },
    {
     "name": "stdout",
     "output_type": "stream",
     "text": [
      "                 Df Deviance    AIC\n",
      "- Age:SibSp       1   393.31 461.31\n",
      "- Sex:Parch       1   393.67 461.67\n",
      "- Pclass:Age      2   395.90 461.90\n",
      "- Sex:Fare        1   394.83 462.83\n",
      "<none>                393.12 463.12\n",
      "- Age:Parch       1   395.68 463.68\n",
      "- SibSp:Fare      1   396.37 464.37\n",
      "- SibSp:Parch     1   396.67 464.67\n",
      "- Age:Fare        1   398.25 466.25\n",
      "- Pclass:SibSp    2   402.30 468.30\n",
      "- SibSp:Master    1   402.35 470.35\n",
      "- Pclass:Fare     2   404.71 470.71\n",
      "- Parch:Embarked  2   405.04 471.04\n",
      "- Sex:Embarked    2   406.04 472.04\n",
      "- Pclass:Sex      2   408.84 474.84\n",
      "- Fare:Embarked   2   416.24 482.24\n",
      "- Age:Embarked    2   416.74 482.74\n"
     ]
    },
    {
     "name": "stderr",
     "output_type": "stream",
     "text": [
      "Warning message:\n",
      "\"glm.fit: fitted probabilities numerically 0 or 1 occurred\"\n"
     ]
    },
    {
     "name": "stdout",
     "output_type": "stream",
     "text": [
      "\n",
      "Step:  AIC=461.31\n",
      "Survived ~ Pclass + Sex + Age + SibSp + Parch + Fare + Embarked + \n",
      "    Master + Pclass:Sex + Pclass:Age + Pclass:SibSp + Pclass:Fare + \n",
      "    Sex:Parch + Sex:Fare + Sex:Embarked + Age:Parch + Age:Fare + \n",
      "    Age:Embarked + SibSp:Parch + SibSp:Fare + SibSp:Master + \n",
      "    Parch:Embarked + Fare:Embarked\n",
      "\n"
     ]
    },
    {
     "name": "stderr",
     "output_type": "stream",
     "text": [
      "Warning message:\n",
      "\"glm.fit: fitted probabilities numerically 0 or 1 occurred\"\n",
      "Warning message:\n",
      "\"glm.fit: fitted probabilities numerically 0 or 1 occurred\"\n",
      "Warning message:\n",
      "\"glm.fit: fitted probabilities numerically 0 or 1 occurred\"\n",
      "Warning message:\n",
      "\"glm.fit: fitted probabilities numerically 0 or 1 occurred\"\n",
      "Warning message:\n",
      "\"glm.fit: fitted probabilities numerically 0 or 1 occurred\"\n",
      "Warning message:\n",
      "\"glm.fit: fitted probabilities numerically 0 or 1 occurred\"\n",
      "Warning message:\n",
      "\"glm.fit: fitted probabilities numerically 0 or 1 occurred\"\n",
      "Warning message:\n",
      "\"glm.fit: fitted probabilities numerically 0 or 1 occurred\"\n",
      "Warning message:\n",
      "\"glm.fit: fitted probabilities numerically 0 or 1 occurred\"\n",
      "Warning message:\n",
      "\"glm.fit: fitted probabilities numerically 0 or 1 occurred\"\n",
      "Warning message:\n",
      "\"glm.fit: fitted probabilities numerically 0 or 1 occurred\"\n",
      "Warning message:\n",
      "\"glm.fit: fitted probabilities numerically 0 or 1 occurred\"\n",
      "Warning message:\n",
      "\"glm.fit: fitted probabilities numerically 0 or 1 occurred\"\n",
      "Warning message:\n",
      "\"glm.fit: fitted probabilities numerically 0 or 1 occurred\"\n",
      "Warning message:\n",
      "\"glm.fit: fitted probabilities numerically 0 or 1 occurred\"\n"
     ]
    },
    {
     "name": "stdout",
     "output_type": "stream",
     "text": [
      "                 Df Deviance    AIC\n",
      "- Sex:Parch       1   393.80 459.80\n",
      "- Pclass:Age      2   396.19 460.19\n",
      "- Sex:Fare        1   395.10 461.10\n",
      "<none>                393.31 461.31\n",
      "- Age:Parch       1   395.68 461.68\n",
      "- SibSp:Fare      1   396.67 462.67\n",
      "- SibSp:Parch     1   396.68 462.68\n",
      "- Age:Fare        1   398.98 464.98\n",
      "- SibSp:Master    1   403.04 469.04\n",
      "- Pclass:Fare     2   405.21 469.21\n",
      "- Parch:Embarked  2   405.35 469.35\n",
      "- Sex:Embarked    2   406.32 470.32\n",
      "- Pclass:SibSp    2   407.42 471.42\n",
      "- Pclass:Sex      2   408.84 472.84\n",
      "- Fare:Embarked   2   416.91 480.91\n",
      "- Age:Embarked    2   417.34 481.34\n"
     ]
    },
    {
     "name": "stderr",
     "output_type": "stream",
     "text": [
      "Warning message:\n",
      "\"glm.fit: fitted probabilities numerically 0 or 1 occurred\"\n"
     ]
    },
    {
     "name": "stdout",
     "output_type": "stream",
     "text": [
      "\n",
      "Step:  AIC=459.8\n",
      "Survived ~ Pclass + Sex + Age + SibSp + Parch + Fare + Embarked + \n",
      "    Master + Pclass:Sex + Pclass:Age + Pclass:SibSp + Pclass:Fare + \n",
      "    Sex:Fare + Sex:Embarked + Age:Parch + Age:Fare + Age:Embarked + \n",
      "    SibSp:Parch + SibSp:Fare + SibSp:Master + Parch:Embarked + \n",
      "    Fare:Embarked\n",
      "\n"
     ]
    },
    {
     "name": "stderr",
     "output_type": "stream",
     "text": [
      "Warning message:\n",
      "\"glm.fit: fitted probabilities numerically 0 or 1 occurred\"\n",
      "Warning message:\n",
      "\"glm.fit: fitted probabilities numerically 0 or 1 occurred\"\n",
      "Warning message:\n",
      "\"glm.fit: fitted probabilities numerically 0 or 1 occurred\"\n",
      "Warning message:\n",
      "\"glm.fit: fitted probabilities numerically 0 or 1 occurred\"\n",
      "Warning message:\n",
      "\"glm.fit: fitted probabilities numerically 0 or 1 occurred\"\n",
      "Warning message:\n",
      "\"glm.fit: fitted probabilities numerically 0 or 1 occurred\"\n",
      "Warning message:\n",
      "\"glm.fit: fitted probabilities numerically 0 or 1 occurred\"\n",
      "Warning message:\n",
      "\"glm.fit: fitted probabilities numerically 0 or 1 occurred\"\n",
      "Warning message:\n",
      "\"glm.fit: fitted probabilities numerically 0 or 1 occurred\"\n",
      "Warning message:\n",
      "\"glm.fit: fitted probabilities numerically 0 or 1 occurred\"\n",
      "Warning message:\n",
      "\"glm.fit: fitted probabilities numerically 0 or 1 occurred\"\n",
      "Warning message:\n",
      "\"glm.fit: fitted probabilities numerically 0 or 1 occurred\"\n",
      "Warning message:\n",
      "\"glm.fit: fitted probabilities numerically 0 or 1 occurred\"\n",
      "Warning message:\n",
      "\"glm.fit: fitted probabilities numerically 0 or 1 occurred\"\n"
     ]
    },
    {
     "name": "stdout",
     "output_type": "stream",
     "text": [
      "                 Df Deviance    AIC\n",
      "- Pclass:Age      2   396.99 458.99\n",
      "<none>                393.80 459.80\n",
      "- Sex:Fare        1   396.33 460.33\n",
      "- Age:Parch       1   396.90 460.90\n",
      "- SibSp:Parch     1   397.23 461.23\n",
      "- SibSp:Fare      1   397.28 461.28\n",
      "- Age:Fare        1   399.96 463.96\n",
      "- Parch:Embarked  2   405.49 467.49\n",
      "- SibSp:Master    1   404.14 468.14\n",
      "- Sex:Embarked    2   406.63 468.63\n",
      "- Pclass:Fare     2   406.90 468.90\n",
      "- Pclass:SibSp    2   408.37 470.37\n",
      "- Pclass:Sex      2   409.09 471.09\n",
      "- Fare:Embarked   2   417.77 479.77\n",
      "- Age:Embarked    2   418.11 480.11\n"
     ]
    },
    {
     "name": "stderr",
     "output_type": "stream",
     "text": [
      "Warning message:\n",
      "\"glm.fit: fitted probabilities numerically 0 or 1 occurred\"\n"
     ]
    },
    {
     "name": "stdout",
     "output_type": "stream",
     "text": [
      "\n",
      "Step:  AIC=458.99\n",
      "Survived ~ Pclass + Sex + Age + SibSp + Parch + Fare + Embarked + \n",
      "    Master + Pclass:Sex + Pclass:SibSp + Pclass:Fare + Sex:Fare + \n",
      "    Sex:Embarked + Age:Parch + Age:Fare + Age:Embarked + SibSp:Parch + \n",
      "    SibSp:Fare + SibSp:Master + Parch:Embarked + Fare:Embarked\n",
      "\n"
     ]
    },
    {
     "name": "stderr",
     "output_type": "stream",
     "text": [
      "Warning message:\n",
      "\"glm.fit: fitted probabilities numerically 0 or 1 occurred\"\n",
      "Warning message:\n",
      "\"glm.fit: fitted probabilities numerically 0 or 1 occurred\"\n",
      "Warning message:\n",
      "\"glm.fit: fitted probabilities numerically 0 or 1 occurred\"\n",
      "Warning message:\n",
      "\"glm.fit: fitted probabilities numerically 0 or 1 occurred\"\n",
      "Warning message:\n",
      "\"glm.fit: fitted probabilities numerically 0 or 1 occurred\"\n",
      "Warning message:\n",
      "\"glm.fit: fitted probabilities numerically 0 or 1 occurred\"\n",
      "Warning message:\n",
      "\"glm.fit: fitted probabilities numerically 0 or 1 occurred\"\n",
      "Warning message:\n",
      "\"glm.fit: fitted probabilities numerically 0 or 1 occurred\"\n",
      "Warning message:\n",
      "\"glm.fit: fitted probabilities numerically 0 or 1 occurred\"\n",
      "Warning message:\n",
      "\"glm.fit: fitted probabilities numerically 0 or 1 occurred\"\n",
      "Warning message:\n",
      "\"glm.fit: fitted probabilities numerically 0 or 1 occurred\"\n",
      "Warning message:\n",
      "\"glm.fit: fitted probabilities numerically 0 or 1 occurred\"\n",
      "Warning message:\n",
      "\"glm.fit: fitted probabilities numerically 0 or 1 occurred\"\n"
     ]
    },
    {
     "name": "stdout",
     "output_type": "stream",
     "text": [
      "                 Df Deviance    AIC\n",
      "- Sex:Fare        1   398.53 458.53\n",
      "<none>                396.99 458.99\n",
      "- Age:Parch       1   399.05 459.05\n",
      "- SibSp:Parch     1   400.28 460.28\n",
      "- SibSp:Fare      1   400.57 460.57\n",
      "- Age:Fare        1   401.05 461.05\n",
      "- SibSp:Master    1   406.26 466.26\n",
      "- Parch:Embarked  2   408.69 466.69\n",
      "- Pclass:Fare     2   408.76 466.76\n",
      "- Sex:Embarked    2   409.77 467.77\n",
      "- Pclass:Sex      2   412.16 470.16\n",
      "- Pclass:SibSp    2   413.50 471.50\n",
      "- Fare:Embarked   2   420.51 478.51\n",
      "- Age:Embarked    2   421.23 479.23\n"
     ]
    },
    {
     "name": "stderr",
     "output_type": "stream",
     "text": [
      "Warning message:\n",
      "\"glm.fit: fitted probabilities numerically 0 or 1 occurred\"\n"
     ]
    },
    {
     "name": "stdout",
     "output_type": "stream",
     "text": [
      "\n",
      "Step:  AIC=458.53\n",
      "Survived ~ Pclass + Sex + Age + SibSp + Parch + Fare + Embarked + \n",
      "    Master + Pclass:Sex + Pclass:SibSp + Pclass:Fare + Sex:Embarked + \n",
      "    Age:Parch + Age:Fare + Age:Embarked + SibSp:Parch + SibSp:Fare + \n",
      "    SibSp:Master + Parch:Embarked + Fare:Embarked\n",
      "\n"
     ]
    },
    {
     "name": "stderr",
     "output_type": "stream",
     "text": [
      "Warning message:\n",
      "\"glm.fit: fitted probabilities numerically 0 or 1 occurred\"\n",
      "Warning message:\n",
      "\"glm.fit: fitted probabilities numerically 0 or 1 occurred\"\n",
      "Warning message:\n",
      "\"glm.fit: fitted probabilities numerically 0 or 1 occurred\"\n",
      "Warning message:\n",
      "\"glm.fit: fitted probabilities numerically 0 or 1 occurred\"\n",
      "Warning message:\n",
      "\"glm.fit: fitted probabilities numerically 0 or 1 occurred\"\n",
      "Warning message:\n",
      "\"glm.fit: fitted probabilities numerically 0 or 1 occurred\"\n",
      "Warning message:\n",
      "\"glm.fit: fitted probabilities numerically 0 or 1 occurred\"\n",
      "Warning message:\n",
      "\"glm.fit: fitted probabilities numerically 0 or 1 occurred\"\n",
      "Warning message:\n",
      "\"glm.fit: fitted probabilities numerically 0 or 1 occurred\"\n",
      "Warning message:\n",
      "\"glm.fit: fitted probabilities numerically 0 or 1 occurred\"\n",
      "Warning message:\n",
      "\"glm.fit: fitted probabilities numerically 0 or 1 occurred\"\n",
      "Warning message:\n",
      "\"glm.fit: fitted probabilities numerically 0 or 1 occurred\"\n"
     ]
    },
    {
     "name": "stdout",
     "output_type": "stream",
     "text": [
      "                 Df Deviance    AIC\n",
      "- Age:Parch       1   400.30 458.30\n",
      "<none>                398.53 458.53\n",
      "- SibSp:Fare      1   401.06 459.06\n",
      "- SibSp:Parch     1   401.53 459.53\n",
      "- Age:Fare        1   401.65 459.65\n",
      "- Pclass:Fare     2   409.54 465.54\n",
      "- Parch:Embarked  2   410.07 466.07\n",
      "- SibSp:Master    1   408.25 466.25\n",
      "- Sex:Embarked    2   411.05 467.05\n",
      "- Pclass:SibSp    2   413.75 469.75\n",
      "- Pclass:Sex      2   418.58 474.58\n",
      "- Fare:Embarked   2   421.48 477.48\n",
      "- Age:Embarked    2   422.02 478.02\n"
     ]
    },
    {
     "name": "stderr",
     "output_type": "stream",
     "text": [
      "Warning message:\n",
      "\"glm.fit: fitted probabilities numerically 0 or 1 occurred\"\n"
     ]
    },
    {
     "name": "stdout",
     "output_type": "stream",
     "text": [
      "\n",
      "Step:  AIC=458.3\n",
      "Survived ~ Pclass + Sex + Age + SibSp + Parch + Fare + Embarked + \n",
      "    Master + Pclass:Sex + Pclass:SibSp + Pclass:Fare + Sex:Embarked + \n",
      "    Age:Fare + Age:Embarked + SibSp:Parch + SibSp:Fare + SibSp:Master + \n",
      "    Parch:Embarked + Fare:Embarked\n",
      "\n"
     ]
    },
    {
     "name": "stderr",
     "output_type": "stream",
     "text": [
      "Warning message:\n",
      "\"glm.fit: fitted probabilities numerically 0 or 1 occurred\"\n",
      "Warning message:\n",
      "\"glm.fit: fitted probabilities numerically 0 or 1 occurred\"\n",
      "Warning message:\n",
      "\"glm.fit: fitted probabilities numerically 0 or 1 occurred\"\n",
      "Warning message:\n",
      "\"glm.fit: fitted probabilities numerically 0 or 1 occurred\"\n",
      "Warning message:\n",
      "\"glm.fit: fitted probabilities numerically 0 or 1 occurred\"\n",
      "Warning message:\n",
      "\"glm.fit: fitted probabilities numerically 0 or 1 occurred\"\n",
      "Warning message:\n",
      "\"glm.fit: fitted probabilities numerically 0 or 1 occurred\"\n",
      "Warning message:\n",
      "\"glm.fit: fitted probabilities numerically 0 or 1 occurred\"\n",
      "Warning message:\n",
      "\"glm.fit: fitted probabilities numerically 0 or 1 occurred\"\n",
      "Warning message:\n",
      "\"glm.fit: fitted probabilities numerically 0 or 1 occurred\"\n",
      "Warning message:\n",
      "\"glm.fit: fitted probabilities numerically 0 or 1 occurred\"\n"
     ]
    },
    {
     "name": "stdout",
     "output_type": "stream",
     "text": [
      "                 Df Deviance    AIC\n",
      "<none>                400.30 458.30\n",
      "- Age:Fare        1   402.66 458.66\n",
      "- SibSp:Fare      1   402.99 458.99\n",
      "- SibSp:Parch     1   403.74 459.74\n",
      "- Pclass:Fare     2   411.36 465.36\n",
      "- Parch:Embarked  2   412.62 466.62\n",
      "- SibSp:Master    1   410.68 466.68\n",
      "- Sex:Embarked    2   412.70 466.70\n",
      "- Pclass:SibSp    2   415.08 469.08\n",
      "- Pclass:Sex      2   420.71 474.71\n",
      "- Fare:Embarked   2   422.66 476.66\n",
      "- Age:Embarked    2   423.04 477.04\n"
     ]
    }
   ],
   "source": [
    "### Regression logistique avec interaction\n",
    "log.lm1=glm(Survived~.^2,data=datappr,family=binomial)\n",
    "anova(log.lm1,test=\"Chisq\")\n",
    "log.lm.step1=step(log.lm1,direction=\"backward\")"
   ]
  },
  {
   "cell_type": "code",
   "execution_count": 70,
   "metadata": {},
   "outputs": [
    {
     "data": {
      "text/plain": [
       "\n",
       "Call:\n",
       "glm(formula = Survived ~ Pclass + Sex + Age + SibSp + Parch + \n",
       "    Fare + Embarked + Master + Pclass:Sex + Pclass:SibSp + Pclass:Fare + \n",
       "    Sex:Embarked + Age:Fare + Age:Embarked + SibSp:Parch + SibSp:Fare + \n",
       "    SibSp:Master + Parch:Embarked + Fare:Embarked, family = binomial, \n",
       "    data = datappr)\n",
       "\n",
       "Deviance Residuals: \n",
       "    Min       1Q   Median       3Q      Max  \n",
       "-2.6871  -0.4954  -0.3082   0.2383   2.5178  \n",
       "\n",
       "Coefficients:\n",
       "                        Estimate Std. Error z value Pr(>|z|)    \n",
       "(Intercept)            6.494e+00  1.512e+00   4.294 1.76e-05 ***\n",
       "Pclassclass 2         -7.986e-01  1.467e+00  -0.544 0.586226    \n",
       "Pclassclass 3         -4.698e+00  1.178e+00  -3.988 6.66e-05 ***\n",
       "Sexmale               -4.157e+00  1.020e+00  -4.074 4.61e-05 ***\n",
       "Age                   -9.178e-02  3.268e-02  -2.809 0.004972 ** \n",
       "SibSp                  1.979e+00  8.028e-01   2.466 0.013679 *  \n",
       "Parch                 -2.530e-02  4.280e-01  -0.059 0.952864    \n",
       "Fare                  -1.637e-02  1.216e-02  -1.346 0.178256    \n",
       "EmbarkedQ             -4.369e+01  3.552e+01  -1.230 0.218598    \n",
       "EmbarkedS             -1.286e+00  8.323e-01  -1.545 0.122378    \n",
       "MasterTRUE             7.678e+01  5.424e+03   0.014 0.988707    \n",
       "Pclassclass 2:Sexmale -8.904e-01  1.322e+00  -0.673 0.500720    \n",
       "Pclassclass 3:Sexmale  2.419e+00  1.065e+00   2.271 0.023141 *  \n",
       "Pclassclass 2:SibSp   -1.651e+00  1.106e+00  -1.492 0.135734    \n",
       "Pclassclass 3:SibSp   -3.041e+00  8.642e-01  -3.519 0.000434 ***\n",
       "Pclassclass 2:Fare     2.072e-03  3.241e-02   0.064 0.949024    \n",
       "Pclassclass 3:Fare     6.432e-02  1.931e-02   3.331 0.000864 ***\n",
       "Sexmale:EmbarkedQ     -1.685e+02  9.865e+01  -1.708 0.087546 .  \n",
       "Sexmale:EmbarkedS     -5.748e-01  8.224e-01  -0.699 0.484618    \n",
       "Age:Fare               5.221e-04  3.438e-04   1.519 0.128841    \n",
       "Age:EmbarkedQ         -2.129e+00  9.907e-01  -2.149 0.031632 *  \n",
       "Age:EmbarkedS          6.175e-02  2.958e-02   2.088 0.036802 *  \n",
       "SibSp:Parch            4.844e-01  2.672e-01   1.813 0.069844 .  \n",
       "SibSp:Fare            -9.359e-03  5.350e-03  -1.749 0.080224 .  \n",
       "SibSp:MasterTRUE      -3.031e+01  2.557e+03  -0.012 0.990541    \n",
       "Parch:EmbarkedQ       -9.042e+01  4.998e+03  -0.018 0.985566    \n",
       "Parch:EmbarkedS       -6.099e-01  4.838e-01  -1.261 0.207440    \n",
       "Fare:EmbarkedQ         1.164e+01  6.546e+00   1.778 0.075469 .  \n",
       "Fare:EmbarkedS        -6.391e-03  7.247e-03  -0.882 0.377845    \n",
       "---\n",
       "Signif. codes:  0 '***' 0.001 '**' 0.01 '*' 0.05 '.' 0.1 ' ' 1\n",
       "\n",
       "(Dispersion parameter for binomial family taken to be 1)\n",
       "\n",
       "    Null deviance: 822.73  on 621  degrees of freedom\n",
       "Residual deviance: 400.30  on 593  degrees of freedom\n",
       "AIC: 458.3\n",
       "\n",
       "Number of Fisher Scoring iterations: 17\n"
      ]
     },
     "metadata": {},
     "output_type": "display_data"
    }
   ],
   "source": [
    "summary(log.lm.step1)"
   ]
  },
  {
   "cell_type": "markdown",
   "metadata": {},
   "source": [
    "On voit que la probabilité de survie d'une personne \"Master\" est très élevé que celle qui n'est pas \"Master\""
   ]
  },
  {
   "cell_type": "code",
   "execution_count": 71,
   "metadata": {
    "collapsed": true
   },
   "outputs": [],
   "source": [
    "pred.log=predict(log.lm.step1,newdata=datestd,type=\"response\")"
   ]
  },
  {
   "cell_type": "code",
   "execution_count": 72,
   "metadata": {},
   "outputs": [
    {
     "name": "stdout",
     "output_type": "stream",
     "text": [
      "       \n",
      "        FALSE TRUE\n",
      "  FALSE   140   30\n",
      "  TRUE     20   77\n",
      "[1] \"Taux de bien classés:\"\n",
      "[1] 81.27341\n"
     ]
    }
   ],
   "source": [
    "t <- table(pred.log>0.5,datestd[,\"Survived\"])\n",
    "print(t)\n",
    "print(\"Taux de bien classés:\")\n",
    "Taux_B_Class=1-(t[1,2]+t[2,1])/sum(t)\n",
    "print(Taux_B_Class*100)"
   ]
  },
  {
   "cell_type": "markdown",
   "metadata": {},
   "source": [
    "## D.2 Arbre binire"
   ]
  },
  {
   "cell_type": "code",
   "execution_count": 73,
   "metadata": {},
   "outputs": [
    {
     "data": {
      "image/png": "[encoded data removed]",
      "text/plain": [
       "plot without title"
      ]
     },
     "metadata": {
      "image/png": {
       "height": 420,
       "width": 420
      }
     },
     "output_type": "display_data"
    }
   ],
   "source": [
    "tree.dis <- rpart(Survived ~ ., data = datappr, parms = list(split = \"information\"), cp = 0.001)\n",
    "plot(as.party(tree.dis), type=\"simple\")"
   ]
  },
  {
   "cell_type": "code",
   "execution_count": 74,
   "metadata": {},
   "outputs": [
    {
     "data": {
      "text/html": [
       "<style>\n",
       ".dl-inline {width: auto; margin:0; padding: 0}\n",
       ".dl-inline>dt, .dl-inline>dd {float: none; width: auto; display: inline-block}\n",
       ".dl-inline>dt::after {content: \":\\0020\"; padding-right: .5ex}\n",
       ".dl-inline>dt:not(:first-of-type) {padding-left: .5ex}\n",
       "</style><dl class=dl-inline><dt>0.721030043</dt><dd>0.37459807073955</dd><dt>0.126990769</dt><dd>0.209003215434084</dd><dt>0.025025545</dt><dd>0.205787781350482</dd><dt>0.014017109</dt><dd>0.202572347266881</dd><dt>0.011081497</dt><dd>0.19935691318328</dd><dt>0.009596858</dt><dd>0.19935691318328</dd><dt>0.007835802</dt><dd>0.186495176848875</dd><dt>0.006786004</dt><dd>0.183279742765273</dd><dt>0.002537276</dt><dd>0.186495176848875</dd></dl>\n"
      ],
      "text/latex": [
       "\\begin{description*}\n",
       "\\item[0.721030043] 0.37459807073955\n",
       "\\item[0.126990769] 0.209003215434084\n",
       "\\item[0.025025545] 0.205787781350482\n",
       "\\item[0.014017109] 0.202572347266881\n",
       "\\item[0.011081497] 0.19935691318328\n",
       "\\item[0.009596858] 0.19935691318328\n",
       "\\item[0.007835802] 0.186495176848875\n",
       "\\item[0.006786004] 0.183279742765273\n",
       "\\item[0.002537276] 0.186495176848875\n",
       "\\end{description*}\n"
      ],
      "text/markdown": [
       "0.721030043\n",
       ":   0.374598070739550.126990769\n",
       ":   0.2090032154340840.025025545\n",
       ":   0.2057877813504820.014017109\n",
       ":   0.2025723472668810.011081497\n",
       ":   0.199356913183280.009596858\n",
       ":   0.199356913183280.007835802\n",
       ":   0.1864951768488750.006786004\n",
       ":   0.1832797427652730.002537276\n",
       ":   0.186495176848875\n",
       "\n"
      ],
      "text/plain": [
       "0.721030043 0.126990769 0.025025545 0.014017109 0.011081497 0.009596858 \n",
       "  0.3745981   0.2090032   0.2057878   0.2025723   0.1993569   0.1993569 \n",
       "0.007835802 0.006786004 0.002537276 \n",
       "  0.1864952   0.1832797   0.1864952 "
      ]
     },
     "metadata": {},
     "output_type": "display_data"
    }
   ],
   "source": [
    "xmat <- xpred.rpart(tree.dis)\n",
    "# Comparaison des valeurs prédite et observée\n",
    "xerr <- datappr$Survived != (xmat > 1.5) \n",
    "# Calcul  des estimations des taux d'erreur\n",
    "CVerr <- apply(xerr, 2, sum) / nrow(xerr)\n",
    "CVerr"
   ]
  },
  {
   "cell_type": "code",
   "execution_count": 75,
   "metadata": {},
   "outputs": [
    {
     "data": {
      "image/png": "[encoded data removed]",
      "text/plain": [
       "plot without title"
      ]
     },
     "metadata": {
      "image/png": {
       "height": 420,
       "width": 420
      }
     },
     "output_type": "display_data"
    }
   ],
   "source": [
    "cpMin <- as.numeric(attributes(which.min(CVerr))$names)\n",
    "tree.disMin <- rpart(Survived ~ ., data = datappr, parms = list(split = \"information\"), cp = cpMin)\n",
    "plot(as.party(tree.disMin), type=\"simple\")"
   ]
  },
  {
   "cell_type": "code",
   "execution_count": 76,
   "metadata": {},
   "outputs": [
    {
     "name": "stdout",
     "output_type": "stream",
     "text": [
      "             \n",
      "pred.treeqMin FALSE TRUE\n",
      "        FALSE   141   28\n",
      "        TRUE     19   79\n",
      "[1] \"Taux de bien classés:\"\n",
      "[1] 82.397\n"
     ]
    }
   ],
   "source": [
    "pred.treeqMin <- predict(tree.disMin, newdata = datestd, type = \"class\") \n",
    "t=table(pred.treeqMin, datestd[, \"Survived\"])\n",
    "print(t)\n",
    "print(\"Taux de bien classés:\")\n",
    "Taux_B_Class=1-(t[1,2]+t[2,1])/sum(t)\n",
    "print(Taux_B_Class*100)"
   ]
  },
  {
   "cell_type": "markdown",
   "metadata": {},
   "source": [
    "## D.3 Forêt aléatoire"
   ]
  },
  {
   "cell_type": "code",
   "execution_count": 77,
   "metadata": {},
   "outputs": [
    {
     "name": "stdout",
     "output_type": "stream",
     "text": [
      "ntree      OOB      1      2|    Test      1      2\n",
      " 1000:  15.27%  9.25% 25.32%|  16.85% 10.62% 26.17%\n",
      " 2000:  15.11%  9.00% 25.32%|  16.85% 10.62% 26.17%\n",
      " 3000:  15.27%  9.00% 25.75%|  17.23% 11.25% 26.17%\n",
      " 4000:  15.27%  9.00% 25.75%|  17.60% 11.88% 26.17%\n",
      " 5000:  15.11%  9.00% 25.32%|  17.23% 11.25% 26.17%\n",
      " 6000:  15.27%  9.00% 25.75%|  17.23% 11.25% 26.17%\n",
      " 7000:  15.11%  9.00% 25.32%|  17.23% 11.25% 26.17%\n",
      " 8000:  15.27%  9.00% 25.75%|  17.23% 11.25% 26.17%\n",
      " 9000:  15.27%  9.00% 25.75%|  17.60% 11.88% 26.17%\n",
      "10000:  15.27%  9.00% 25.75%|  17.60% 11.88% 26.17%\n"
     ]
    }
   ],
   "source": [
    "rf.dis.naImp <- randomForest(Survived ~ ., data = datappr, \n",
    "                       xtest = datestd[,-1], ytest = datestd[, \"Survived\"],\n",
    "                       ntree = 10000, do.trace = 1000,mtry=4,importance = TRUE)"
   ]
  },
  {
   "cell_type": "code",
   "execution_count": 78,
   "metadata": {},
   "outputs": [
    {
     "name": "stdout",
     "output_type": "stream",
     "text": [
      "[1] 82.397\n"
     ]
    }
   ],
   "source": [
    "pred.rfqImp <- rf.dis.naImp$test$predicted\n",
    "print(mean(pred.rfqImp == datestd[, \"Survived\"])*100)"
   ]
  },
  {
   "cell_type": "code",
   "execution_count": 79,
   "metadata": {},
   "outputs": [
    {
     "data": {
      "text/plain": [
       "       \n",
       "        FALSE TRUE\n",
       "  FALSE   141   28\n",
       "  TRUE     19   79"
      ]
     },
     "metadata": {},
     "output_type": "display_data"
    }
   ],
   "source": [
    "table(rf.dis.naImp$test$predicted,datestd[, \"Survived\"])"
   ]
  },
  {
   "cell_type": "markdown",
   "metadata": {},
   "source": [
    "#### Importance des variables( Critère Entropie)"
   ]
  },
  {
   "cell_type": "code",
   "execution_count": 80,
   "metadata": {},
   "outputs": [
    {
     "data": {
      "text/html": [
       "<style>\n",
       ".dl-inline {width: auto; margin:0; padding: 0}\n",
       ".dl-inline>dt, .dl-inline>dd {float: none; width: auto; display: inline-block}\n",
       ".dl-inline>dt::after {content: \":\\0020\"; padding-right: .5ex}\n",
       ".dl-inline>dt:not(:first-of-type) {padding-left: .5ex}\n",
       "</style><dl class=dl-inline><dt>Sex</dt><dd>424.33</dd><dt>Pclass</dt><dd>190.67</dd><dt>Fare</dt><dd>176.14</dd><dt>Age</dt><dd>158.91</dd><dt>SibSp</dt><dd>116.16</dd><dt>Master</dt><dd>88.56</dd><dt>Embarked</dt><dd>63.45</dd><dt>Parch</dt><dd>30.22</dd></dl>\n"
      ],
      "text/latex": [
       "\\begin{description*}\n",
       "\\item[Sex] 424.33\n",
       "\\item[Pclass] 190.67\n",
       "\\item[Fare] 176.14\n",
       "\\item[Age] 158.91\n",
       "\\item[SibSp] 116.16\n",
       "\\item[Master] 88.56\n",
       "\\item[Embarked] 63.45\n",
       "\\item[Parch] 30.22\n",
       "\\end{description*}\n"
      ],
      "text/markdown": [
       "Sex\n",
       ":   424.33Pclass\n",
       ":   190.67Fare\n",
       ":   176.14Age\n",
       ":   158.91SibSp\n",
       ":   116.16Master\n",
       ":   88.56Embarked\n",
       ":   63.45Parch\n",
       ":   30.22\n",
       "\n"
      ],
      "text/plain": [
       "     Sex   Pclass     Fare      Age    SibSp   Master Embarked    Parch \n",
       "  424.33   190.67   176.14   158.91   116.16    88.56    63.45    30.22 "
      ]
     },
     "metadata": {},
     "output_type": "display_data"
    }
   ],
   "source": [
    "sort(round(importance(rf.dis.naImp), 2)[,3], decreasing=TRUE)"
   ]
  },
  {
   "cell_type": "markdown",
   "metadata": {},
   "source": [
    "On voit qu'il y a un amélioration sur la performance de nos modèles(surtout pour les modèles régression logistiques) quand on ajoute la nouvelle variable(\"Name)"
   ]
  }
 ],
 "metadata": {
  "colab": {
   "collapsed_sections": [],
   "name": "Projet-Titanic.ipynb",
   "provenance": [],
   "toc_visible": true
  },
  "kernelspec": {
   "display_name": "R",
   "language": "R",
   "name": "ir"
  },
  "language_info": {
   "codemirror_mode": "r",
   "file_extension": ".r",
   "mimetype": "text/x-r-source",
   "name": "R",
   "pygments_lexer": "r",
   "version": "3.6.1"
  },
  "latex_envs": {
   "LaTeX_envs_menu_present": true,
   "autoclose": false,
   "autocomplete": true,
   "bibliofile": "biblio.bib",
   "cite_by": "apalike",
   "current_citInitial": 1,
   "eqLabelWithNumbers": true,
   "eqNumInitial": 1,
   "hotkeys": {
    "equation": "Ctrl-E",
    "itemize": "Ctrl-I"
   },
   "labels_anchors": false,
   "latex_user_defs": false,
   "report_style_numbering": false,
   "user_envs_cfg": false
  }
 },
 "nbformat": 4,
 "nbformat_minor": 1
}
